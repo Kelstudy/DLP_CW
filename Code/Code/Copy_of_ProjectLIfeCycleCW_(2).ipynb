{
  "nbformat": 4,
  "nbformat_minor": 0,
  "metadata": {
    "colab": {
      "provenance": []
    },
    "kernelspec": {
      "name": "python3",
      "display_name": "Python 3"
    },
    "language_info": {
      "name": "python"
    }
  },
  "cells": [
    {
      "cell_type": "code",
      "execution_count": 1,
      "metadata": {
        "id": "MaSJtRu7vmvY"
      },
      "outputs": [],
      "source": [
        "import matplotlib.pyplot as plt\n",
        "import seaborn as sns\n",
        "import pandas as pd\n",
        "from sklearn import preprocessing\n",
        "\n",
        "data = pd.read_excel(\"/content/UoW Data 2024_25.xlsx\", sheet_name=1) #this function openes the second sheet within the excel file"
      ]
    },
    {
      "cell_type": "code",
      "source": [
        "data.info() #i used this function to view if i correctly openend the desired sheet, to view the columns and names, their data types and to view if there are any missing data"
      ],
      "metadata": {
        "id": "6vDPJNzvULn7",
        "colab": {
          "base_uri": "https://localhost:8080/"
        },
        "outputId": "cb14f8c9-5ff6-439a-b973-15b7d97b9918"
      },
      "execution_count": 2,
      "outputs": [
        {
          "output_type": "stream",
          "name": "stdout",
          "text": [
            "<class 'pandas.core.frame.DataFrame'>\n",
            "RangeIndex: 204 entries, 0 to 203\n",
            "Data columns (total 14 columns):\n",
            " #   Column                                                                        Non-Null Count  Dtype \n",
            "---  ------                                                                        --------------  ----- \n",
            " 0   Timestamp                                                                     132 non-null    object\n",
            " 1   Ethnicity                                                                     115 non-null    object\n",
            " 2   Nationality                                                                   112 non-null    object\n",
            " 3   No Of Dependents / Children                                                   100 non-null    object\n",
            " 4   Shoe Size (UK) \n",
            "Please enter a UK shoe size.                                  195 non-null    object\n",
            " 5   What are the shoes needed for?                                                114 non-null    object\n",
            " 6   Employment Status                                                             143 non-null    object\n",
            " 7   Do you receive Universal Credit?                                              114 non-null    object\n",
            " 8   Are you in education or training?                                             114 non-null    object\n",
            " 9   Are you a looked after child or care leaver?                                  114 non-null    object\n",
            " 10  Have you recently been released from prison? (in the last 6 months)           114 non-null    object\n",
            " 11  Are you seeking asylum in the UK? (Refugee)                                   114 non-null    object\n",
            " 12  Do you have a youth or social worker, youth offending or probation officer?   113 non-null    object\n",
            " 13  Where did you hear about Resole?                                              104 non-null    object\n",
            "dtypes: object(14)\n",
            "memory usage: 22.4+ KB\n"
          ]
        }
      ]
    },
    {
      "cell_type": "code",
      "source": [
        "#with this function i rename the colums by shortening them so it is more readable\n",
        "new_column_names = [\n",
        "    'Timestamp',\n",
        "    \"ethnicity\",\n",
        "    \"nationality\",\n",
        "    \"No_Of_Dependents/Children\",\n",
        "    \"uk_shoe_size\",\n",
        "    \"shoe_purpose\",\n",
        "    \"employment_status\",\n",
        "    \"Do_you_receive_Universal_Credit?\",\n",
        "    \"education/training\",\n",
        "    \"looked_after_or_care_leaver\",\n",
        "    \"recently_released_prison(in the last 6 months)\",\n",
        "    \"seeking_asylum\",\n",
        "    \"youth_support\",\n",
        "    \"resole_source\"\n",
        "]\n",
        "data.columns = new_column_names\n",
        "\n",
        "data.to_csv(\"cleaned_data.csv\", index=False)\n",
        "print(\"Data loaded and columns renamed successfully!\")"
      ],
      "metadata": {
        "id": "9QgagT8TahJ2",
        "colab": {
          "base_uri": "https://localhost:8080/"
        },
        "outputId": "3e81853a-6ce3-447c-c31b-0c062bb45992"
      },
      "execution_count": 3,
      "outputs": [
        {
          "output_type": "stream",
          "name": "stdout",
          "text": [
            "Data loaded and columns renamed successfully!\n"
          ]
        }
      ]
    },
    {
      "cell_type": "code",
      "source": [
        "#I have dropped these columns as they are unessary and serve no purpose for our task in hand\n",
        "data = data.drop(columns=(['Timestamp', \"uk_shoe_size\"]))"
      ],
      "metadata": {
        "id": "p9cNzXXbGBGV"
      },
      "execution_count": 4,
      "outputs": []
    },
    {
      "cell_type": "code",
      "source": [
        "#With this code i created a heatmap that identified columns that have mising values\n",
        "missing_values = data.isnull().sum()\n",
        "print(\"Missing values per column:\\n\", missing_values)\n",
        "\n",
        "print(\"Data types:\\n\", data.dtypes)\n",
        "\n",
        "\n",
        "plt.figure(figsize=(12, 6))\n",
        "sns.heatmap(data.isnull(), cbar=False, cmap=\"viridis\", yticklabels=False)\n",
        "plt.title(\"Heatmap of Missing Values\")\n",
        "plt.show()"
      ],
      "metadata": {
        "id": "N5FHMr2sX0-x",
        "colab": {
          "base_uri": "https://localhost:8080/",
          "height": 1000
        },
        "outputId": "1282cca3-9496-4606-9ded-5d10891f84bf"
      },
      "execution_count": 5,
      "outputs": [
        {
          "output_type": "stream",
          "name": "stdout",
          "text": [
            "Missing values per column:\n",
            " ethnicity                                          89\n",
            "nationality                                        92\n",
            "No_Of_Dependents/Children                         104\n",
            "shoe_purpose                                       90\n",
            "employment_status                                  61\n",
            "Do_you_receive_Universal_Credit?                   90\n",
            "education/training                                 90\n",
            "looked_after_or_care_leaver                        90\n",
            "recently_released_prison(in the last 6 months)     90\n",
            "seeking_asylum                                     90\n",
            "youth_support                                      91\n",
            "resole_source                                     100\n",
            "dtype: int64\n",
            "Data types:\n",
            " ethnicity                                         object\n",
            "nationality                                       object\n",
            "No_Of_Dependents/Children                         object\n",
            "shoe_purpose                                      object\n",
            "employment_status                                 object\n",
            "Do_you_receive_Universal_Credit?                  object\n",
            "education/training                                object\n",
            "looked_after_or_care_leaver                       object\n",
            "recently_released_prison(in the last 6 months)    object\n",
            "seeking_asylum                                    object\n",
            "youth_support                                     object\n",
            "resole_source                                     object\n",
            "dtype: object\n"
          ]
        },
        {
          "output_type": "display_data",
          "data": {
            "text/plain": [
              "<Figure size 1200x600 with 1 Axes>"
            ],
            "image/png": "[encoded data removed]"
          },
          "metadata": {}
        }
      ]
    },
    {
      "cell_type": "code",
      "source": [
        "data = data.dropna(thresh=len(data.columns)-3)  #This drops rows with 3 or more missing values (unsalvageable data)"
      ],
      "metadata": {
        "id": "5ygccVKl9eJ6"
      },
      "execution_count": 6,
      "outputs": []
    },
    {
      "cell_type": "code",
      "source": [
        "data.isna().sum()/len(data)*100 #This function informs me of the percentage of missing values per column"
      ],
      "metadata": {
        "id": "HvUCO2ZqYOge",
        "colab": {
          "base_uri": "https://localhost:8080/",
          "height": 460
        },
        "outputId": "3b6dc687-1d3b-486a-dd55-a373435077ed"
      },
      "execution_count": 7,
      "outputs": [
        {
          "output_type": "execute_result",
          "data": {
            "text/plain": [
              "ethnicity                                          7.017544\n",
              "nationality                                        1.754386\n",
              "No_Of_Dependents/Children                         12.280702\n",
              "shoe_purpose                                       0.000000\n",
              "employment_status                                  0.000000\n",
              "Do_you_receive_Universal_Credit?                   0.000000\n",
              "education/training                                 0.000000\n",
              "looked_after_or_care_leaver                        0.000000\n",
              "recently_released_prison(in the last 6 months)     0.000000\n",
              "seeking_asylum                                     0.000000\n",
              "youth_support                                      0.877193\n",
              "resole_source                                      8.771930\n",
              "dtype: float64"
            ],
            "text/html": [
              "<div>\n",
              "<style scoped>\n",
              "    .dataframe tbody tr th:only-of-type {\n",
              "        vertical-align: middle;\n",
              "    }\n",
              "\n",
              "    .dataframe tbody tr th {\n",
              "        vertical-align: top;\n",
              "    }\n",
              "\n",
              "    .dataframe thead th {\n",
              "        text-align: right;\n",
              "    }\n",
              "</style>\n",
              "<table border=\"1\" class=\"dataframe\">\n",
              "  <thead>\n",
              "    <tr style=\"text-align: right;\">\n",
              "      <th></th>\n",
              "      <th>0</th>\n",
              "    </tr>\n",
              "  </thead>\n",
              "  <tbody>\n",
              "    <tr>\n",
              "      <th>ethnicity</th>\n",
              "      <td>7.017544</td>\n",
              "    </tr>\n",
              "    <tr>\n",
              "      <th>nationality</th>\n",
              "      <td>1.754386</td>\n",
              "    </tr>\n",
              "    <tr>\n",
              "      <th>No_Of_Dependents/Children</th>\n",
              "      <td>12.280702</td>\n",
              "    </tr>\n",
              "    <tr>\n",
              "      <th>shoe_purpose</th>\n",
              "      <td>0.000000</td>\n",
              "    </tr>\n",
              "    <tr>\n",
              "      <th>employment_status</th>\n",
              "      <td>0.000000</td>\n",
              "    </tr>\n",
              "    <tr>\n",
              "      <th>Do_you_receive_Universal_Credit?</th>\n",
              "      <td>0.000000</td>\n",
              "    </tr>\n",
              "    <tr>\n",
              "      <th>education/training</th>\n",
              "      <td>0.000000</td>\n",
              "    </tr>\n",
              "    <tr>\n",
              "      <th>looked_after_or_care_leaver</th>\n",
              "      <td>0.000000</td>\n",
              "    </tr>\n",
              "    <tr>\n",
              "      <th>recently_released_prison(in the last 6 months)</th>\n",
              "      <td>0.000000</td>\n",
              "    </tr>\n",
              "    <tr>\n",
              "      <th>seeking_asylum</th>\n",
              "      <td>0.000000</td>\n",
              "    </tr>\n",
              "    <tr>\n",
              "      <th>youth_support</th>\n",
              "      <td>0.877193</td>\n",
              "    </tr>\n",
              "    <tr>\n",
              "      <th>resole_source</th>\n",
              "      <td>8.771930</td>\n",
              "    </tr>\n",
              "  </tbody>\n",
              "</table>\n",
              "</div><br><label><b>dtype:</b> float64</label>"
            ]
          },
          "metadata": {},
          "execution_count": 7
        }
      ]
    },
    {
      "cell_type": "code",
      "source": [
        "#This function shows me all the values within this column so I would be able to standardise the values\n",
        "data[\"No_Of_Dependents/Children\"].unique()"
      ],
      "metadata": {
        "id": "BUdzmtbe_GV0",
        "colab": {
          "base_uri": "https://localhost:8080/"
        },
        "outputId": "fbba69dc-93ba-4125-cac3-4d09cded9d1f"
      },
      "execution_count": 8,
      "outputs": [
        {
          "output_type": "execute_result",
          "data": {
            "text/plain": [
              "array([0, 1, '3 kids', '3 chlid', 3, 'no', 'No', nan, 2, 5, 4, 'Children',\n",
              "       '3 childrens', 'I am alone', 'No '], dtype=object)"
            ]
          },
          "metadata": {},
          "execution_count": 8
        }
      ]
    },
    {
      "cell_type": "code",
      "source": [
        "data.info()"
      ],
      "metadata": {
        "id": "dqAfmMqgByKB",
        "colab": {
          "base_uri": "https://localhost:8080/"
        },
        "outputId": "f76d295a-902b-490e-aa3c-a44692e1b5ac"
      },
      "execution_count": 9,
      "outputs": [
        {
          "output_type": "stream",
          "name": "stdout",
          "text": [
            "<class 'pandas.core.frame.DataFrame'>\n",
            "Index: 114 entries, 89 to 203\n",
            "Data columns (total 12 columns):\n",
            " #   Column                                          Non-Null Count  Dtype \n",
            "---  ------                                          --------------  ----- \n",
            " 0   ethnicity                                       106 non-null    object\n",
            " 1   nationality                                     112 non-null    object\n",
            " 2   No_Of_Dependents/Children                       100 non-null    object\n",
            " 3   shoe_purpose                                    114 non-null    object\n",
            " 4   employment_status                               114 non-null    object\n",
            " 5   Do_you_receive_Universal_Credit?                114 non-null    object\n",
            " 6   education/training                              114 non-null    object\n",
            " 7   looked_after_or_care_leaver                     114 non-null    object\n",
            " 8   recently_released_prison(in the last 6 months)  114 non-null    object\n",
            " 9   seeking_asylum                                  114 non-null    object\n",
            " 10  youth_support                                   113 non-null    object\n",
            " 11  resole_source                                   104 non-null    object\n",
            "dtypes: object(12)\n",
            "memory usage: 11.6+ KB\n"
          ]
        }
      ]
    },
    {
      "cell_type": "code",
      "source": [
        "#MOURAD CODE\n",
        "# #With this block of code i encoded the values\n",
        "# #data['No_Of_Dependents/Children'] = data['No_Of_Dependents/Children'].map({'3 kids': 3, '3 chlid': 3, 'no': 0, 'No': 0, 'No ': 0, 'Children': 1,'3 childrens': 3, 'I am alone': 0, '0': 0, '1': 1, '3': 3, '2': 2, '5': 5, '4': 4,})\n",
        "\n",
        "\n",
        "\n",
        "# data.loc['No_of_Dependents/children'] = data['No_of_Dependents/children'].map({'3 kids': 3, '3 chlid': 3, 'no': 0, 'No': 0, 'No ': 0, 'Children': 1,'3 childrens': 3, 'I am alone': 0, '0': 0, '1': 1, '3': 3, '2': 2, '5': 5, '4': 4,})"
      ],
      "metadata": {
        "id": "vUdQsXmf-5W0"
      },
      "execution_count": 10,
      "outputs": []
    },
    {
      "cell_type": "code",
      "source": [
        "#KELVIN CODE TO FIX DEPENDENTS ENCODING/MAPPING\n",
        "\n",
        "# Convert 'No_Of_Dependents/Children' to string type as encoding without this removes all NaN values\n",
        "data['No_Of_Dependents/Children'] = data['No_Of_Dependents/Children'].astype(str)\n",
        "\n",
        "# Apply the mapping\n",
        "data.loc[:, 'No_Of_Dependents/Children'] = data['No_Of_Dependents/Children'].map({'3 kids': '3', '3 chlid': '3', 'no': '0', 'No': '0', 'No ': '0', 'Children': '1','3 childrens': '3', 'I am alone': '0', '0': '0', '1': '1', '3': '3', '2': '2', '5': '5', '4': '4'})\n",
        "\n",
        "# NEED TO SORT NAN VALUES BEFORE CAN CONVERT THIS COLUMN TO AN INT FOR ANALYSIS\n",
        "\n",
        "data['No_Of_Dependents/Children'].unique()\n",
        "\n",
        "data.isna().sum()/len(data)*100 #This function informs me of the percentage of missing values per column\n",
        "data.info()"
      ],
      "metadata": {
        "id": "HJfqkEMBhgC9",
        "colab": {
          "base_uri": "https://localhost:8080/"
        },
        "outputId": "9f69e86e-936c-4877-8ad9-6d3a3ddecdc7"
      },
      "execution_count": 11,
      "outputs": [
        {
          "output_type": "stream",
          "name": "stdout",
          "text": [
            "<class 'pandas.core.frame.DataFrame'>\n",
            "Index: 114 entries, 89 to 203\n",
            "Data columns (total 12 columns):\n",
            " #   Column                                          Non-Null Count  Dtype \n",
            "---  ------                                          --------------  ----- \n",
            " 0   ethnicity                                       106 non-null    object\n",
            " 1   nationality                                     112 non-null    object\n",
            " 2   No_Of_Dependents/Children                       100 non-null    object\n",
            " 3   shoe_purpose                                    114 non-null    object\n",
            " 4   employment_status                               114 non-null    object\n",
            " 5   Do_you_receive_Universal_Credit?                114 non-null    object\n",
            " 6   education/training                              114 non-null    object\n",
            " 7   looked_after_or_care_leaver                     114 non-null    object\n",
            " 8   recently_released_prison(in the last 6 months)  114 non-null    object\n",
            " 9   seeking_asylum                                  114 non-null    object\n",
            " 10  youth_support                                   113 non-null    object\n",
            " 11  resole_source                                   104 non-null    object\n",
            "dtypes: object(12)\n",
            "memory usage: 11.6+ KB\n"
          ]
        },
        {
          "output_type": "stream",
          "name": "stderr",
          "text": [
            "<ipython-input-11-035dc81e9fd1>:4: SettingWithCopyWarning: \n",
            "A value is trying to be set on a copy of a slice from a DataFrame.\n",
            "Try using .loc[row_indexer,col_indexer] = value instead\n",
            "\n",
            "See the caveats in the documentation: https://pandas.pydata.org/pandas-docs/stable/user_guide/indexing.html#returning-a-view-versus-a-copy\n",
            "  data['No_Of_Dependents/Children'] = data['No_Of_Dependents/Children'].astype(str)\n"
          ]
        }
      ]
    },
    {
      "cell_type": "code",
      "source": [
        "data.info()"
      ],
      "metadata": {
        "id": "OoITUpBFBxfb",
        "colab": {
          "base_uri": "https://localhost:8080/"
        },
        "outputId": "afbc0041-30ee-455f-811d-a746c91e07f9"
      },
      "execution_count": 12,
      "outputs": [
        {
          "output_type": "stream",
          "name": "stdout",
          "text": [
            "<class 'pandas.core.frame.DataFrame'>\n",
            "Index: 114 entries, 89 to 203\n",
            "Data columns (total 12 columns):\n",
            " #   Column                                          Non-Null Count  Dtype \n",
            "---  ------                                          --------------  ----- \n",
            " 0   ethnicity                                       106 non-null    object\n",
            " 1   nationality                                     112 non-null    object\n",
            " 2   No_Of_Dependents/Children                       100 non-null    object\n",
            " 3   shoe_purpose                                    114 non-null    object\n",
            " 4   employment_status                               114 non-null    object\n",
            " 5   Do_you_receive_Universal_Credit?                114 non-null    object\n",
            " 6   education/training                              114 non-null    object\n",
            " 7   looked_after_or_care_leaver                     114 non-null    object\n",
            " 8   recently_released_prison(in the last 6 months)  114 non-null    object\n",
            " 9   seeking_asylum                                  114 non-null    object\n",
            " 10  youth_support                                   113 non-null    object\n",
            " 11  resole_source                                   104 non-null    object\n",
            "dtypes: object(12)\n",
            "memory usage: 11.6+ KB\n"
          ]
        }
      ]
    },
    {
      "cell_type": "code",
      "source": [
        "# I perfomerd this to check if my code was succesfully executed\n",
        "data[\"No_Of_Dependents/Children\"].unique()"
      ],
      "metadata": {
        "id": "Qt3s2oqKAVGM",
        "colab": {
          "base_uri": "https://localhost:8080/"
        },
        "outputId": "d297b9c6-a7a4-4d4f-9619-c6be51df9ac5"
      },
      "execution_count": 13,
      "outputs": [
        {
          "output_type": "execute_result",
          "data": {
            "text/plain": [
              "array(['0', '1', '3', nan, '2', '5', '4'], dtype=object)"
            ]
          },
          "metadata": {},
          "execution_count": 13
        }
      ]
    },
    {
      "cell_type": "code",
      "source": [
        "#This function shows me all the values within this column so I would be able to standardise the values\n",
        "data['ethnicity'].unique()"
      ],
      "metadata": {
        "id": "GKvCwpFBclkf",
        "colab": {
          "base_uri": "https://localhost:8080/"
        },
        "outputId": "1103627e-b821-4562-be7e-82fd3d7d8a18"
      },
      "execution_count": 14,
      "outputs": [
        {
          "output_type": "execute_result",
          "data": {
            "text/plain": [
              "array(['Eritrean', 'Sudanese', 'Latino', nan, 'British', 'Pakistan',\n",
              "       'Iran', 'Filipino', 'German', 'Irish', 'Afghani', 'Ethiopian',\n",
              "       'Black African ', 'Africa ', 'EUROPIAN', 'Black - African',\n",
              "       'Asian', 'Black Caribbean ', 'South Asian', 'Indian', 'English',\n",
              "       'African', 'Cypriot', 'Romanian', 'Caribbean', 'Iranian', 'Polish',\n",
              "       'Arab', 'India', 'Srilankan ', 'Black African', 'White / English',\n",
              "       'Mixed Race ', 'British ', 'Persian', 'Afghan',\n",
              "       'Black  Caribbean ', 'African caribbean british', 'Arab ',\n",
              "       'African caribbean british ', 'African ', 'Caribbean british ',\n",
              "       'Sierra Leonean ', 'Spanish', 'Black', 'Bangladeshi ',\n",
              "       'Black british ', 'Europe mixed raced', 'Afghanistan ',\n",
              "       'South american', 'london', 'Not know', 'White ', 'Afghani ',\n",
              "       'Black British ', 'Mix', 'White', 'Mix black white',\n",
              "       'Balochistan (Pakistan)', 'albanian', 'Africans ',\n",
              "       'Africans  Black ', 'White British', 'male', 'Bangladeshi',\n",
              "       'Arab without kuwait', 'Arabic', 'Black ', 'Kurd', 'Kurdish',\n",
              "       'Mixed', 'British African', 'Latioamericana', 'Irani '],\n",
              "      dtype=object)"
            ]
          },
          "metadata": {},
          "execution_count": 14
        }
      ]
    },
    {
      "cell_type": "code",
      "source": [
        "# this code shoes the distribution of values so i am able to compare the before and after to see if the standardising was executed correctly\n",
        "data['ethnicity'].value_counts()"
      ],
      "metadata": {
        "id": "V_NLNhQb-mpq",
        "colab": {
          "base_uri": "https://localhost:8080/",
          "height": 490
        },
        "outputId": "09080519-2283-4aa3-ff82-fe1068652631"
      },
      "execution_count": 15,
      "outputs": [
        {
          "output_type": "execute_result",
          "data": {
            "text/plain": [
              "ethnicity\n",
              "Asian              5\n",
              "British            4\n",
              "Eritrean           4\n",
              "Black              3\n",
              "White              3\n",
              "                  ..\n",
              "Kurd               1\n",
              "Mixed              1\n",
              "British African    1\n",
              "Latioamericana     1\n",
              "Irani              1\n",
              "Name: count, Length: 73, dtype: int64"
            ],
            "text/html": [
              "<div>\n",
              "<style scoped>\n",
              "    .dataframe tbody tr th:only-of-type {\n",
              "        vertical-align: middle;\n",
              "    }\n",
              "\n",
              "    .dataframe tbody tr th {\n",
              "        vertical-align: top;\n",
              "    }\n",
              "\n",
              "    .dataframe thead th {\n",
              "        text-align: right;\n",
              "    }\n",
              "</style>\n",
              "<table border=\"1\" class=\"dataframe\">\n",
              "  <thead>\n",
              "    <tr style=\"text-align: right;\">\n",
              "      <th></th>\n",
              "      <th>count</th>\n",
              "    </tr>\n",
              "    <tr>\n",
              "      <th>ethnicity</th>\n",
              "      <th></th>\n",
              "    </tr>\n",
              "  </thead>\n",
              "  <tbody>\n",
              "    <tr>\n",
              "      <th>Asian</th>\n",
              "      <td>5</td>\n",
              "    </tr>\n",
              "    <tr>\n",
              "      <th>British</th>\n",
              "      <td>4</td>\n",
              "    </tr>\n",
              "    <tr>\n",
              "      <th>Eritrean</th>\n",
              "      <td>4</td>\n",
              "    </tr>\n",
              "    <tr>\n",
              "      <th>Black</th>\n",
              "      <td>3</td>\n",
              "    </tr>\n",
              "    <tr>\n",
              "      <th>White</th>\n",
              "      <td>3</td>\n",
              "    </tr>\n",
              "    <tr>\n",
              "      <th>...</th>\n",
              "      <td>...</td>\n",
              "    </tr>\n",
              "    <tr>\n",
              "      <th>Kurd</th>\n",
              "      <td>1</td>\n",
              "    </tr>\n",
              "    <tr>\n",
              "      <th>Mixed</th>\n",
              "      <td>1</td>\n",
              "    </tr>\n",
              "    <tr>\n",
              "      <th>British African</th>\n",
              "      <td>1</td>\n",
              "    </tr>\n",
              "    <tr>\n",
              "      <th>Latioamericana</th>\n",
              "      <td>1</td>\n",
              "    </tr>\n",
              "    <tr>\n",
              "      <th>Irani</th>\n",
              "      <td>1</td>\n",
              "    </tr>\n",
              "  </tbody>\n",
              "</table>\n",
              "<p>73 rows × 1 columns</p>\n",
              "</div><br><label><b>dtype:</b> int64</label>"
            ]
          },
          "metadata": {},
          "execution_count": 15
        }
      ]
    },
    {
      "cell_type": "code",
      "source": [
        "#This function shows me all the values within this column so I would be able to standardise the values\n",
        "data['nationality'].unique()"
      ],
      "metadata": {
        "id": "Y8PahSUCeZja",
        "colab": {
          "base_uri": "https://localhost:8080/"
        },
        "outputId": "d4e20925-e471-4b87-e2f5-67ddd82ffaf2"
      },
      "execution_count": 16,
      "outputs": [
        {
          "output_type": "execute_result",
          "data": {
            "text/plain": [
              "array(['British ', 'Refugee Status granted in 2024', 'Venezuelan',\n",
              "       'Asylum seeker', 'Sudanese', 'Pakistani ', 'Iran', 'Spanish',\n",
              "       'German ', 'irish', 'Afghani', 'Iran ', 'Ethiopian ', 'Eritrean ',\n",
              "       nan, 'Chadian ', 'Nigeria ', 'ALBENIAN', 'Mauritian', 'Indian',\n",
              "       'Kittisian/British', 'Afghanistan', 'English', 'African',\n",
              "       'British', 'Romanian', 'Iranian', 'Polish', 'Egypt', 'Srilankan ',\n",
              "       'Nigerian ', 'Congolese ', 'UK national', 'Afghan', 'Sierra leone',\n",
              "       'Brithish', 'Democratic Republic of Congo ', 'Carribean ', 'Uk',\n",
              "       'Brit ', 'Spanish ', 'Iranian ', 'Syrian', 'Asian', 'Not known',\n",
              "       'Afghanistan ', 'Eritrean', 'Brasileiro ', 'Brazilian',\n",
              "       'Motswana0', 'Balochistani', 'albania', 'Gambian', 'Motswana',\n",
              "       'Motswana ', 'Syria ', 'Yemen', 'Kuwait', 'Jordanian', 'Namibian',\n",
              "       'Iraqi', 'Italian ', 'SOMALI', 'Colombia ', 'Ethiopian'],\n",
              "      dtype=object)"
            ]
          },
          "metadata": {},
          "execution_count": 16
        }
      ]
    },
    {
      "cell_type": "code",
      "source": [
        "# this code shoes the distribution of values so i am able to compare the before and after to see if the standardising was executed correctly\n",
        "data['nationality'].value_counts()"
      ],
      "metadata": {
        "id": "4CZIBHZ6-s3P",
        "colab": {
          "base_uri": "https://localhost:8080/",
          "height": 490
        },
        "outputId": "4d9db0e6-f745-40ef-8bfc-e205bc99433f"
      },
      "execution_count": 17,
      "outputs": [
        {
          "output_type": "execute_result",
          "data": {
            "text/plain": [
              "nationality\n",
              "British         19\n",
              "British          8\n",
              "Iranian          5\n",
              "Indian           4\n",
              "Afghanistan      4\n",
              "                ..\n",
              "Namibian         1\n",
              "Italian          1\n",
              "SOMALI           1\n",
              "Colombia         1\n",
              "Ethiopian        1\n",
              "Name: count, Length: 64, dtype: int64"
            ],
            "text/html": [
              "<div>\n",
              "<style scoped>\n",
              "    .dataframe tbody tr th:only-of-type {\n",
              "        vertical-align: middle;\n",
              "    }\n",
              "\n",
              "    .dataframe tbody tr th {\n",
              "        vertical-align: top;\n",
              "    }\n",
              "\n",
              "    .dataframe thead th {\n",
              "        text-align: right;\n",
              "    }\n",
              "</style>\n",
              "<table border=\"1\" class=\"dataframe\">\n",
              "  <thead>\n",
              "    <tr style=\"text-align: right;\">\n",
              "      <th></th>\n",
              "      <th>count</th>\n",
              "    </tr>\n",
              "    <tr>\n",
              "      <th>nationality</th>\n",
              "      <th></th>\n",
              "    </tr>\n",
              "  </thead>\n",
              "  <tbody>\n",
              "    <tr>\n",
              "      <th>British</th>\n",
              "      <td>19</td>\n",
              "    </tr>\n",
              "    <tr>\n",
              "      <th>British</th>\n",
              "      <td>8</td>\n",
              "    </tr>\n",
              "    <tr>\n",
              "      <th>Iranian</th>\n",
              "      <td>5</td>\n",
              "    </tr>\n",
              "    <tr>\n",
              "      <th>Indian</th>\n",
              "      <td>4</td>\n",
              "    </tr>\n",
              "    <tr>\n",
              "      <th>Afghanistan</th>\n",
              "      <td>4</td>\n",
              "    </tr>\n",
              "    <tr>\n",
              "      <th>...</th>\n",
              "      <td>...</td>\n",
              "    </tr>\n",
              "    <tr>\n",
              "      <th>Namibian</th>\n",
              "      <td>1</td>\n",
              "    </tr>\n",
              "    <tr>\n",
              "      <th>Italian</th>\n",
              "      <td>1</td>\n",
              "    </tr>\n",
              "    <tr>\n",
              "      <th>SOMALI</th>\n",
              "      <td>1</td>\n",
              "    </tr>\n",
              "    <tr>\n",
              "      <th>Colombia</th>\n",
              "      <td>1</td>\n",
              "    </tr>\n",
              "    <tr>\n",
              "      <th>Ethiopian</th>\n",
              "      <td>1</td>\n",
              "    </tr>\n",
              "  </tbody>\n",
              "</table>\n",
              "<p>64 rows × 1 columns</p>\n",
              "</div><br><label><b>dtype:</b> int64</label>"
            ]
          },
          "metadata": {},
          "execution_count": 17
        }
      ]
    },
    {
      "cell_type": "code",
      "source": [
        "#with this code i mapped the ethnicity and nationality columns to standardise them\n",
        "\n",
        "ethnicity_mapping = {\n",
        "    \"Asian or Asian British\": [\"Asian\", \"South Asian\", \"Pakistan\", \"Balochistan (Pakistan)\", \"India\", \"Indian\", \"Bangladeshi\", \"Bangladeshi \", \"Filipino\", \"Srilankan \"],\n",
        "\n",
        "    \"Black, Black British, Caribbean or African\": [\"British African\", \"African caribbean british\", \"African\", \"African caribbean british \", \"Caribbean british \", \"Caribbean\", \"Black \",\n",
        "                                                   \"Black Caribbean \", \"Black African\", \"Black African \", \"Black British \", \"Black british \", \"Black - African\",\n",
        "                                                   \"Africa \", \"Africans \", \"African \", \"Sierra Leonean \", \"Eritrean\", \"Ethiopian\", \"Sudanese\", \"Africans  Black \", \"Black\", \"Black  Caribbean \"],\n",
        "\n",
        "    \"Mixed or Multiple Ethnic Groups\": [\"Mixed\", \"Mixed Race \", \"Mix\", \"Mix black white\", \"Europe mixed raced\"],\n",
        "\n",
        "    \"White\": [\"British\", \"British \", \"White\", \"White \", \"White / English\", \"White British\", \"EUROPIAN\", \"English\", \"Irish\", \"German\", \"Romanian\", \"Polish\", \"Spanish\", \"albanian\", \"Cypriot\"],\n",
        "\n",
        "    \"Other Ethnic Groups\": [\"Kurdish\", \"Kurd\", \"Irani \", \"Iran\", \"Persian\", \"Iranian\", \"Arab\", \"Arab \", \"Arab without kuwait\", \"Arabic\", \"South american\", \"Latino\", \"Latioamericana\", \"Afghani\", \"Afghani \", \"Afghanistan \", \"Afghan\"],\n",
        "\n",
        "    \"Unknown\": [\"Not know\", \"male\", \"london\"]\n",
        "\n",
        "\n",
        "}\n",
        "\n",
        "nationality_mapping = {\n",
        "\n",
        "    \"Asian\": [\"Asian\"],\n",
        "\n",
        "    \"Afghanistan\" : [\"Afghan\", \"Afghani\", \"Afghanistan\", \"Afghanistan \"],\n",
        "\n",
        "    \"Pakistani\" : [\"Pakistani \", \"Balochistani\"],\n",
        "\n",
        "    \"Indian\" : [\"Indian\"],\n",
        "\n",
        "    \"Srilankan\" : [\"Srilankan \"],\n",
        "\n",
        "    \"Carribea\": [\"Carribean \"],\n",
        "\n",
        "    \"Gambian\": [\"Gambian\"],\n",
        "\n",
        "    \"Mauritian\": [\"Mauritian\"],\n",
        "\n",
        "    \"Congolese\": [\"Congolese \", \"Democratic Republic of Congo \"],\n",
        "\n",
        "    \"Chadian\": [\"Chadian \"],\n",
        "\n",
        "    \"Somali\": [\"SOMALI\"],\n",
        "\n",
        "    \"Sierra Leonean\": [\"Sierra leone\"],\n",
        "\n",
        "    \"Eritrean\": [\"Eritrean \", \"Eritrean\"],\n",
        "\n",
        "    \"Ethiopian\": [\"Ethiopian \", \"Ethiopian\"],\n",
        "\n",
        "    \"Sudanese\": [\"Sudanese \"],\n",
        "\n",
        "    \"Botswanaan\": [\"Motswana \", \"Motswana0\", \"Motswana\"],\n",
        "\n",
        "    \"Namibian\": [\"Namibian\"],\n",
        "\n",
        "    \"Egypt\": [\"Egypt\"],\n",
        "\n",
        "    \"Nigera\": [\"Nigerian \", \"Nigeria \"],\n",
        "\n",
        "    \"German\": [\"German \"],\n",
        "\n",
        "    \"Spanish\": [\"Spanish \", \"Spanish\"],\n",
        "\n",
        "    \"Italian\": [\"Italian \"],\n",
        "\n",
        "    \"Albanian\": [\"Albanian\", \"ALBENIAN\", \"albania\"],\n",
        "\n",
        "    \"British\": [\"Kittisian/British\", \"British\", \"British \", \"Brithish\", \"Brit \", \"English\", \"UK national\", \"Uk\"],\n",
        "\n",
        "    \"Irish\": [\"irish\"],\n",
        "\n",
        "    \"Romania\": [\"Romanian\"],\n",
        "\n",
        "    \"Polish\": [\"Polish\"],\n",
        "\n",
        "    \"Iran\": [\"Iranian \", \"Iranian\", \"Iran\", \"Iran \"],\n",
        "\n",
        "    \"Kuwait\": [\"Kuwait\"],\n",
        "\n",
        "    \"Jordanian\": [\"Jordanian\"],\n",
        "\n",
        "    \"Iraqi\": [\"Iraqi\"],\n",
        "\n",
        "    \"Syrian\": [\"Syrian\", \"Syria \"],\n",
        "\n",
        "    \"Yemen\": [\"Yemen\"],\n",
        "\n",
        "    \"Brazil\": [\"Brasileiro \", \"Brazilian\"],\n",
        "\n",
        "    \"Colombian\": [\"Colombia \"],\n",
        "\n",
        "    \"Venezuelan\": [\"Venezuelan\"],\n",
        "\n",
        "    \"Unknown\": [\"Refugee Status granted in 2024\", \"Asylum seeker\", \"Not known\"]\n",
        "\n",
        "}\n",
        "\n",
        "\n",
        "def standardize_column_values(column, mapping):\n",
        "    for standard, variants in mapping.items():\n",
        "        column = column.replace(variants, standard)\n",
        "    return column\n",
        "\n",
        "\n",
        "data[\"ethnicity\"] = standardize_column_values(data[\"ethnicity\"], ethnicity_mapping)\n",
        "data[\"nationality\"] = standardize_column_values(data[\"nationality\"], nationality_mapping)\n",
        "\n",
        "\n",
        "cleaned_file_path = \"/content/cleaned_data.csv\"\n",
        "data.to_csv(cleaned_file_path, index=False)\n",
        "\n",
        "cleaned_file_path"
      ],
      "metadata": {
        "id": "NSr_QrUb7Mh0",
        "colab": {
          "base_uri": "https://localhost:8080/",
          "height": 36
        },
        "outputId": "2341497e-f258-40ab-9c31-76c5d906a5f3"
      },
      "execution_count": 18,
      "outputs": [
        {
          "output_type": "execute_result",
          "data": {
            "text/plain": [
              "'/content/cleaned_data.csv'"
            ],
            "application/vnd.google.colaboratory.intrinsic+json": {
              "type": "string"
            }
          },
          "metadata": {},
          "execution_count": 18
        }
      ]
    },
    {
      "cell_type": "code",
      "source": [
        "# I perfomerd this to check if my code was succesfully executed\n",
        "data['ethnicity'].unique()"
      ],
      "metadata": {
        "id": "TQ4hsiyuembf",
        "colab": {
          "base_uri": "https://localhost:8080/"
        },
        "outputId": "bf14a34f-b5e9-415b-ca06-50df3b99e0ca"
      },
      "execution_count": 19,
      "outputs": [
        {
          "output_type": "execute_result",
          "data": {
            "text/plain": [
              "array(['Black, Black British, Caribbean or African',\n",
              "       'Other Ethnic Groups', nan, 'White', 'Asian or Asian British',\n",
              "       'Mixed or Multiple Ethnic Groups', 'Unknown'], dtype=object)"
            ]
          },
          "metadata": {},
          "execution_count": 19
        }
      ]
    },
    {
      "cell_type": "code",
      "source": [
        "# I perfomerd this to check if my code was succesfully executed\n",
        "data['ethnicity'].value_counts()"
      ],
      "metadata": {
        "id": "BbtZNnwz-u3g",
        "colab": {
          "base_uri": "https://localhost:8080/",
          "height": 304
        },
        "outputId": "1ef46fdc-979e-4905-93df-c04fc7d0f868"
      },
      "execution_count": 20,
      "outputs": [
        {
          "output_type": "execute_result",
          "data": {
            "text/plain": [
              "ethnicity\n",
              "Black, Black British, Caribbean or African    36\n",
              "Other Ethnic Groups                           28\n",
              "White                                         20\n",
              "Asian or Asian British                        14\n",
              "Mixed or Multiple Ethnic Groups                5\n",
              "Unknown                                        3\n",
              "Name: count, dtype: int64"
            ],
            "text/html": [
              "<div>\n",
              "<style scoped>\n",
              "    .dataframe tbody tr th:only-of-type {\n",
              "        vertical-align: middle;\n",
              "    }\n",
              "\n",
              "    .dataframe tbody tr th {\n",
              "        vertical-align: top;\n",
              "    }\n",
              "\n",
              "    .dataframe thead th {\n",
              "        text-align: right;\n",
              "    }\n",
              "</style>\n",
              "<table border=\"1\" class=\"dataframe\">\n",
              "  <thead>\n",
              "    <tr style=\"text-align: right;\">\n",
              "      <th></th>\n",
              "      <th>count</th>\n",
              "    </tr>\n",
              "    <tr>\n",
              "      <th>ethnicity</th>\n",
              "      <th></th>\n",
              "    </tr>\n",
              "  </thead>\n",
              "  <tbody>\n",
              "    <tr>\n",
              "      <th>Black, Black British, Caribbean or African</th>\n",
              "      <td>36</td>\n",
              "    </tr>\n",
              "    <tr>\n",
              "      <th>Other Ethnic Groups</th>\n",
              "      <td>28</td>\n",
              "    </tr>\n",
              "    <tr>\n",
              "      <th>White</th>\n",
              "      <td>20</td>\n",
              "    </tr>\n",
              "    <tr>\n",
              "      <th>Asian or Asian British</th>\n",
              "      <td>14</td>\n",
              "    </tr>\n",
              "    <tr>\n",
              "      <th>Mixed or Multiple Ethnic Groups</th>\n",
              "      <td>5</td>\n",
              "    </tr>\n",
              "    <tr>\n",
              "      <th>Unknown</th>\n",
              "      <td>3</td>\n",
              "    </tr>\n",
              "  </tbody>\n",
              "</table>\n",
              "</div><br><label><b>dtype:</b> int64</label>"
            ]
          },
          "metadata": {},
          "execution_count": 20
        }
      ]
    },
    {
      "cell_type": "code",
      "source": [
        "# I perfomerd this to check if my code was succesfully executed\n",
        "data['nationality'].unique()"
      ],
      "metadata": {
        "id": "lnFKYFCkeqcR",
        "colab": {
          "base_uri": "https://localhost:8080/"
        },
        "outputId": "8d62ccc5-e2f2-4b40-c175-f03ea4b5cffd"
      },
      "execution_count": 21,
      "outputs": [
        {
          "output_type": "execute_result",
          "data": {
            "text/plain": [
              "array(['British', 'Unknown', 'Venezuelan', 'Sudanese', 'Pakistani',\n",
              "       'Iran', 'Spanish', 'German', 'Irish', 'Afghanistan', 'Ethiopian',\n",
              "       'Eritrean', nan, 'Chadian', 'Nigera', 'Albanian', 'Mauritian',\n",
              "       'Indian', 'African', 'Romania', 'Polish', 'Egypt', 'Srilankan',\n",
              "       'Congolese', 'Sierra Leonean', 'Carribea', 'Syrian', 'Asian',\n",
              "       'Brazil', 'Botswanaan', 'Gambian', 'Yemen', 'Kuwait', 'Jordanian',\n",
              "       'Namibian', 'Iraqi', 'Italian', 'Somali', 'Colombian'],\n",
              "      dtype=object)"
            ]
          },
          "metadata": {},
          "execution_count": 21
        }
      ]
    },
    {
      "cell_type": "code",
      "source": [
        "# I perfomerd this to check if my code was succesfully executed\n",
        "data['nationality'].value_counts()"
      ],
      "metadata": {
        "id": "4lYDU0bF-urG",
        "colab": {
          "base_uri": "https://localhost:8080/",
          "height": 1000
        },
        "outputId": "fae0fe69-97d6-4728-d016-10abc9ac4d25"
      },
      "execution_count": 22,
      "outputs": [
        {
          "output_type": "execute_result",
          "data": {
            "text/plain": [
              "nationality\n",
              "British           34\n",
              "Iran               9\n",
              "Afghanistan        9\n",
              "Unknown            4\n",
              "Eritrean           4\n",
              "Indian             4\n",
              "Spanish            3\n",
              "Botswanaan         3\n",
              "Pakistani          3\n",
              "Nigera             3\n",
              "Iraqi              3\n",
              "Brazil             2\n",
              "Congolese          2\n",
              "Ethiopian          2\n",
              "Albanian           2\n",
              "Jordanian          2\n",
              "Syrian             2\n",
              "Sudanese           1\n",
              "Venezuelan         1\n",
              "Irish              1\n",
              "Chadian            1\n",
              "German             1\n",
              "Srilankan          1\n",
              "Egypt              1\n",
              "Polish             1\n",
              "Romania            1\n",
              "African            1\n",
              "Mauritian          1\n",
              "Carribea           1\n",
              "Sierra Leonean     1\n",
              "Gambian            1\n",
              "Asian              1\n",
              "Kuwait             1\n",
              "Yemen              1\n",
              "Namibian           1\n",
              "Italian            1\n",
              "Somali             1\n",
              "Colombian          1\n",
              "Name: count, dtype: int64"
            ],
            "text/html": [
              "<div>\n",
              "<style scoped>\n",
              "    .dataframe tbody tr th:only-of-type {\n",
              "        vertical-align: middle;\n",
              "    }\n",
              "\n",
              "    .dataframe tbody tr th {\n",
              "        vertical-align: top;\n",
              "    }\n",
              "\n",
              "    .dataframe thead th {\n",
              "        text-align: right;\n",
              "    }\n",
              "</style>\n",
              "<table border=\"1\" class=\"dataframe\">\n",
              "  <thead>\n",
              "    <tr style=\"text-align: right;\">\n",
              "      <th></th>\n",
              "      <th>count</th>\n",
              "    </tr>\n",
              "    <tr>\n",
              "      <th>nationality</th>\n",
              "      <th></th>\n",
              "    </tr>\n",
              "  </thead>\n",
              "  <tbody>\n",
              "    <tr>\n",
              "      <th>British</th>\n",
              "      <td>34</td>\n",
              "    </tr>\n",
              "    <tr>\n",
              "      <th>Iran</th>\n",
              "      <td>9</td>\n",
              "    </tr>\n",
              "    <tr>\n",
              "      <th>Afghanistan</th>\n",
              "      <td>9</td>\n",
              "    </tr>\n",
              "    <tr>\n",
              "      <th>Unknown</th>\n",
              "      <td>4</td>\n",
              "    </tr>\n",
              "    <tr>\n",
              "      <th>Eritrean</th>\n",
              "      <td>4</td>\n",
              "    </tr>\n",
              "    <tr>\n",
              "      <th>Indian</th>\n",
              "      <td>4</td>\n",
              "    </tr>\n",
              "    <tr>\n",
              "      <th>Spanish</th>\n",
              "      <td>3</td>\n",
              "    </tr>\n",
              "    <tr>\n",
              "      <th>Botswanaan</th>\n",
              "      <td>3</td>\n",
              "    </tr>\n",
              "    <tr>\n",
              "      <th>Pakistani</th>\n",
              "      <td>3</td>\n",
              "    </tr>\n",
              "    <tr>\n",
              "      <th>Nigera</th>\n",
              "      <td>3</td>\n",
              "    </tr>\n",
              "    <tr>\n",
              "      <th>Iraqi</th>\n",
              "      <td>3</td>\n",
              "    </tr>\n",
              "    <tr>\n",
              "      <th>Brazil</th>\n",
              "      <td>2</td>\n",
              "    </tr>\n",
              "    <tr>\n",
              "      <th>Congolese</th>\n",
              "      <td>2</td>\n",
              "    </tr>\n",
              "    <tr>\n",
              "      <th>Ethiopian</th>\n",
              "      <td>2</td>\n",
              "    </tr>\n",
              "    <tr>\n",
              "      <th>Albanian</th>\n",
              "      <td>2</td>\n",
              "    </tr>\n",
              "    <tr>\n",
              "      <th>Jordanian</th>\n",
              "      <td>2</td>\n",
              "    </tr>\n",
              "    <tr>\n",
              "      <th>Syrian</th>\n",
              "      <td>2</td>\n",
              "    </tr>\n",
              "    <tr>\n",
              "      <th>Sudanese</th>\n",
              "      <td>1</td>\n",
              "    </tr>\n",
              "    <tr>\n",
              "      <th>Venezuelan</th>\n",
              "      <td>1</td>\n",
              "    </tr>\n",
              "    <tr>\n",
              "      <th>Irish</th>\n",
              "      <td>1</td>\n",
              "    </tr>\n",
              "    <tr>\n",
              "      <th>Chadian</th>\n",
              "      <td>1</td>\n",
              "    </tr>\n",
              "    <tr>\n",
              "      <th>German</th>\n",
              "      <td>1</td>\n",
              "    </tr>\n",
              "    <tr>\n",
              "      <th>Srilankan</th>\n",
              "      <td>1</td>\n",
              "    </tr>\n",
              "    <tr>\n",
              "      <th>Egypt</th>\n",
              "      <td>1</td>\n",
              "    </tr>\n",
              "    <tr>\n",
              "      <th>Polish</th>\n",
              "      <td>1</td>\n",
              "    </tr>\n",
              "    <tr>\n",
              "      <th>Romania</th>\n",
              "      <td>1</td>\n",
              "    </tr>\n",
              "    <tr>\n",
              "      <th>African</th>\n",
              "      <td>1</td>\n",
              "    </tr>\n",
              "    <tr>\n",
              "      <th>Mauritian</th>\n",
              "      <td>1</td>\n",
              "    </tr>\n",
              "    <tr>\n",
              "      <th>Carribea</th>\n",
              "      <td>1</td>\n",
              "    </tr>\n",
              "    <tr>\n",
              "      <th>Sierra Leonean</th>\n",
              "      <td>1</td>\n",
              "    </tr>\n",
              "    <tr>\n",
              "      <th>Gambian</th>\n",
              "      <td>1</td>\n",
              "    </tr>\n",
              "    <tr>\n",
              "      <th>Asian</th>\n",
              "      <td>1</td>\n",
              "    </tr>\n",
              "    <tr>\n",
              "      <th>Kuwait</th>\n",
              "      <td>1</td>\n",
              "    </tr>\n",
              "    <tr>\n",
              "      <th>Yemen</th>\n",
              "      <td>1</td>\n",
              "    </tr>\n",
              "    <tr>\n",
              "      <th>Namibian</th>\n",
              "      <td>1</td>\n",
              "    </tr>\n",
              "    <tr>\n",
              "      <th>Italian</th>\n",
              "      <td>1</td>\n",
              "    </tr>\n",
              "    <tr>\n",
              "      <th>Somali</th>\n",
              "      <td>1</td>\n",
              "    </tr>\n",
              "    <tr>\n",
              "      <th>Colombian</th>\n",
              "      <td>1</td>\n",
              "    </tr>\n",
              "  </tbody>\n",
              "</table>\n",
              "</div><br><label><b>dtype:</b> int64</label>"
            ]
          },
          "metadata": {},
          "execution_count": 22
        }
      ]
    },
    {
      "cell_type": "code",
      "source": [
        "#This function shows me all the values within this column so I would be able to standardise the values\n",
        "data['Do_you_receive_Universal_Credit?'].unique()"
      ],
      "metadata": {
        "id": "W5llx9lwzAux",
        "colab": {
          "base_uri": "https://localhost:8080/"
        },
        "outputId": "6c42dca5-8aca-42c5-a55c-fc1b8140e812"
      },
      "execution_count": 23,
      "outputs": [
        {
          "output_type": "execute_result",
          "data": {
            "text/plain": [
              "array(['Yes', 'No'], dtype=object)"
            ]
          },
          "metadata": {},
          "execution_count": 23
        }
      ]
    },
    {
      "cell_type": "code",
      "source": [
        "# this code shoWs the distribution of values so i am able to compare the before and after to see if the standardising was executed correctly\n",
        "data['Do_you_receive_Universal_Credit?'].value_counts()"
      ],
      "metadata": {
        "id": "O7CICkXE6Q4j",
        "colab": {
          "base_uri": "https://localhost:8080/",
          "height": 178
        },
        "outputId": "71f57410-9187-47d9-9b51-04ff6d0c42c9"
      },
      "execution_count": 24,
      "outputs": [
        {
          "output_type": "execute_result",
          "data": {
            "text/plain": [
              "Do_you_receive_Universal_Credit?\n",
              "No     63\n",
              "Yes    51\n",
              "Name: count, dtype: int64"
            ],
            "text/html": [
              "<div>\n",
              "<style scoped>\n",
              "    .dataframe tbody tr th:only-of-type {\n",
              "        vertical-align: middle;\n",
              "    }\n",
              "\n",
              "    .dataframe tbody tr th {\n",
              "        vertical-align: top;\n",
              "    }\n",
              "\n",
              "    .dataframe thead th {\n",
              "        text-align: right;\n",
              "    }\n",
              "</style>\n",
              "<table border=\"1\" class=\"dataframe\">\n",
              "  <thead>\n",
              "    <tr style=\"text-align: right;\">\n",
              "      <th></th>\n",
              "      <th>count</th>\n",
              "    </tr>\n",
              "    <tr>\n",
              "      <th>Do_you_receive_Universal_Credit?</th>\n",
              "      <th></th>\n",
              "    </tr>\n",
              "  </thead>\n",
              "  <tbody>\n",
              "    <tr>\n",
              "      <th>No</th>\n",
              "      <td>63</td>\n",
              "    </tr>\n",
              "    <tr>\n",
              "      <th>Yes</th>\n",
              "      <td>51</td>\n",
              "    </tr>\n",
              "  </tbody>\n",
              "</table>\n",
              "</div><br><label><b>dtype:</b> int64</label>"
            ]
          },
          "metadata": {},
          "execution_count": 24
        }
      ]
    },
    {
      "cell_type": "code",
      "source": [
        "#This function shows me all the values within this column so I would be able to standardise the values\n",
        "data['recently_released_prison(in the last 6 months)'].unique()"
      ],
      "metadata": {
        "id": "k2Q8DLnwziAo",
        "colab": {
          "base_uri": "https://localhost:8080/"
        },
        "outputId": "9556d6da-8f39-4dca-96a2-8e4ad6248cd9"
      },
      "execution_count": 25,
      "outputs": [
        {
          "output_type": "execute_result",
          "data": {
            "text/plain": [
              "array(['No', 'Yes'], dtype=object)"
            ]
          },
          "metadata": {},
          "execution_count": 25
        }
      ]
    },
    {
      "cell_type": "code",
      "source": [
        "# this code shoes the distribution of values so i am able to compare the before and after to see if the standardising was executed correctly\n",
        "data['recently_released_prison(in the last 6 months)'].value_counts()"
      ],
      "metadata": {
        "id": "BX2lydwI6QAV",
        "colab": {
          "base_uri": "https://localhost:8080/",
          "height": 178
        },
        "outputId": "3a1e8140-e4a1-4ab1-c43c-673f384117f5"
      },
      "execution_count": 26,
      "outputs": [
        {
          "output_type": "execute_result",
          "data": {
            "text/plain": [
              "recently_released_prison(in the last 6 months)\n",
              "No     112\n",
              "Yes      2\n",
              "Name: count, dtype: int64"
            ],
            "text/html": [
              "<div>\n",
              "<style scoped>\n",
              "    .dataframe tbody tr th:only-of-type {\n",
              "        vertical-align: middle;\n",
              "    }\n",
              "\n",
              "    .dataframe tbody tr th {\n",
              "        vertical-align: top;\n",
              "    }\n",
              "\n",
              "    .dataframe thead th {\n",
              "        text-align: right;\n",
              "    }\n",
              "</style>\n",
              "<table border=\"1\" class=\"dataframe\">\n",
              "  <thead>\n",
              "    <tr style=\"text-align: right;\">\n",
              "      <th></th>\n",
              "      <th>count</th>\n",
              "    </tr>\n",
              "    <tr>\n",
              "      <th>recently_released_prison(in the last 6 months)</th>\n",
              "      <th></th>\n",
              "    </tr>\n",
              "  </thead>\n",
              "  <tbody>\n",
              "    <tr>\n",
              "      <th>No</th>\n",
              "      <td>112</td>\n",
              "    </tr>\n",
              "    <tr>\n",
              "      <th>Yes</th>\n",
              "      <td>2</td>\n",
              "    </tr>\n",
              "  </tbody>\n",
              "</table>\n",
              "</div><br><label><b>dtype:</b> int64</label>"
            ]
          },
          "metadata": {},
          "execution_count": 26
        }
      ]
    },
    {
      "cell_type": "code",
      "source": [
        "#This function shows me all the values within this column so I would be able to standardise the values\n",
        "data['education/training'].unique()"
      ],
      "metadata": {
        "id": "Wrqb6jTMzIQf",
        "colab": {
          "base_uri": "https://localhost:8080/"
        },
        "outputId": "ab09dfd5-e1e4-491c-cfdf-f5f69657295b"
      },
      "execution_count": 27,
      "outputs": [
        {
          "output_type": "execute_result",
          "data": {
            "text/plain": [
              "array(['No', 'Yes', 'Asylum seeker ', 'asylum seeker',\n",
              "       'Voluntary work in the charity sector ', 'Gym ',\n",
              "       'Just started a CSC 4 week course.',\n",
              "       'starting at West London College Hammersmith next week',\n",
              "       'Finalising my foundation in music therapy for people with dementia. I can assist music therapists or do music freelancing work with seniors',\n",
              "       'Not yet still waiting to do English ', 'Im on  the waiting list',\n",
              "       'Im in the waiting list', 'Croydon College ', 'ESOL'], dtype=object)"
            ]
          },
          "metadata": {},
          "execution_count": 27
        }
      ]
    },
    {
      "cell_type": "code",
      "source": [
        "# this code shoes the distribution of values so i am able to compare the before and after to see if the standardising was executed correctly\n",
        "data['education/training'].value_counts()"
      ],
      "metadata": {
        "id": "-C-P5GaW6Og1",
        "colab": {
          "base_uri": "https://localhost:8080/",
          "height": 555
        },
        "outputId": "1e4bd0bd-171a-4519-ae32-d90d0c24bd74"
      },
      "execution_count": 28,
      "outputs": [
        {
          "output_type": "execute_result",
          "data": {
            "text/plain": [
              "education/training\n",
              "No                                                                                                                                             72\n",
              "Yes                                                                                                                                            30\n",
              "Asylum seeker                                                                                                                                   1\n",
              "asylum seeker                                                                                                                                   1\n",
              "Voluntary work in the charity sector                                                                                                            1\n",
              "Gym                                                                                                                                             1\n",
              "Just started a CSC 4 week course.                                                                                                               1\n",
              "starting at West London College Hammersmith next week                                                                                           1\n",
              "Finalising my foundation in music therapy for people with dementia. I can assist music therapists or do music freelancing work with seniors     1\n",
              "Not yet still waiting to do English                                                                                                             1\n",
              "Im on  the waiting list                                                                                                                         1\n",
              "Im in the waiting list                                                                                                                          1\n",
              "Croydon College                                                                                                                                 1\n",
              "ESOL                                                                                                                                            1\n",
              "Name: count, dtype: int64"
            ],
            "text/html": [
              "<div>\n",
              "<style scoped>\n",
              "    .dataframe tbody tr th:only-of-type {\n",
              "        vertical-align: middle;\n",
              "    }\n",
              "\n",
              "    .dataframe tbody tr th {\n",
              "        vertical-align: top;\n",
              "    }\n",
              "\n",
              "    .dataframe thead th {\n",
              "        text-align: right;\n",
              "    }\n",
              "</style>\n",
              "<table border=\"1\" class=\"dataframe\">\n",
              "  <thead>\n",
              "    <tr style=\"text-align: right;\">\n",
              "      <th></th>\n",
              "      <th>count</th>\n",
              "    </tr>\n",
              "    <tr>\n",
              "      <th>education/training</th>\n",
              "      <th></th>\n",
              "    </tr>\n",
              "  </thead>\n",
              "  <tbody>\n",
              "    <tr>\n",
              "      <th>No</th>\n",
              "      <td>72</td>\n",
              "    </tr>\n",
              "    <tr>\n",
              "      <th>Yes</th>\n",
              "      <td>30</td>\n",
              "    </tr>\n",
              "    <tr>\n",
              "      <th>Asylum seeker</th>\n",
              "      <td>1</td>\n",
              "    </tr>\n",
              "    <tr>\n",
              "      <th>asylum seeker</th>\n",
              "      <td>1</td>\n",
              "    </tr>\n",
              "    <tr>\n",
              "      <th>Voluntary work in the charity sector</th>\n",
              "      <td>1</td>\n",
              "    </tr>\n",
              "    <tr>\n",
              "      <th>Gym</th>\n",
              "      <td>1</td>\n",
              "    </tr>\n",
              "    <tr>\n",
              "      <th>Just started a CSC 4 week course.</th>\n",
              "      <td>1</td>\n",
              "    </tr>\n",
              "    <tr>\n",
              "      <th>starting at West London College Hammersmith next week</th>\n",
              "      <td>1</td>\n",
              "    </tr>\n",
              "    <tr>\n",
              "      <th>Finalising my foundation in music therapy for people with dementia. I can assist music therapists or do music freelancing work with seniors</th>\n",
              "      <td>1</td>\n",
              "    </tr>\n",
              "    <tr>\n",
              "      <th>Not yet still waiting to do English</th>\n",
              "      <td>1</td>\n",
              "    </tr>\n",
              "    <tr>\n",
              "      <th>Im on  the waiting list</th>\n",
              "      <td>1</td>\n",
              "    </tr>\n",
              "    <tr>\n",
              "      <th>Im in the waiting list</th>\n",
              "      <td>1</td>\n",
              "    </tr>\n",
              "    <tr>\n",
              "      <th>Croydon College</th>\n",
              "      <td>1</td>\n",
              "    </tr>\n",
              "    <tr>\n",
              "      <th>ESOL</th>\n",
              "      <td>1</td>\n",
              "    </tr>\n",
              "  </tbody>\n",
              "</table>\n",
              "</div><br><label><b>dtype:</b> int64</label>"
            ]
          },
          "metadata": {},
          "execution_count": 28
        }
      ]
    },
    {
      "cell_type": "code",
      "source": [
        "#This function shows me all the values within this column so I would be able to standardise the values\n",
        "data['looked_after_or_care_leaver'].unique()"
      ],
      "metadata": {
        "id": "rpio2ceezWNj",
        "colab": {
          "base_uri": "https://localhost:8080/"
        },
        "outputId": "4dd9beea-98b5-4726-86ff-08aa4f3d9d78"
      },
      "execution_count": 29,
      "outputs": [
        {
          "output_type": "execute_result",
          "data": {
            "text/plain": [
              "array(['No', 'Yes', 'Father ', 'Guardian ', 'young asylum seeker',\n",
              "       'Yes by Hotel stuff'], dtype=object)"
            ]
          },
          "metadata": {},
          "execution_count": 29
        }
      ]
    },
    {
      "cell_type": "code",
      "source": [
        "# this code shoes the distribution of values so i am able to compare the before and after to see if the standardising was executed correctly\n",
        "data['looked_after_or_care_leaver'].value_counts()"
      ],
      "metadata": {
        "id": "rQvVzVfW6MYT",
        "colab": {
          "base_uri": "https://localhost:8080/",
          "height": 304
        },
        "outputId": "99557b07-fb4c-4110-8fea-2ce4ed33d0a9"
      },
      "execution_count": 30,
      "outputs": [
        {
          "output_type": "execute_result",
          "data": {
            "text/plain": [
              "looked_after_or_care_leaver\n",
              "No                     94\n",
              "Yes                    16\n",
              "Father                  1\n",
              "Guardian                1\n",
              "young asylum seeker     1\n",
              "Yes by Hotel stuff      1\n",
              "Name: count, dtype: int64"
            ],
            "text/html": [
              "<div>\n",
              "<style scoped>\n",
              "    .dataframe tbody tr th:only-of-type {\n",
              "        vertical-align: middle;\n",
              "    }\n",
              "\n",
              "    .dataframe tbody tr th {\n",
              "        vertical-align: top;\n",
              "    }\n",
              "\n",
              "    .dataframe thead th {\n",
              "        text-align: right;\n",
              "    }\n",
              "</style>\n",
              "<table border=\"1\" class=\"dataframe\">\n",
              "  <thead>\n",
              "    <tr style=\"text-align: right;\">\n",
              "      <th></th>\n",
              "      <th>count</th>\n",
              "    </tr>\n",
              "    <tr>\n",
              "      <th>looked_after_or_care_leaver</th>\n",
              "      <th></th>\n",
              "    </tr>\n",
              "  </thead>\n",
              "  <tbody>\n",
              "    <tr>\n",
              "      <th>No</th>\n",
              "      <td>94</td>\n",
              "    </tr>\n",
              "    <tr>\n",
              "      <th>Yes</th>\n",
              "      <td>16</td>\n",
              "    </tr>\n",
              "    <tr>\n",
              "      <th>Father</th>\n",
              "      <td>1</td>\n",
              "    </tr>\n",
              "    <tr>\n",
              "      <th>Guardian</th>\n",
              "      <td>1</td>\n",
              "    </tr>\n",
              "    <tr>\n",
              "      <th>young asylum seeker</th>\n",
              "      <td>1</td>\n",
              "    </tr>\n",
              "    <tr>\n",
              "      <th>Yes by Hotel stuff</th>\n",
              "      <td>1</td>\n",
              "    </tr>\n",
              "  </tbody>\n",
              "</table>\n",
              "</div><br><label><b>dtype:</b> int64</label>"
            ]
          },
          "metadata": {},
          "execution_count": 30
        }
      ]
    },
    {
      "cell_type": "code",
      "source": [
        "#This function shows me all the values within this column so I would be able to standardise the values\n",
        "data['seeking_asylum'].unique()"
      ],
      "metadata": {
        "id": "9kFzC4hWzEnQ",
        "colab": {
          "base_uri": "https://localhost:8080/"
        },
        "outputId": "951aacfb-a378-40cf-be44-0b254cd31519"
      },
      "execution_count": 31,
      "outputs": [
        {
          "output_type": "execute_result",
          "data": {
            "text/plain": [
              "array(['Victim of trafficking/modern slavery (NRM) ', 'Yes', 'No',\n",
              "       'Asylum seeker ', 'Refugee', 'I am seeking Assylum in the UK',\n",
              "       'Refugee Status (5 years)'], dtype=object)"
            ]
          },
          "metadata": {},
          "execution_count": 31
        }
      ]
    },
    {
      "cell_type": "code",
      "source": [
        "# this code shoes the distribution of values so i am able to compare the before and after to see if the standardising was executed correctly\n",
        "data['seeking_asylum'].value_counts()"
      ],
      "metadata": {
        "id": "Iv5mnwen6KEJ",
        "colab": {
          "base_uri": "https://localhost:8080/",
          "height": 335
        },
        "outputId": "c678c07b-fee7-4d30-92c2-7a688661b720"
      },
      "execution_count": 32,
      "outputs": [
        {
          "output_type": "execute_result",
          "data": {
            "text/plain": [
              "seeking_asylum\n",
              "Yes                                            57\n",
              "No                                             51\n",
              "Refugee                                         2\n",
              "Victim of trafficking/modern slavery (NRM)      1\n",
              "Asylum seeker                                   1\n",
              "I am seeking Assylum in the UK                  1\n",
              "Refugee Status (5 years)                        1\n",
              "Name: count, dtype: int64"
            ],
            "text/html": [
              "<div>\n",
              "<style scoped>\n",
              "    .dataframe tbody tr th:only-of-type {\n",
              "        vertical-align: middle;\n",
              "    }\n",
              "\n",
              "    .dataframe tbody tr th {\n",
              "        vertical-align: top;\n",
              "    }\n",
              "\n",
              "    .dataframe thead th {\n",
              "        text-align: right;\n",
              "    }\n",
              "</style>\n",
              "<table border=\"1\" class=\"dataframe\">\n",
              "  <thead>\n",
              "    <tr style=\"text-align: right;\">\n",
              "      <th></th>\n",
              "      <th>count</th>\n",
              "    </tr>\n",
              "    <tr>\n",
              "      <th>seeking_asylum</th>\n",
              "      <th></th>\n",
              "    </tr>\n",
              "  </thead>\n",
              "  <tbody>\n",
              "    <tr>\n",
              "      <th>Yes</th>\n",
              "      <td>57</td>\n",
              "    </tr>\n",
              "    <tr>\n",
              "      <th>No</th>\n",
              "      <td>51</td>\n",
              "    </tr>\n",
              "    <tr>\n",
              "      <th>Refugee</th>\n",
              "      <td>2</td>\n",
              "    </tr>\n",
              "    <tr>\n",
              "      <th>Victim of trafficking/modern slavery (NRM)</th>\n",
              "      <td>1</td>\n",
              "    </tr>\n",
              "    <tr>\n",
              "      <th>Asylum seeker</th>\n",
              "      <td>1</td>\n",
              "    </tr>\n",
              "    <tr>\n",
              "      <th>I am seeking Assylum in the UK</th>\n",
              "      <td>1</td>\n",
              "    </tr>\n",
              "    <tr>\n",
              "      <th>Refugee Status (5 years)</th>\n",
              "      <td>1</td>\n",
              "    </tr>\n",
              "  </tbody>\n",
              "</table>\n",
              "</div><br><label><b>dtype:</b> int64</label>"
            ]
          },
          "metadata": {},
          "execution_count": 32
        }
      ]
    },
    {
      "cell_type": "code",
      "source": [
        "#This function shows me all the values within this column so I would be able to standardise the values\n",
        "data['youth_support'].unique()"
      ],
      "metadata": {
        "id": "bE3Qxb7qzrtr",
        "colab": {
          "base_uri": "https://localhost:8080/"
        },
        "outputId": "971fadf3-f110-46e6-b32f-6623488c43cf"
      },
      "execution_count": 33,
      "outputs": [
        {
          "output_type": "execute_result",
          "data": {
            "text/plain": [
              "array(['Advocacy worker', 'Advocate', 'No', 'Yes',\n",
              "       'Support worker from Hestia Charity ', 'Outreach Advocate',\n",
              "       'refuge support worker', 'Social Prescriber ', nan,\n",
              "       'Outreach Advocate Hestia Modern Slavery Response Team',\n",
              "       'Im in the Home Office hotel accommodation ', 'Yes, No'],\n",
              "      dtype=object)"
            ]
          },
          "metadata": {},
          "execution_count": 33
        }
      ]
    },
    {
      "cell_type": "code",
      "source": [
        "# this code shoes the distribution of values so i am able to compare the before and after to see if the standardising was executed correctly\n",
        "data['youth_support'].value_counts()"
      ],
      "metadata": {
        "id": "QfxvTZQv6I4d",
        "colab": {
          "base_uri": "https://localhost:8080/",
          "height": 460
        },
        "outputId": "53565053-7f9c-40a0-dacf-81a79f0b79e0"
      },
      "execution_count": 34,
      "outputs": [
        {
          "output_type": "execute_result",
          "data": {
            "text/plain": [
              "youth_support\n",
              "No                                                       90\n",
              "Yes                                                      14\n",
              "Advocacy worker                                           1\n",
              "Advocate                                                  1\n",
              "Support worker from Hestia Charity                        1\n",
              "Outreach Advocate                                         1\n",
              "refuge support worker                                     1\n",
              "Social Prescriber                                         1\n",
              "Outreach Advocate Hestia Modern Slavery Response Team     1\n",
              "Im in the Home Office hotel accommodation                 1\n",
              "Yes, No                                                   1\n",
              "Name: count, dtype: int64"
            ],
            "text/html": [
              "<div>\n",
              "<style scoped>\n",
              "    .dataframe tbody tr th:only-of-type {\n",
              "        vertical-align: middle;\n",
              "    }\n",
              "\n",
              "    .dataframe tbody tr th {\n",
              "        vertical-align: top;\n",
              "    }\n",
              "\n",
              "    .dataframe thead th {\n",
              "        text-align: right;\n",
              "    }\n",
              "</style>\n",
              "<table border=\"1\" class=\"dataframe\">\n",
              "  <thead>\n",
              "    <tr style=\"text-align: right;\">\n",
              "      <th></th>\n",
              "      <th>count</th>\n",
              "    </tr>\n",
              "    <tr>\n",
              "      <th>youth_support</th>\n",
              "      <th></th>\n",
              "    </tr>\n",
              "  </thead>\n",
              "  <tbody>\n",
              "    <tr>\n",
              "      <th>No</th>\n",
              "      <td>90</td>\n",
              "    </tr>\n",
              "    <tr>\n",
              "      <th>Yes</th>\n",
              "      <td>14</td>\n",
              "    </tr>\n",
              "    <tr>\n",
              "      <th>Advocacy worker</th>\n",
              "      <td>1</td>\n",
              "    </tr>\n",
              "    <tr>\n",
              "      <th>Advocate</th>\n",
              "      <td>1</td>\n",
              "    </tr>\n",
              "    <tr>\n",
              "      <th>Support worker from Hestia Charity</th>\n",
              "      <td>1</td>\n",
              "    </tr>\n",
              "    <tr>\n",
              "      <th>Outreach Advocate</th>\n",
              "      <td>1</td>\n",
              "    </tr>\n",
              "    <tr>\n",
              "      <th>refuge support worker</th>\n",
              "      <td>1</td>\n",
              "    </tr>\n",
              "    <tr>\n",
              "      <th>Social Prescriber</th>\n",
              "      <td>1</td>\n",
              "    </tr>\n",
              "    <tr>\n",
              "      <th>Outreach Advocate Hestia Modern Slavery Response Team</th>\n",
              "      <td>1</td>\n",
              "    </tr>\n",
              "    <tr>\n",
              "      <th>Im in the Home Office hotel accommodation</th>\n",
              "      <td>1</td>\n",
              "    </tr>\n",
              "    <tr>\n",
              "      <th>Yes, No</th>\n",
              "      <td>1</td>\n",
              "    </tr>\n",
              "  </tbody>\n",
              "</table>\n",
              "</div><br><label><b>dtype:</b> int64</label>"
            ]
          },
          "metadata": {},
          "execution_count": 34
        }
      ]
    },
    {
      "cell_type": "code",
      "source": [
        "data.info()"
      ],
      "metadata": {
        "id": "9hIuFKuRBscO",
        "colab": {
          "base_uri": "https://localhost:8080/"
        },
        "outputId": "2734a61f-f77e-4aed-e452-2075e0a6ac83"
      },
      "execution_count": 35,
      "outputs": [
        {
          "output_type": "stream",
          "name": "stdout",
          "text": [
            "<class 'pandas.core.frame.DataFrame'>\n",
            "Index: 114 entries, 89 to 203\n",
            "Data columns (total 12 columns):\n",
            " #   Column                                          Non-Null Count  Dtype \n",
            "---  ------                                          --------------  ----- \n",
            " 0   ethnicity                                       106 non-null    object\n",
            " 1   nationality                                     112 non-null    object\n",
            " 2   No_Of_Dependents/Children                       100 non-null    object\n",
            " 3   shoe_purpose                                    114 non-null    object\n",
            " 4   employment_status                               114 non-null    object\n",
            " 5   Do_you_receive_Universal_Credit?                114 non-null    object\n",
            " 6   education/training                              114 non-null    object\n",
            " 7   looked_after_or_care_leaver                     114 non-null    object\n",
            " 8   recently_released_prison(in the last 6 months)  114 non-null    object\n",
            " 9   seeking_asylum                                  114 non-null    object\n",
            " 10  youth_support                                   113 non-null    object\n",
            " 11  resole_source                                   104 non-null    object\n",
            "dtypes: object(12)\n",
            "memory usage: 11.6+ KB\n"
          ]
        }
      ]
    },
    {
      "cell_type": "code",
      "source": [
        "#with this code i encoded and mapped the following variables in order to make the dataset more readable\n",
        "label_encoder = preprocessing.LabelEncoder()\n",
        "\n",
        "data[\"Do_you_receive_Universal_Credit?\"]= label_encoder.fit_transform(data[\"Do_you_receive_Universal_Credit?\"]) #1 yes i have, 0 no i havent\n",
        "\n",
        "data[\"recently_released_prison(in the last 6 months)\"]= label_encoder.fit_transform(data[\"recently_released_prison(in the last 6 months)\"]) #1 yes i have, 0 no i havent\n",
        "\n",
        "data[\"education/training\"] = data[\"education/training\"].map({\"No\": 0 , \"Yes\": 1 , \"Asylum seeker\": 0 , \"asylum seeker\": 0 , \"Voluntary work in the charity sector\": 0 , \"Gym\": 0 , \"Just started a CSC 4 week course\": 1 ,\n",
        "                                                             \"starting at West London College Hammersmith next week\": 1 , \"Finalising my foundation in music therapy for people with dementia. I can assist music therapists or do music freelancing work with seniors\": 1 ,\n",
        "                                                             \"Not yet still waiting to do English\": 1 , \"Im on  the waiting list\": 0 , \"Im in the waiting list\": 0 , \"Croydon College\": 0 , \"ESOL\": 1}) #education = 0 #training = 1\n",
        "\n",
        "data[\"looked_after_or_care_leaver\"] = data[\"looked_after_or_care_leaver\"].map({\"No\": 0 , \"Yes\": 1 , \"Father\": 0 , \"Guardian\": 0 , \"young asylum seeker\": 1 , \"Yes by Hotel stuff\":1})  # 1 yes i am, 0 no im not\n",
        "\n",
        "data[\"seeking_asylum\"] = data[\"seeking_asylum\"].map({\"Victim of trafficking/modern slavery (NRM)\": 1 , \"Yes\": 1 , \"No\": 0 , \"Asylum seeker\": 1 , \"Refugee\": 0 , \"I am seeking Assylum in the UK\": 1 , \"Refugee Status (5 years)\": 0}) # 1 yes i am, 0 no im not\n",
        "\n",
        "data[\"youth_support\"] = data[\"youth_support\"].map({\"Advocacy worker\": 0 , \"Advocate\": 0 , \"No\": 0 , \"Yes\": 1 , \"Support worker from Hestia Charity\": 0 , \"Outreach Advocate\": 0 , \"refuge support worker\": 0 , \"Social Prescriber\": 0 ,\n",
        "                                                   \"Outreach Advocate Hestia Modern Slavery Response Team\": 0 , \"Im in the Home Office hotel accommodation\": 0 , \"Yes, No\": 0}) # 1 yes i am 0 no im not\n",
        "\n",
        "output_file = \"cleaned_data.csv\"\n",
        "data.to_csv(output_file, index=False)\n",
        "print(f\"Data saved as {output_file} after modifications.\")"
      ],
      "metadata": {
        "id": "HItn2rdLYOal",
        "colab": {
          "base_uri": "https://localhost:8080/"
        },
        "outputId": "7fc832c3-b897-44a5-8d03-6c927d84b1e2"
      },
      "execution_count": 36,
      "outputs": [
        {
          "output_type": "stream",
          "name": "stdout",
          "text": [
            "Data saved as cleaned_data.csv after modifications.\n"
          ]
        }
      ]
    },
    {
      "cell_type": "code",
      "source": [
        "data.info()"
      ],
      "metadata": {
        "id": "i5f12SXtBqEe",
        "colab": {
          "base_uri": "https://localhost:8080/"
        },
        "outputId": "9dd3b7f7-c6f7-4ddb-f8db-824a42dba8c1"
      },
      "execution_count": 37,
      "outputs": [
        {
          "output_type": "stream",
          "name": "stdout",
          "text": [
            "<class 'pandas.core.frame.DataFrame'>\n",
            "Index: 114 entries, 89 to 203\n",
            "Data columns (total 12 columns):\n",
            " #   Column                                          Non-Null Count  Dtype  \n",
            "---  ------                                          --------------  -----  \n",
            " 0   ethnicity                                       106 non-null    object \n",
            " 1   nationality                                     112 non-null    object \n",
            " 2   No_Of_Dependents/Children                       100 non-null    object \n",
            " 3   shoe_purpose                                    114 non-null    object \n",
            " 4   employment_status                               114 non-null    object \n",
            " 5   Do_you_receive_Universal_Credit?                114 non-null    int64  \n",
            " 6   education/training                              108 non-null    float64\n",
            " 7   looked_after_or_care_leaver                     112 non-null    float64\n",
            " 8   recently_released_prison(in the last 6 months)  114 non-null    int64  \n",
            " 9   seeking_asylum                                  112 non-null    float64\n",
            " 10  youth_support                                   110 non-null    float64\n",
            " 11  resole_source                                   104 non-null    object \n",
            "dtypes: float64(4), int64(2), object(6)\n",
            "memory usage: 11.6+ KB\n"
          ]
        }
      ]
    },
    {
      "cell_type": "code",
      "source": [
        "# I perfomerd this to check if my code was succesfully executed\n",
        "data['Do_you_receive_Universal_Credit?'].value_counts()"
      ],
      "metadata": {
        "id": "4vMSDHSP53oX",
        "colab": {
          "base_uri": "https://localhost:8080/",
          "height": 178
        },
        "outputId": "efdacce7-6e54-4008-9d8d-a4e9790b5bdb"
      },
      "execution_count": 38,
      "outputs": [
        {
          "output_type": "execute_result",
          "data": {
            "text/plain": [
              "Do_you_receive_Universal_Credit?\n",
              "0    63\n",
              "1    51\n",
              "Name: count, dtype: int64"
            ],
            "text/html": [
              "<div>\n",
              "<style scoped>\n",
              "    .dataframe tbody tr th:only-of-type {\n",
              "        vertical-align: middle;\n",
              "    }\n",
              "\n",
              "    .dataframe tbody tr th {\n",
              "        vertical-align: top;\n",
              "    }\n",
              "\n",
              "    .dataframe thead th {\n",
              "        text-align: right;\n",
              "    }\n",
              "</style>\n",
              "<table border=\"1\" class=\"dataframe\">\n",
              "  <thead>\n",
              "    <tr style=\"text-align: right;\">\n",
              "      <th></th>\n",
              "      <th>count</th>\n",
              "    </tr>\n",
              "    <tr>\n",
              "      <th>Do_you_receive_Universal_Credit?</th>\n",
              "      <th></th>\n",
              "    </tr>\n",
              "  </thead>\n",
              "  <tbody>\n",
              "    <tr>\n",
              "      <th>0</th>\n",
              "      <td>63</td>\n",
              "    </tr>\n",
              "    <tr>\n",
              "      <th>1</th>\n",
              "      <td>51</td>\n",
              "    </tr>\n",
              "  </tbody>\n",
              "</table>\n",
              "</div><br><label><b>dtype:</b> int64</label>"
            ]
          },
          "metadata": {},
          "execution_count": 38
        }
      ]
    },
    {
      "cell_type": "code",
      "source": [
        "# I perfomerd this to check if my code was succesfully executed\n",
        "data['Do_you_receive_Universal_Credit?'].unique()"
      ],
      "metadata": {
        "id": "H2aH5wXXdtto",
        "colab": {
          "base_uri": "https://localhost:8080/"
        },
        "outputId": "680fe270-9465-429c-89b7-d2e6c01b469d"
      },
      "execution_count": 39,
      "outputs": [
        {
          "output_type": "execute_result",
          "data": {
            "text/plain": [
              "array([1, 0])"
            ]
          },
          "metadata": {},
          "execution_count": 39
        }
      ]
    },
    {
      "cell_type": "code",
      "source": [
        "# I perfomerd this to check if my code was succesfully executed\n",
        "data['recently_released_prison(in the last 6 months)'].value_counts()"
      ],
      "metadata": {
        "id": "MsnPYYNh50P1",
        "colab": {
          "base_uri": "https://localhost:8080/",
          "height": 178
        },
        "outputId": "65bdd88d-57eb-4595-e2da-0c9734ca43dd"
      },
      "execution_count": 40,
      "outputs": [
        {
          "output_type": "execute_result",
          "data": {
            "text/plain": [
              "recently_released_prison(in the last 6 months)\n",
              "0    112\n",
              "1      2\n",
              "Name: count, dtype: int64"
            ],
            "text/html": [
              "<div>\n",
              "<style scoped>\n",
              "    .dataframe tbody tr th:only-of-type {\n",
              "        vertical-align: middle;\n",
              "    }\n",
              "\n",
              "    .dataframe tbody tr th {\n",
              "        vertical-align: top;\n",
              "    }\n",
              "\n",
              "    .dataframe thead th {\n",
              "        text-align: right;\n",
              "    }\n",
              "</style>\n",
              "<table border=\"1\" class=\"dataframe\">\n",
              "  <thead>\n",
              "    <tr style=\"text-align: right;\">\n",
              "      <th></th>\n",
              "      <th>count</th>\n",
              "    </tr>\n",
              "    <tr>\n",
              "      <th>recently_released_prison(in the last 6 months)</th>\n",
              "      <th></th>\n",
              "    </tr>\n",
              "  </thead>\n",
              "  <tbody>\n",
              "    <tr>\n",
              "      <th>0</th>\n",
              "      <td>112</td>\n",
              "    </tr>\n",
              "    <tr>\n",
              "      <th>1</th>\n",
              "      <td>2</td>\n",
              "    </tr>\n",
              "  </tbody>\n",
              "</table>\n",
              "</div><br><label><b>dtype:</b> int64</label>"
            ]
          },
          "metadata": {},
          "execution_count": 40
        }
      ]
    },
    {
      "cell_type": "code",
      "source": [
        "# I perfomerd this to check if my code was succesfully executed\n",
        "data['recently_released_prison(in the last 6 months)'].unique()"
      ],
      "metadata": {
        "id": "ElowG0P-dv20",
        "colab": {
          "base_uri": "https://localhost:8080/"
        },
        "outputId": "709f5de6-e965-41a4-83c2-8a1c8b6264c9"
      },
      "execution_count": 41,
      "outputs": [
        {
          "output_type": "execute_result",
          "data": {
            "text/plain": [
              "array([0, 1])"
            ]
          },
          "metadata": {},
          "execution_count": 41
        }
      ]
    },
    {
      "cell_type": "code",
      "source": [
        "# I perfomerd this to check if my code was succesfully executed\n",
        "data['education/training'].value_counts()"
      ],
      "metadata": {
        "id": "cBiKm_dQ50sq",
        "colab": {
          "base_uri": "https://localhost:8080/",
          "height": 178
        },
        "outputId": "954f0f4d-e75c-4364-8f8a-467175eb3e35"
      },
      "execution_count": 42,
      "outputs": [
        {
          "output_type": "execute_result",
          "data": {
            "text/plain": [
              "education/training\n",
              "0.0    75\n",
              "1.0    33\n",
              "Name: count, dtype: int64"
            ],
            "text/html": [
              "<div>\n",
              "<style scoped>\n",
              "    .dataframe tbody tr th:only-of-type {\n",
              "        vertical-align: middle;\n",
              "    }\n",
              "\n",
              "    .dataframe tbody tr th {\n",
              "        vertical-align: top;\n",
              "    }\n",
              "\n",
              "    .dataframe thead th {\n",
              "        text-align: right;\n",
              "    }\n",
              "</style>\n",
              "<table border=\"1\" class=\"dataframe\">\n",
              "  <thead>\n",
              "    <tr style=\"text-align: right;\">\n",
              "      <th></th>\n",
              "      <th>count</th>\n",
              "    </tr>\n",
              "    <tr>\n",
              "      <th>education/training</th>\n",
              "      <th></th>\n",
              "    </tr>\n",
              "  </thead>\n",
              "  <tbody>\n",
              "    <tr>\n",
              "      <th>0.0</th>\n",
              "      <td>75</td>\n",
              "    </tr>\n",
              "    <tr>\n",
              "      <th>1.0</th>\n",
              "      <td>33</td>\n",
              "    </tr>\n",
              "  </tbody>\n",
              "</table>\n",
              "</div><br><label><b>dtype:</b> int64</label>"
            ]
          },
          "metadata": {},
          "execution_count": 42
        }
      ]
    },
    {
      "cell_type": "code",
      "source": [
        "# I perfomerd this to check if my code was succesfully executed\n",
        "data['education/training'].unique()"
      ],
      "metadata": {
        "id": "NHSGDlopdb2c",
        "colab": {
          "base_uri": "https://localhost:8080/"
        },
        "outputId": "2a3db2ee-7d87-4558-abbc-3df19373b857"
      },
      "execution_count": 43,
      "outputs": [
        {
          "output_type": "execute_result",
          "data": {
            "text/plain": [
              "array([ 0.,  1., nan])"
            ]
          },
          "metadata": {},
          "execution_count": 43
        }
      ]
    },
    {
      "cell_type": "code",
      "source": [
        "# I perfomerd this to check if my code was succesfully executed\n",
        "data['looked_after_or_care_leaver'].value_counts()"
      ],
      "metadata": {
        "id": "DpKQDzdb51Rl",
        "colab": {
          "base_uri": "https://localhost:8080/",
          "height": 178
        },
        "outputId": "df21d68d-ca6f-4b39-8bfc-eec74ee00374"
      },
      "execution_count": 44,
      "outputs": [
        {
          "output_type": "execute_result",
          "data": {
            "text/plain": [
              "looked_after_or_care_leaver\n",
              "0.0    94\n",
              "1.0    18\n",
              "Name: count, dtype: int64"
            ],
            "text/html": [
              "<div>\n",
              "<style scoped>\n",
              "    .dataframe tbody tr th:only-of-type {\n",
              "        vertical-align: middle;\n",
              "    }\n",
              "\n",
              "    .dataframe tbody tr th {\n",
              "        vertical-align: top;\n",
              "    }\n",
              "\n",
              "    .dataframe thead th {\n",
              "        text-align: right;\n",
              "    }\n",
              "</style>\n",
              "<table border=\"1\" class=\"dataframe\">\n",
              "  <thead>\n",
              "    <tr style=\"text-align: right;\">\n",
              "      <th></th>\n",
              "      <th>count</th>\n",
              "    </tr>\n",
              "    <tr>\n",
              "      <th>looked_after_or_care_leaver</th>\n",
              "      <th></th>\n",
              "    </tr>\n",
              "  </thead>\n",
              "  <tbody>\n",
              "    <tr>\n",
              "      <th>0.0</th>\n",
              "      <td>94</td>\n",
              "    </tr>\n",
              "    <tr>\n",
              "      <th>1.0</th>\n",
              "      <td>18</td>\n",
              "    </tr>\n",
              "  </tbody>\n",
              "</table>\n",
              "</div><br><label><b>dtype:</b> int64</label>"
            ]
          },
          "metadata": {},
          "execution_count": 44
        }
      ]
    },
    {
      "cell_type": "code",
      "source": [
        "# I perfomerd this to check if my code was succesfully executed\n",
        "data['looked_after_or_care_leaver'].unique()"
      ],
      "metadata": {
        "id": "XLpiKqWKddPu",
        "colab": {
          "base_uri": "https://localhost:8080/"
        },
        "outputId": "0db78845-4e31-469d-86ce-b038c7ddd0c6"
      },
      "execution_count": 45,
      "outputs": [
        {
          "output_type": "execute_result",
          "data": {
            "text/plain": [
              "array([ 0.,  1., nan])"
            ]
          },
          "metadata": {},
          "execution_count": 45
        }
      ]
    },
    {
      "cell_type": "code",
      "source": [
        "# I perfomerd this to check if my code was succesfully executed\n",
        "data['seeking_asylum'].value_counts()"
      ],
      "metadata": {
        "id": "_LNLrGRm51qp",
        "colab": {
          "base_uri": "https://localhost:8080/",
          "height": 178
        },
        "outputId": "29d02022-6581-4865-ff73-cb52813b0760"
      },
      "execution_count": 46,
      "outputs": [
        {
          "output_type": "execute_result",
          "data": {
            "text/plain": [
              "seeking_asylum\n",
              "1.0    58\n",
              "0.0    54\n",
              "Name: count, dtype: int64"
            ],
            "text/html": [
              "<div>\n",
              "<style scoped>\n",
              "    .dataframe tbody tr th:only-of-type {\n",
              "        vertical-align: middle;\n",
              "    }\n",
              "\n",
              "    .dataframe tbody tr th {\n",
              "        vertical-align: top;\n",
              "    }\n",
              "\n",
              "    .dataframe thead th {\n",
              "        text-align: right;\n",
              "    }\n",
              "</style>\n",
              "<table border=\"1\" class=\"dataframe\">\n",
              "  <thead>\n",
              "    <tr style=\"text-align: right;\">\n",
              "      <th></th>\n",
              "      <th>count</th>\n",
              "    </tr>\n",
              "    <tr>\n",
              "      <th>seeking_asylum</th>\n",
              "      <th></th>\n",
              "    </tr>\n",
              "  </thead>\n",
              "  <tbody>\n",
              "    <tr>\n",
              "      <th>1.0</th>\n",
              "      <td>58</td>\n",
              "    </tr>\n",
              "    <tr>\n",
              "      <th>0.0</th>\n",
              "      <td>54</td>\n",
              "    </tr>\n",
              "  </tbody>\n",
              "</table>\n",
              "</div><br><label><b>dtype:</b> int64</label>"
            ]
          },
          "metadata": {},
          "execution_count": 46
        }
      ]
    },
    {
      "cell_type": "code",
      "source": [
        "# I perfomerd this to check if my code was succesfully executed\n",
        "data['seeking_asylum'].unique()"
      ],
      "metadata": {
        "id": "fuOEj5-8dhAx",
        "colab": {
          "base_uri": "https://localhost:8080/"
        },
        "outputId": "6ab6c47c-c663-49a4-cf2d-21ea8a2565a3"
      },
      "execution_count": 47,
      "outputs": [
        {
          "output_type": "execute_result",
          "data": {
            "text/plain": [
              "array([nan,  1.,  0.])"
            ]
          },
          "metadata": {},
          "execution_count": 47
        }
      ]
    },
    {
      "cell_type": "code",
      "source": [
        "# I perfomerd this to check if my code was succesfully executed\n",
        "data['youth_support'].value_counts()"
      ],
      "metadata": {
        "id": "CKfw9Lvr52eh",
        "colab": {
          "base_uri": "https://localhost:8080/",
          "height": 178
        },
        "outputId": "4ee604c2-9c66-4ccf-c6a3-034e26fef2d3"
      },
      "execution_count": 48,
      "outputs": [
        {
          "output_type": "execute_result",
          "data": {
            "text/plain": [
              "youth_support\n",
              "0.0    96\n",
              "1.0    14\n",
              "Name: count, dtype: int64"
            ],
            "text/html": [
              "<div>\n",
              "<style scoped>\n",
              "    .dataframe tbody tr th:only-of-type {\n",
              "        vertical-align: middle;\n",
              "    }\n",
              "\n",
              "    .dataframe tbody tr th {\n",
              "        vertical-align: top;\n",
              "    }\n",
              "\n",
              "    .dataframe thead th {\n",
              "        text-align: right;\n",
              "    }\n",
              "</style>\n",
              "<table border=\"1\" class=\"dataframe\">\n",
              "  <thead>\n",
              "    <tr style=\"text-align: right;\">\n",
              "      <th></th>\n",
              "      <th>count</th>\n",
              "    </tr>\n",
              "    <tr>\n",
              "      <th>youth_support</th>\n",
              "      <th></th>\n",
              "    </tr>\n",
              "  </thead>\n",
              "  <tbody>\n",
              "    <tr>\n",
              "      <th>0.0</th>\n",
              "      <td>96</td>\n",
              "    </tr>\n",
              "    <tr>\n",
              "      <th>1.0</th>\n",
              "      <td>14</td>\n",
              "    </tr>\n",
              "  </tbody>\n",
              "</table>\n",
              "</div><br><label><b>dtype:</b> int64</label>"
            ]
          },
          "metadata": {},
          "execution_count": 48
        }
      ]
    },
    {
      "cell_type": "code",
      "source": [
        "# I perfomerd this to check if my code was succesfully executed\n",
        "data['youth_support'].unique()"
      ],
      "metadata": {
        "id": "78tH4nBedg4O",
        "colab": {
          "base_uri": "https://localhost:8080/"
        },
        "outputId": "e314f978-a8ba-4930-90fa-c7fd2aa984f2"
      },
      "execution_count": 49,
      "outputs": [
        {
          "output_type": "execute_result",
          "data": {
            "text/plain": [
              "array([ 0.,  1., nan])"
            ]
          },
          "metadata": {},
          "execution_count": 49
        }
      ]
    },
    {
      "cell_type": "code",
      "source": [
        "data.info()"
      ],
      "metadata": {
        "id": "tkyKeDNPBgoz",
        "colab": {
          "base_uri": "https://localhost:8080/"
        },
        "outputId": "fbbb8d2c-f3f1-4da2-bea6-af75de8737f0"
      },
      "execution_count": 50,
      "outputs": [
        {
          "output_type": "stream",
          "name": "stdout",
          "text": [
            "<class 'pandas.core.frame.DataFrame'>\n",
            "Index: 114 entries, 89 to 203\n",
            "Data columns (total 12 columns):\n",
            " #   Column                                          Non-Null Count  Dtype  \n",
            "---  ------                                          --------------  -----  \n",
            " 0   ethnicity                                       106 non-null    object \n",
            " 1   nationality                                     112 non-null    object \n",
            " 2   No_Of_Dependents/Children                       100 non-null    object \n",
            " 3   shoe_purpose                                    114 non-null    object \n",
            " 4   employment_status                               114 non-null    object \n",
            " 5   Do_you_receive_Universal_Credit?                114 non-null    int64  \n",
            " 6   education/training                              108 non-null    float64\n",
            " 7   looked_after_or_care_leaver                     112 non-null    float64\n",
            " 8   recently_released_prison(in the last 6 months)  114 non-null    int64  \n",
            " 9   seeking_asylum                                  112 non-null    float64\n",
            " 10  youth_support                                   110 non-null    float64\n",
            " 11  resole_source                                   104 non-null    object \n",
            "dtypes: float64(4), int64(2), object(6)\n",
            "memory usage: 11.6+ KB\n"
          ]
        }
      ]
    },
    {
      "cell_type": "code",
      "source": [
        "data[\"employment_status\"].unique()"
      ],
      "metadata": {
        "colab": {
          "base_uri": "https://localhost:8080/"
        },
        "id": "Ertnh2cawy5m",
        "outputId": "2ad1bd7f-0ae8-4317-de6d-0a8abf74f6a6"
      },
      "execution_count": 51,
      "outputs": [
        {
          "output_type": "execute_result",
          "data": {
            "text/plain": [
              "array(['unable to work as outlined by HO', 'Unemployed',\n",
              "       'Unable to work (please specify)',\n",
              "       'Work not allowed because asylum seekers ', 'Asylum seeker',\n",
              "       'Ongoing mental and physical health conditions ',\n",
              "       'Asylum seeker- No Work permit', 'Asylum seeker ',\n",
              "       'Seeking asylum ', 'Disabled and currently ill', ' service users',\n",
              "       'Refugee/Asylum seeker', 'Employed part-time',\n",
              "       'I am an asylum seeker and I do not have a permission to work yet.',\n",
              "       'Anisa and Aadil are both asylum seekers, so legally unable to work',\n",
              "       'Temporarily unable to work due to mental disability ',\n",
              "       'No rights to work in the UK',\n",
              "       'asylum seeker with work permission however unable to find work given the difficulty imposed',\n",
              "       'Asylum seeker. Unable to work and no recourse to public funds. ',\n",
              "       'In the refuge for domestic abuse ', 'Asylum seeker (NRPF)',\n",
              "       'on PIP ', 'Limited capability to work ',\n",
              "       'Disabled unable to work ', 'asylum seeker', 'College Student ',\n",
              "       'College', 'College ',\n",
              "       'Had two major operations, no longer work for a year now after cancer. Health issues.',\n",
              "       'Asylum Seeker', 'Asylum  seekers ', 'Asylum  seeker',\n",
              "       'Assylum  Seekers ',\n",
              "       'It is not allowed for me the right moment to word '], dtype=object)"
            ]
          },
          "metadata": {},
          "execution_count": 51
        }
      ]
    },
    {
      "cell_type": "code",
      "source": [
        "mapping = {\n",
        "    \"Unable to work (please specify)\": \"Unable to work\" , \"Asylum seeker\": \"Asylum seeker\", \"Asylum seeker \": \"Asylum seeker\",\n",
        "                                                          \"Seeking asylum \": \"Asylum seeker\", \"asylum seeker\": \"Asylum seeker\",\n",
        "                                                          \"Asylum Seeker\": \"Asylum seeker\", \"Asylum  seeker\": \"Asylum seeker\", \"Assylum  Seekers \": \"Asylum seeker\", \"College \": \"College\",\n",
        "                                                          \"College\":\"College\", \"Asylum  seekers \": \"Asylum seeker\",\n",
        "}\n",
        "\n",
        "# Use .map() with the .get() method to provide a default value (the original value)\n",
        "data[\"employment_status\"] = data[\"employment_status\"].map(lambda x: mapping.get(x, x))\n",
        "\n",
        "\n"
      ],
      "metadata": {
        "id": "cRcn8_5Ew_1_"
      },
      "execution_count": 52,
      "outputs": []
    },
    {
      "cell_type": "code",
      "source": [
        "data[\"employment_status\"].unique()"
      ],
      "metadata": {
        "colab": {
          "base_uri": "https://localhost:8080/"
        },
        "id": "F0nDpXdvDUDC",
        "outputId": "f8f813e8-9c0c-4bb5-b449-bae8fcac4be3"
      },
      "execution_count": 53,
      "outputs": [
        {
          "output_type": "execute_result",
          "data": {
            "text/plain": [
              "array(['unable to work as outlined by HO', 'Unemployed', 'Unable to work',\n",
              "       'Work not allowed because asylum seekers ', 'Asylum seeker',\n",
              "       'Ongoing mental and physical health conditions ',\n",
              "       'Asylum seeker- No Work permit', 'Disabled and currently ill',\n",
              "       ' service users', 'Refugee/Asylum seeker', 'Employed part-time',\n",
              "       'I am an asylum seeker and I do not have a permission to work yet.',\n",
              "       'Anisa and Aadil are both asylum seekers, so legally unable to work',\n",
              "       'Temporarily unable to work due to mental disability ',\n",
              "       'No rights to work in the UK',\n",
              "       'asylum seeker with work permission however unable to find work given the difficulty imposed',\n",
              "       'Asylum seeker. Unable to work and no recourse to public funds. ',\n",
              "       'In the refuge for domestic abuse ', 'Asylum seeker (NRPF)',\n",
              "       'on PIP ', 'Limited capability to work ',\n",
              "       'Disabled unable to work ', 'College Student ', 'College',\n",
              "       'Had two major operations, no longer work for a year now after cancer. Health issues.',\n",
              "       'It is not allowed for me the right moment to word '], dtype=object)"
            ]
          },
          "metadata": {},
          "execution_count": 53
        }
      ]
    },
    {
      "cell_type": "code",
      "source": [
        "data.info()"
      ],
      "metadata": {
        "colab": {
          "base_uri": "https://localhost:8080/"
        },
        "id": "O9fTBCr6DdtO",
        "outputId": "df5ed900-34b3-4787-bf61-ff9b033bcf54"
      },
      "execution_count": 54,
      "outputs": [
        {
          "output_type": "stream",
          "name": "stdout",
          "text": [
            "<class 'pandas.core.frame.DataFrame'>\n",
            "Index: 114 entries, 89 to 203\n",
            "Data columns (total 12 columns):\n",
            " #   Column                                          Non-Null Count  Dtype  \n",
            "---  ------                                          --------------  -----  \n",
            " 0   ethnicity                                       106 non-null    object \n",
            " 1   nationality                                     112 non-null    object \n",
            " 2   No_Of_Dependents/Children                       100 non-null    object \n",
            " 3   shoe_purpose                                    114 non-null    object \n",
            " 4   employment_status                               114 non-null    object \n",
            " 5   Do_you_receive_Universal_Credit?                114 non-null    int64  \n",
            " 6   education/training                              108 non-null    float64\n",
            " 7   looked_after_or_care_leaver                     112 non-null    float64\n",
            " 8   recently_released_prison(in the last 6 months)  114 non-null    int64  \n",
            " 9   seeking_asylum                                  112 non-null    float64\n",
            " 10  youth_support                                   110 non-null    float64\n",
            " 11  resole_source                                   104 non-null    object \n",
            "dtypes: float64(4), int64(2), object(6)\n",
            "memory usage: 11.6+ KB\n"
          ]
        }
      ]
    },
    {
      "cell_type": "code",
      "source": [
        "data['ethnicity'].fillna(data['ethnicity'].mode()[0], inplace=True)\n",
        "data['nationality'].fillna(data['nationality'].mode()[0], inplace=True)\n",
        "data['No_Of_Dependents/Children'].fillna(data['No_Of_Dependents/Children'].mode()[0], inplace=True)\n",
        "data['education/training'].fillna(data['education/training'].mode()[0], inplace=True)\n",
        "data['looked_after_or_care_leaver'].fillna(data['looked_after_or_care_leaver'].mode()[0], inplace=True)\n",
        "data['recently_released_prison(in the last 6 months)'].fillna(data['recently_released_prison(in the last 6 months)'].mode()[0], inplace=True)\n",
        "data['seeking_asylum'].fillna(data['seeking_asylum'].mode()[0], inplace=True)\n",
        "data['youth_support'].fillna(data['youth_support'].mode()[0], inplace=True)\n",
        "\n",
        "data.to_csv(\"/content/cleaned_data.csv\", index=False)\n",
        "\n",
        "print(\"Filling missing values completed!\")"
      ],
      "metadata": {
        "id": "YeN0HEJrBgEw",
        "colab": {
          "base_uri": "https://localhost:8080/"
        },
        "outputId": "3e7a62e8-0d81-4e58-8989-14ee7d46d3e8"
      },
      "execution_count": 55,
      "outputs": [
        {
          "output_type": "stream",
          "name": "stdout",
          "text": [
            "Filling missing values completed!\n"
          ]
        },
        {
          "output_type": "stream",
          "name": "stderr",
          "text": [
            "<ipython-input-55-affb04e43313>:1: FutureWarning: A value is trying to be set on a copy of a DataFrame or Series through chained assignment using an inplace method.\n",
            "The behavior will change in pandas 3.0. This inplace method will never work because the intermediate object on which we are setting values always behaves as a copy.\n",
            "\n",
            "For example, when doing 'df[col].method(value, inplace=True)', try using 'df.method({col: value}, inplace=True)' or df[col] = df[col].method(value) instead, to perform the operation inplace on the original object.\n",
            "\n",
            "\n",
            "  data['ethnicity'].fillna(data['ethnicity'].mode()[0], inplace=True)\n",
            "<ipython-input-55-affb04e43313>:2: FutureWarning: A value is trying to be set on a copy of a DataFrame or Series through chained assignment using an inplace method.\n",
            "The behavior will change in pandas 3.0. This inplace method will never work because the intermediate object on which we are setting values always behaves as a copy.\n",
            "\n",
            "For example, when doing 'df[col].method(value, inplace=True)', try using 'df.method({col: value}, inplace=True)' or df[col] = df[col].method(value) instead, to perform the operation inplace on the original object.\n",
            "\n",
            "\n",
            "  data['nationality'].fillna(data['nationality'].mode()[0], inplace=True)\n",
            "<ipython-input-55-affb04e43313>:3: FutureWarning: A value is trying to be set on a copy of a DataFrame or Series through chained assignment using an inplace method.\n",
            "The behavior will change in pandas 3.0. This inplace method will never work because the intermediate object on which we are setting values always behaves as a copy.\n",
            "\n",
            "For example, when doing 'df[col].method(value, inplace=True)', try using 'df.method({col: value}, inplace=True)' or df[col] = df[col].method(value) instead, to perform the operation inplace on the original object.\n",
            "\n",
            "\n",
            "  data['No_Of_Dependents/Children'].fillna(data['No_Of_Dependents/Children'].mode()[0], inplace=True)\n",
            "<ipython-input-55-affb04e43313>:4: FutureWarning: A value is trying to be set on a copy of a DataFrame or Series through chained assignment using an inplace method.\n",
            "The behavior will change in pandas 3.0. This inplace method will never work because the intermediate object on which we are setting values always behaves as a copy.\n",
            "\n",
            "For example, when doing 'df[col].method(value, inplace=True)', try using 'df.method({col: value}, inplace=True)' or df[col] = df[col].method(value) instead, to perform the operation inplace on the original object.\n",
            "\n",
            "\n",
            "  data['education/training'].fillna(data['education/training'].mode()[0], inplace=True)\n",
            "<ipython-input-55-affb04e43313>:5: FutureWarning: A value is trying to be set on a copy of a DataFrame or Series through chained assignment using an inplace method.\n",
            "The behavior will change in pandas 3.0. This inplace method will never work because the intermediate object on which we are setting values always behaves as a copy.\n",
            "\n",
            "For example, when doing 'df[col].method(value, inplace=True)', try using 'df.method({col: value}, inplace=True)' or df[col] = df[col].method(value) instead, to perform the operation inplace on the original object.\n",
            "\n",
            "\n",
            "  data['looked_after_or_care_leaver'].fillna(data['looked_after_or_care_leaver'].mode()[0], inplace=True)\n",
            "<ipython-input-55-affb04e43313>:6: FutureWarning: A value is trying to be set on a copy of a DataFrame or Series through chained assignment using an inplace method.\n",
            "The behavior will change in pandas 3.0. This inplace method will never work because the intermediate object on which we are setting values always behaves as a copy.\n",
            "\n",
            "For example, when doing 'df[col].method(value, inplace=True)', try using 'df.method({col: value}, inplace=True)' or df[col] = df[col].method(value) instead, to perform the operation inplace on the original object.\n",
            "\n",
            "\n",
            "  data['recently_released_prison(in the last 6 months)'].fillna(data['recently_released_prison(in the last 6 months)'].mode()[0], inplace=True)\n",
            "<ipython-input-55-affb04e43313>:7: FutureWarning: A value is trying to be set on a copy of a DataFrame or Series through chained assignment using an inplace method.\n",
            "The behavior will change in pandas 3.0. This inplace method will never work because the intermediate object on which we are setting values always behaves as a copy.\n",
            "\n",
            "For example, when doing 'df[col].method(value, inplace=True)', try using 'df.method({col: value}, inplace=True)' or df[col] = df[col].method(value) instead, to perform the operation inplace on the original object.\n",
            "\n",
            "\n",
            "  data['seeking_asylum'].fillna(data['seeking_asylum'].mode()[0], inplace=True)\n",
            "<ipython-input-55-affb04e43313>:8: FutureWarning: A value is trying to be set on a copy of a DataFrame or Series through chained assignment using an inplace method.\n",
            "The behavior will change in pandas 3.0. This inplace method will never work because the intermediate object on which we are setting values always behaves as a copy.\n",
            "\n",
            "For example, when doing 'df[col].method(value, inplace=True)', try using 'df.method({col: value}, inplace=True)' or df[col] = df[col].method(value) instead, to perform the operation inplace on the original object.\n",
            "\n",
            "\n",
            "  data['youth_support'].fillna(data['youth_support'].mode()[0], inplace=True)\n"
          ]
        }
      ]
    },
    {
      "cell_type": "code",
      "source": [
        "data.info()"
      ],
      "metadata": {
        "id": "cEQ2_kHzBjCb",
        "colab": {
          "base_uri": "https://localhost:8080/"
        },
        "outputId": "f13b4473-0dd9-4921-8fca-4e53530ff537"
      },
      "execution_count": 56,
      "outputs": [
        {
          "output_type": "stream",
          "name": "stdout",
          "text": [
            "<class 'pandas.core.frame.DataFrame'>\n",
            "Index: 114 entries, 89 to 203\n",
            "Data columns (total 12 columns):\n",
            " #   Column                                          Non-Null Count  Dtype  \n",
            "---  ------                                          --------------  -----  \n",
            " 0   ethnicity                                       114 non-null    object \n",
            " 1   nationality                                     114 non-null    object \n",
            " 2   No_Of_Dependents/Children                       114 non-null    object \n",
            " 3   shoe_purpose                                    114 non-null    object \n",
            " 4   employment_status                               114 non-null    object \n",
            " 5   Do_you_receive_Universal_Credit?                114 non-null    int64  \n",
            " 6   education/training                              114 non-null    float64\n",
            " 7   looked_after_or_care_leaver                     114 non-null    float64\n",
            " 8   recently_released_prison(in the last 6 months)  114 non-null    int64  \n",
            " 9   seeking_asylum                                  114 non-null    float64\n",
            " 10  youth_support                                   114 non-null    float64\n",
            " 11  resole_source                                   104 non-null    object \n",
            "dtypes: float64(4), int64(2), object(6)\n",
            "memory usage: 11.6+ KB\n"
          ]
        }
      ]
    },
    {
      "cell_type": "markdown",
      "source": [
        "# **Kelvin Code (EDA)**"
      ],
      "metadata": {
        "id": "49iRD9H_ld3G"
      }
    },
    {
      "cell_type": "code",
      "source": [
        "data['resole_source'].fillna(\"Source Missing\", inplace=True)"
      ],
      "metadata": {
        "colab": {
          "base_uri": "https://localhost:8080/"
        },
        "id": "cpVfWpfi2bGI",
        "outputId": "cc184374-9e18-4786-b349-d4d49dfc7687"
      },
      "execution_count": 57,
      "outputs": [
        {
          "output_type": "stream",
          "name": "stderr",
          "text": [
            "<ipython-input-57-6755e46b41dd>:1: FutureWarning: A value is trying to be set on a copy of a DataFrame or Series through chained assignment using an inplace method.\n",
            "The behavior will change in pandas 3.0. This inplace method will never work because the intermediate object on which we are setting values always behaves as a copy.\n",
            "\n",
            "For example, when doing 'df[col].method(value, inplace=True)', try using 'df.method({col: value}, inplace=True)' or df[col] = df[col].method(value) instead, to perform the operation inplace on the original object.\n",
            "\n",
            "\n",
            "  data['resole_source'].fillna(\"Source Missing\", inplace=True)\n"
          ]
        }
      ]
    },
    {
      "cell_type": "code",
      "source": [
        "data.to_excel(\"UoW Data 2024_25_CLEANED.xlsx\", index=False)  # Output cleaned data\n",
        "#(Mourad edit this file is the final saved file)"
      ],
      "metadata": {
        "id": "ae0RkBmi1Xqj"
      },
      "execution_count": 58,
      "outputs": []
    },
    {
      "cell_type": "code",
      "source": [
        "print(data.describe(include=\"object\"))\n",
        "print(data.describe())"
      ],
      "metadata": {
        "id": "lUOi5cMEkflM",
        "colab": {
          "base_uri": "https://localhost:8080/"
        },
        "outputId": "a80f9b90-f1f6-4577-bab3-eb6f6aa9377f"
      },
      "execution_count": 59,
      "outputs": [
        {
          "output_type": "stream",
          "name": "stdout",
          "text": [
            "                                         ethnicity nationality  \\\n",
            "count                                          114         114   \n",
            "unique                                           6          38   \n",
            "top     Black, Black British, Caribbean or African     British   \n",
            "freq                                            44          36   \n",
            "\n",
            "       No_Of_Dependents/Children  shoe_purpose employment_status  \\\n",
            "count                        114           114               114   \n",
            "unique                         6             9                26   \n",
            "top                            0  Everyday use        Unemployed   \n",
            "freq                          68            77                44   \n",
            "\n",
            "                resole_source  \n",
            "count                     114  \n",
            "unique                     74  \n",
            "top     Brixton soup kitchen   \n",
            "freq                       11  \n",
            "       Do_you_receive_Universal_Credit?  education/training  \\\n",
            "count                        114.000000          114.000000   \n",
            "mean                           0.447368            0.289474   \n",
            "std                            0.499417            0.455520   \n",
            "min                            0.000000            0.000000   \n",
            "25%                            0.000000            0.000000   \n",
            "50%                            0.000000            0.000000   \n",
            "75%                            1.000000            1.000000   \n",
            "max                            1.000000            1.000000   \n",
            "\n",
            "       looked_after_or_care_leaver  \\\n",
            "count                   114.000000   \n",
            "mean                      0.157895   \n",
            "std                       0.366252   \n",
            "min                       0.000000   \n",
            "25%                       0.000000   \n",
            "50%                       0.000000   \n",
            "75%                       0.000000   \n",
            "max                       1.000000   \n",
            "\n",
            "       recently_released_prison(in the last 6 months)  seeking_asylum  \\\n",
            "count                                      114.000000      114.000000   \n",
            "mean                                         0.017544        0.526316   \n",
            "std                                          0.131866        0.501511   \n",
            "min                                          0.000000        0.000000   \n",
            "25%                                          0.000000        0.000000   \n",
            "50%                                          0.000000        1.000000   \n",
            "75%                                          0.000000        1.000000   \n",
            "max                                          1.000000        1.000000   \n",
            "\n",
            "       youth_support  \n",
            "count     114.000000  \n",
            "mean        0.122807  \n",
            "std         0.329665  \n",
            "min         0.000000  \n",
            "25%         0.000000  \n",
            "50%         0.000000  \n",
            "75%         0.000000  \n",
            "max         1.000000  \n"
          ]
        }
      ]
    },
    {
      "cell_type": "code",
      "source": [
        "import matplotlib.pyplot as plt\n",
        "import seaborn as sns\n",
        "\n",
        "#Define columns for histograms\n",
        "numeric_columns = [\"No_Of_Dependents/Children\", \"Do_you_receive_Universal_Credit?\",\n",
        "                   \"recently_released_prison(in the last 6 months)\", \"education/training\",\n",
        "                   \"looked_after_or_care_leaver\", \"seeking_asylum\", \"youth_support\"]\n",
        "#Iterate through numeric_columns to create histograms\n",
        "for col in numeric_columns:\n",
        "    binsCount = len(data[col].unique()) # do this otherwise the columns with binary values have too many bins\n",
        "    plt.figure(figsize=(8, 5))\n",
        "    sns.histplot(data[col], bins=binsCount,binwidth=2, discrete=True)\n",
        "    plt.xticks(sorted(data[col].dropna().unique())) # using this to make sure only the actual values appear , otherwise binary data columns are a range instead of actual values , e.g 0.1 , 0.2 , 03...1 etc\n",
        "    plt.title(col)\n",
        "    plt.xlabel(col)\n",
        "    plt.ylabel(\"Count\")\n",
        "    plt.show()"
      ],
      "metadata": {
        "id": "txBxzxv4lx81",
        "colab": {
          "base_uri": "https://localhost:8080/",
          "height": 1000
        },
        "outputId": "89d0639d-ce82-4663-d81c-5ba5d181f146"
      },
      "execution_count": 60,
      "outputs": [
        {
          "output_type": "display_data",
          "data": {
            "text/plain": [
              "<Figure size 800x500 with 1 Axes>"
            ],
            "image/png": "[encoded data removed]"
          },
          "metadata": {}
        },
        {
          "output_type": "display_data",
          "data": {
            "text/plain": [
              "<Figure size 800x500 with 1 Axes>"
            ],
            "image/png": "[encoded data removed]"
          },
          "metadata": {}
        },
        {
          "output_type": "display_data",
          "data": {
            "text/plain": [
              "<Figure size 800x500 with 1 Axes>"
            ],
            "image/png": "[encoded data removed]"
          },
          "metadata": {}
        },
        {
          "output_type": "display_data",
          "data": {
            "text/plain": [
              "<Figure size 800x500 with 1 Axes>"
            ],
            "image/png": "[encoded data removed]"
          },
          "metadata": {}
        },
        {
          "output_type": "display_data",
          "data": {
            "text/plain": [
              "<Figure size 800x500 with 1 Axes>"
            ],
            "image/png": "[encoded data removed]"
          },
          "metadata": {}
        },
        {
          "output_type": "display_data",
          "data": {
            "text/plain": [
              "<Figure size 800x500 with 1 Axes>"
            ],
            "image/png": "[encoded data removed]"
          },
          "metadata": {}
        },
        {
          "output_type": "display_data",
          "data": {
            "text/plain": [
              "<Figure size 800x500 with 1 Axes>"
            ],
            "image/png": "[encoded data removed]"
          },
          "metadata": {}
        }
      ]
    }
  ]
}