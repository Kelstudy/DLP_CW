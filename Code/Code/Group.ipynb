{
  "nbformat": 4,
  "nbformat_minor": 0,
  "metadata": {
    "colab": {
      "provenance": []
    },
    "kernelspec": {
      "name": "python3",
      "display_name": "Python 3"
    },
    "language_info": {
      "name": "python"
    }
  },
  "cells": [
    {
      "cell_type": "code",
      "source": [
        "import pandas as pd"
      ],
      "metadata": {
        "id": "LmdQ9TTvHpVA"
      },
      "execution_count": null,
      "outputs": []
    },
    {
      "cell_type": "code",
      "execution_count": null,
      "metadata": {
        "id": "WtJ_uGdcG4CY"
      },
      "outputs": [],
      "source": [
        "first = pd.read_csv('/content/Cambridge_Homeless_Point-in-Time_Count_data__2012-2024_20250216.csv')"
      ]
    },
    {
      "cell_type": "code",
      "source": [
        "first.info()"
      ],
      "metadata": {
        "colab": {
          "base_uri": "https://localhost:8080/"
        },
        "id": "1tBKOmUvHoIo",
        "outputId": "e5a52716-ee36-4376-be1d-e14b826e1d8e"
      },
      "execution_count": null,
      "outputs": [
        {
          "output_type": "stream",
          "name": "stdout",
          "text": [
            "<class 'pandas.core.frame.DataFrame'>\n",
            "RangeIndex: 39 entries, 0 to 38\n",
            "Data columns (total 33 columns):\n",
            " #   Column                                         Non-Null Count  Dtype  \n",
            "---  ------                                         --------------  -----  \n",
            " 0   Year                                           39 non-null     int64  \n",
            " 1   PIT Date                                       39 non-null     object \n",
            " 2   Housing Type                                   39 non-null     object \n",
            " 3   Number of Households                           39 non-null     int64  \n",
            " 4   Number of Persons                              39 non-null     int64  \n",
            " 5   Persons in households with children            39 non-null     int64  \n",
            " 6   Single Individuals                             39 non-null     int64  \n",
            " 7   Children under age 18                          36 non-null     float64\n",
            " 8   Persons age 18 to 24                           36 non-null     float64\n",
            " 9   Persons over age 24                            36 non-null     float64\n",
            " 10  Female                                         33 non-null     float64\n",
            " 11  Male                                           33 non-null     float64\n",
            " 12  Transgender                                    33 non-null     float64\n",
            " 13  Don't identify as male, female or transgender  24 non-null     float64\n",
            " 14  Veterans                                       39 non-null     int64  \n",
            " 15  Unaccompanied Youth                            30 non-null     float64\n",
            " 16  Parenting Youth                                30 non-null     float64\n",
            " 17  Non-Hispanic/Non-Latino                        33 non-null     float64\n",
            " 18  Hispanic/Latino                                33 non-null     float64\n",
            " 19  White                                          33 non-null     float64\n",
            " 20  Black or African-American                      33 non-null     float64\n",
            " 21  Asian                                          33 non-null     float64\n",
            " 22  American Indian or Alaska Native               33 non-null     float64\n",
            " 23  Native Hawaiian or Other Pacific Islander      33 non-null     float64\n",
            " 24  Multiple Races                                 33 non-null     float64\n",
            " 25  Adults with Serious Mental Illness             38 non-null     float64\n",
            " 26  Adults with Substance Use Disorder             38 non-null     float64\n",
            " 27  Adults with HIV/AIDS                           38 non-null     float64\n",
            " 28  Victims of Domestic Violence                   38 non-null     float64\n",
            " 29  Chronically Homeless persons                   27 non-null     float64\n",
            " 30  Total Units for Households with Children       26 non-null     float64\n",
            " 31  Total Beds for Households with Children        26 non-null     float64\n",
            " 32  Total Beds for Households without Children     26 non-null     float64\n",
            "dtypes: float64(25), int64(6), object(2)\n",
            "memory usage: 10.2+ KB\n"
          ]
        }
      ]
    },
    {
      "cell_type": "code",
      "source": [],
      "metadata": {
        "id": "yQxV6zMdK1WY"
      },
      "execution_count": null,
      "outputs": []
    },
    {
      "cell_type": "markdown",
      "source": [
        "Unaccompanied Youth and Parenting Youth??????"
      ],
      "metadata": {
        "id": "_KP2lRgJJuEE"
      }
    },
    {
      "cell_type": "code",
      "source": [
        "first = first.drop(columns=(['Adults with HIV/AIDS', 'Adults with Substance Use Disorder', 'PIT Date', 'Adults with Serious Mental Illness']))"
      ],
      "metadata": {
        "id": "CSWODzdYHukl"
      },
      "execution_count": null,
      "outputs": []
    },
    {
      "cell_type": "code",
      "source": [
        "first.info()"
      ],
      "metadata": {
        "colab": {
          "base_uri": "https://localhost:8080/"
        },
        "id": "zzORopygLWL1",
        "outputId": "941af336-56ce-4f00-c40d-6f300e8de259"
      },
      "execution_count": null,
      "outputs": [
        {
          "output_type": "stream",
          "name": "stdout",
          "text": [
            "<class 'pandas.core.frame.DataFrame'>\n",
            "RangeIndex: 39 entries, 0 to 38\n",
            "Data columns (total 29 columns):\n",
            " #   Column                                         Non-Null Count  Dtype  \n",
            "---  ------                                         --------------  -----  \n",
            " 0   Year                                           39 non-null     int64  \n",
            " 1   Housing Type                                   39 non-null     object \n",
            " 2   Number of Households                           39 non-null     int64  \n",
            " 3   Number of Persons                              39 non-null     int64  \n",
            " 4   Persons in households with children            39 non-null     int64  \n",
            " 5   Single Individuals                             39 non-null     int64  \n",
            " 6   Children under age 18                          36 non-null     float64\n",
            " 7   Persons age 18 to 24                           36 non-null     float64\n",
            " 8   Persons over age 24                            36 non-null     float64\n",
            " 9   Female                                         33 non-null     float64\n",
            " 10  Male                                           33 non-null     float64\n",
            " 11  Transgender                                    33 non-null     float64\n",
            " 12  Don't identify as male, female or transgender  24 non-null     float64\n",
            " 13  Veterans                                       39 non-null     int64  \n",
            " 14  Unaccompanied Youth                            30 non-null     float64\n",
            " 15  Parenting Youth                                30 non-null     float64\n",
            " 16  Non-Hispanic/Non-Latino                        33 non-null     float64\n",
            " 17  Hispanic/Latino                                33 non-null     float64\n",
            " 18  White                                          33 non-null     float64\n",
            " 19  Black or African-American                      33 non-null     float64\n",
            " 20  Asian                                          33 non-null     float64\n",
            " 21  American Indian or Alaska Native               33 non-null     float64\n",
            " 22  Native Hawaiian or Other Pacific Islander      33 non-null     float64\n",
            " 23  Multiple Races                                 33 non-null     float64\n",
            " 24  Victims of Domestic Violence                   38 non-null     float64\n",
            " 25  Chronically Homeless persons                   27 non-null     float64\n",
            " 26  Total Units for Households with Children       26 non-null     float64\n",
            " 27  Total Beds for Households with Children        26 non-null     float64\n",
            " 28  Total Beds for Households without Children     26 non-null     float64\n",
            "dtypes: float64(22), int64(6), object(1)\n",
            "memory usage: 9.0+ KB\n"
          ]
        }
      ]
    },
    {
      "cell_type": "code",
      "source": [],
      "metadata": {
        "id": "WeIoym0FLrVo"
      },
      "execution_count": null,
      "outputs": []
    }
  ]
}