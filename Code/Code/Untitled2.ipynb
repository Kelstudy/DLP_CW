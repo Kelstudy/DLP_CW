{
  "nbformat": 4,
  "nbformat_minor": 0,
  "metadata": {
    "colab": {
      "provenance": []
    },
    "kernelspec": {
      "name": "python3",
      "display_name": "Python 3"
    },
    "language_info": {
      "name": "python"
    }
  },
  "cells": [
    {
      "cell_type": "code",
      "execution_count": 1,
      "metadata": {
        "colab": {
          "base_uri": "https://localhost:8080/"
        },
        "id": "I7uxrxWvT3J8",
        "outputId": "15a99bee-76cd-4729-b491-26a4137a59dc"
      },
      "outputs": [
        {
          "output_type": "stream",
          "name": "stdout",
          "text": [
            "Requirement already satisfied: matplotlib in /usr/local/lib/python3.11/dist-packages (3.10.0)\n",
            "Requirement already satisfied: seaborn in /usr/local/lib/python3.11/dist-packages (0.13.2)\n",
            "Requirement already satisfied: contourpy>=1.0.1 in /usr/local/lib/python3.11/dist-packages (from matplotlib) (1.3.1)\n",
            "Requirement already satisfied: cycler>=0.10 in /usr/local/lib/python3.11/dist-packages (from matplotlib) (0.12.1)\n",
            "Requirement already satisfied: fonttools>=4.22.0 in /usr/local/lib/python3.11/dist-packages (from matplotlib) (4.56.0)\n",
            "Requirement already satisfied: kiwisolver>=1.3.1 in /usr/local/lib/python3.11/dist-packages (from matplotlib) (1.4.8)\n",
            "Requirement already satisfied: numpy>=1.23 in /usr/local/lib/python3.11/dist-packages (from matplotlib) (1.26.4)\n",
            "Requirement already satisfied: packaging>=20.0 in /usr/local/lib/python3.11/dist-packages (from matplotlib) (24.2)\n",
            "Requirement already satisfied: pillow>=8 in /usr/local/lib/python3.11/dist-packages (from matplotlib) (11.1.0)\n",
            "Requirement already satisfied: pyparsing>=2.3.1 in /usr/local/lib/python3.11/dist-packages (from matplotlib) (3.2.1)\n",
            "Requirement already satisfied: python-dateutil>=2.7 in /usr/local/lib/python3.11/dist-packages (from matplotlib) (2.8.2)\n",
            "Requirement already satisfied: pandas>=1.2 in /usr/local/lib/python3.11/dist-packages (from seaborn) (2.2.2)\n",
            "Requirement already satisfied: pytz>=2020.1 in /usr/local/lib/python3.11/dist-packages (from pandas>=1.2->seaborn) (2025.1)\n",
            "Requirement already satisfied: tzdata>=2022.7 in /usr/local/lib/python3.11/dist-packages (from pandas>=1.2->seaborn) (2025.1)\n",
            "Requirement already satisfied: six>=1.5 in /usr/local/lib/python3.11/dist-packages (from python-dateutil>=2.7->matplotlib) (1.17.0)\n"
          ]
        }
      ],
      "source": [
        "!pip install matplotlib seaborn\n",
        "import matplotlib.pyplot as plt\n",
        "import seaborn as sns\n",
        "import pandas as pd\n",
        "from sklearn import preprocessing\n",
        "\n",
        "data = pd.read_excel(\"/content/Detailed_LA_20232024.xlsx\", sheet_name=12, engine='openpyxl')"
      ]
    },
    {
      "cell_type": "code",
      "source": [
        "data.info()"
      ],
      "metadata": {
        "colab": {
          "base_uri": "https://localhost:8080/"
        },
        "id": "-rfR217gSDs1",
        "outputId": "bfb06319-0322-4ede-913b-7a4e51741f82"
      },
      "execution_count": 6,
      "outputs": [
        {
          "output_type": "stream",
          "name": "stdout",
          "text": [
            "<class 'pandas.core.frame.DataFrame'>\n",
            "RangeIndex: 328 entries, 0 to 327\n",
            "Data columns (total 60 columns):\n",
            " #   Column                                                                                                                                     Non-Null Count  Dtype  \n",
            "---  ------                                                                                                                                     --------------  -----  \n",
            " 0   Table A8 - Ethnicity of main applicants assessed as owed a prevention or relief duty by local authority\n",
            "England, April 2023 to March 2024  314 non-null    object \n",
            " 1   Unnamed: 1                                                                                                                                 318 non-null    object \n",
            " 2   Unnamed: 2                                                                                                                                 0 non-null      float64\n",
            " 3   Unnamed: 3                                                                                                                                 0 non-null      float64\n",
            " 4   Unnamed: 4                                                                                                                                 310 non-null    object \n",
            " 5   Unnamed: 5                                                                                                                                 308 non-null    object \n",
            " 6   Unnamed: 6                                                                                                                                 1 non-null      object \n",
            " 7   Unnamed: 7                                                                                                                                 311 non-null    object \n",
            " 8   Unnamed: 8                                                                                                                                 308 non-null    object \n",
            " 9   Unnamed: 9                                                                                                                                 309 non-null    object \n",
            " 10  Unnamed: 10                                                                                                                                308 non-null    object \n",
            " 11  Unnamed: 11                                                                                                                                309 non-null    object \n",
            " 12  Unnamed: 12                                                                                                                                308 non-null    object \n",
            " 13  Unnamed: 13                                                                                                                                309 non-null    object \n",
            " 14  Unnamed: 14                                                                                                                                308 non-null    object \n",
            " 15  Unnamed: 15                                                                                                                                309 non-null    object \n",
            " 16  Unnamed: 16                                                                                                                                308 non-null    object \n",
            " 17  Unnamed: 17                                                                                                                                1 non-null      object \n",
            " 18  Unnamed: 18                                                                                                                                311 non-null    object \n",
            " 19  Unnamed: 19                                                                                                                                308 non-null    object \n",
            " 20  Unnamed: 20                                                                                                                                309 non-null    object \n",
            " 21  Unnamed: 21                                                                                                                                308 non-null    object \n",
            " 22  Unnamed: 22                                                                                                                                309 non-null    object \n",
            " 23  Unnamed: 23                                                                                                                                308 non-null    object \n",
            " 24  Unnamed: 24                                                                                                                                309 non-null    object \n",
            " 25  Unnamed: 25                                                                                                                                308 non-null    object \n",
            " 26  Unnamed: 26                                                                                                                                0 non-null      float64\n",
            " 27  Unnamed: 27                                                                                                                                311 non-null    object \n",
            " 28  Unnamed: 28                                                                                                                                308 non-null    object \n",
            " 29  Unnamed: 29                                                                                                                                309 non-null    object \n",
            " 30  Unnamed: 30                                                                                                                                308 non-null    object \n",
            " 31  Unnamed: 31                                                                                                                                309 non-null    object \n",
            " 32  Unnamed: 32                                                                                                                                308 non-null    object \n",
            " 33  Unnamed: 33                                                                                                                                309 non-null    object \n",
            " 34  Unnamed: 34                                                                                                                                308 non-null    object \n",
            " 35  Unnamed: 35                                                                                                                                309 non-null    object \n",
            " 36  Unnamed: 36                                                                                                                                308 non-null    object \n",
            " 37  Unnamed: 37                                                                                                                                309 non-null    object \n",
            " 38  Unnamed: 38                                                                                                                                308 non-null    object \n",
            " 39  Unnamed: 39                                                                                                                                0 non-null      float64\n",
            " 40  Unnamed: 40                                                                                                                                311 non-null    object \n",
            " 41  Unnamed: 41                                                                                                                                308 non-null    object \n",
            " 42  Unnamed: 42                                                                                                                                309 non-null    object \n",
            " 43  Unnamed: 43                                                                                                                                308 non-null    object \n",
            " 44  Unnamed: 44                                                                                                                                309 non-null    object \n",
            " 45  Unnamed: 45                                                                                                                                308 non-null    object \n",
            " 46  Unnamed: 46                                                                                                                                309 non-null    object \n",
            " 47  Unnamed: 47                                                                                                                                308 non-null    object \n",
            " 48  Unnamed: 48                                                                                                                                309 non-null    object \n",
            " 49  Unnamed: 49                                                                                                                                308 non-null    object \n",
            " 50  Unnamed: 50                                                                                                                                0 non-null      float64\n",
            " 51  Unnamed: 51                                                                                                                                311 non-null    object \n",
            " 52  Unnamed: 52                                                                                                                                308 non-null    object \n",
            " 53  Unnamed: 53                                                                                                                                309 non-null    object \n",
            " 54  Unnamed: 54                                                                                                                                308 non-null    object \n",
            " 55  Unnamed: 55                                                                                                                                309 non-null    object \n",
            " 56  Unnamed: 56                                                                                                                                308 non-null    object \n",
            " 57  Unnamed: 57                                                                                                                                0 non-null      float64\n",
            " 58  Unnamed: 58                                                                                                                                311 non-null    object \n",
            " 59  Unnamed: 59                                                                                                                                308 non-null    object \n",
            "dtypes: float64(6), object(54)\n",
            "memory usage: 153.9+ KB\n"
          ]
        }
      ]
    },
    {
      "cell_type": "code",
      "source": [
        "# Remove rows with missing values below the 5th line\n",
        "df_cleaned = pd.concat([data.iloc[:5], data.iloc[5:].dropna(thresh=len(data.columns)-3)])\n",
        "\n",
        "# Save the cleaned data to a new Excel file\n",
        "cleaned_file_path = '/content/Detailed2.csv'\n",
        "df_cleaned.to_csv(cleaned_file_path, index=False)\n",
        "\n",
        "print(\"Data cleaning completed successfully!\")"
      ],
      "metadata": {
        "colab": {
          "base_uri": "https://localhost:8080/"
        },
        "id": "7zCohfOiP9f0",
        "outputId": "d6dfe0ef-7e64-4466-8134-ffd82030793f"
      },
      "execution_count": 7,
      "outputs": [
        {
          "output_type": "stream",
          "name": "stdout",
          "text": [
            "Data cleaning completed successfully!\n"
          ]
        }
      ]
    },
    {
      "cell_type": "code",
      "source": [
        "print(data.columns)"
      ],
      "metadata": {
        "id": "vCq6d7ysXEIv",
        "colab": {
          "base_uri": "https://localhost:8080/"
        },
        "outputId": "67e47788-ef67-4afa-ee5c-bf5ae36da263"
      },
      "execution_count": 2,
      "outputs": [
        {
          "output_type": "stream",
          "name": "stdout",
          "text": [
            "Index(['Table A8 - Ethnicity of main applicants assessed as owed a prevention or relief duty by local authority\\nEngland, April 2023 to March 2024',\n",
            "       'Unnamed: 1', 'Unnamed: 2', 'Unnamed: 3', 'Unnamed: 4', 'Unnamed: 5',\n",
            "       'Unnamed: 6', 'Unnamed: 7', 'Unnamed: 8', 'Unnamed: 9', 'Unnamed: 10',\n",
            "       'Unnamed: 11', 'Unnamed: 12', 'Unnamed: 13', 'Unnamed: 14',\n",
            "       'Unnamed: 15', 'Unnamed: 16', 'Unnamed: 17', 'Unnamed: 18',\n",
            "       'Unnamed: 19', 'Unnamed: 20', 'Unnamed: 21', 'Unnamed: 22',\n",
            "       'Unnamed: 23', 'Unnamed: 24', 'Unnamed: 25', 'Unnamed: 26',\n",
            "       'Unnamed: 27', 'Unnamed: 28', 'Unnamed: 29', 'Unnamed: 30',\n",
            "       'Unnamed: 31', 'Unnamed: 32', 'Unnamed: 33', 'Unnamed: 34',\n",
            "       'Unnamed: 35', 'Unnamed: 36', 'Unnamed: 37', 'Unnamed: 38',\n",
            "       'Unnamed: 39', 'Unnamed: 40', 'Unnamed: 41', 'Unnamed: 42',\n",
            "       'Unnamed: 43', 'Unnamed: 44', 'Unnamed: 45', 'Unnamed: 46',\n",
            "       'Unnamed: 47', 'Unnamed: 48', 'Unnamed: 49', 'Unnamed: 50',\n",
            "       'Unnamed: 51', 'Unnamed: 52', 'Unnamed: 53', 'Unnamed: 54',\n",
            "       'Unnamed: 55', 'Unnamed: 56', 'Unnamed: 57', 'Unnamed: 58',\n",
            "       'Unnamed: 59'],\n",
            "      dtype='object')\n"
          ]
        }
      ]
    },
    {
      "cell_type": "code",
      "source": [
        "# Define multi-level column headers\n",
        "columns = [\n",
        "    (\"White\", \"Total\"), (\"White\", \"White: English / Welsh / Scottish / NI / British\"),\n",
        "    (\"White\", \"White: Irish\"), (\"White\", \"White: Gypsy or Irish Traveller\"), (\"White\", \"Any other White ethnic group\"),\n",
        "    (\"Black / African / Caribbean / Black British\", \"Total\"), (\"Black / African / Caribbean / Black British\", \"Black: African\"),\n",
        "    (\"Black / African / Caribbean / Black British\", \"Black: Caribbean\"), (\"Black / African / Caribbean / Black British\", \"Any other Black background\"),\n",
        "    (\"Asian / Asian British\", \"Total\"), (\"Asian / Asian British\", \"Asian: Indian\"), (\"Asian / Asian British\", \"Asian: Bangladeshi\"),\n",
        "    (\"Asian / Asian British\", \"Asian: Chinese\"), (\"Asian / Asian British\", \"Any other Asian background\"),\n",
        "    (\"Mixed / Multiple ethnic groups\", \"Total\"), (\"Mixed / Multiple ethnic groups\", \"White and Black Caribbean\"),\n",
        "    (\"Mixed / Multiple ethnic groups\", \"White and Black African\"), (\"Mixed / Multiple ethnic groups\", \"White and Asian\"),\n",
        "    (\"Mixed / Multiple ethnic groups\", \"Any other Mixed background\"),\n",
        "    (\"Other ethnic group\", \"Total\"), (\"Other ethnic group\", \"Other ethnic group: Arab\"),\n",
        "    (\"Other ethnic group\", \"Any other ethnic group\")\n",
        "]\n",
        "\n",
        "# Assign the multi-index to the selected columns\n",
        "data.to_csv(\"/content/Detailed.csv\", index=False)\n",
        "print(\"Data loaded and columns renamed successfully!\")"
      ],
      "metadata": {
        "id": "jP1PE6nIXLK9"
      },
      "execution_count": null,
      "outputs": []
    }
  ]
}