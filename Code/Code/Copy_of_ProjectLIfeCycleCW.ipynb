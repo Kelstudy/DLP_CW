{
  "nbformat": 4,
  "nbformat_minor": 0,
  "metadata": {
    "colab": {
      "provenance": []
    },
    "kernelspec": {
      "name": "python3",
      "display_name": "Python 3"
    },
    "language_info": {
      "name": "python"
    }
  },
  "cells": [
    {
      "cell_type": "code",
      "execution_count": null,
      "metadata": {
        "id": "MaSJtRu7vmvY",
        "colab": {
          "base_uri": "https://localhost:8080/",
          "height": 582
        },
        "outputId": "0b70f7ca-ac74-49bd-ecce-a9c36c4c4dc6"
      },
      "outputs": [
        {
          "output_type": "stream",
          "name": "stdout",
          "text": [
            "Requirement already satisfied: matplotlib in /usr/local/lib/python3.11/dist-packages (3.10.0)\n",
            "Requirement already satisfied: seaborn in /usr/local/lib/python3.11/dist-packages (0.13.2)\n",
            "Requirement already satisfied: contourpy>=1.0.1 in /usr/local/lib/python3.11/dist-packages (from matplotlib) (1.3.1)\n",
            "Requirement already satisfied: cycler>=0.10 in /usr/local/lib/python3.11/dist-packages (from matplotlib) (0.12.1)\n",
            "Requirement already satisfied: fonttools>=4.22.0 in /usr/local/lib/python3.11/dist-packages (from matplotlib) (4.56.0)\n",
            "Requirement already satisfied: kiwisolver>=1.3.1 in /usr/local/lib/python3.11/dist-packages (from matplotlib) (1.4.8)\n",
            "Requirement already satisfied: numpy>=1.23 in /usr/local/lib/python3.11/dist-packages (from matplotlib) (1.26.4)\n",
            "Requirement already satisfied: packaging>=20.0 in /usr/local/lib/python3.11/dist-packages (from matplotlib) (24.2)\n",
            "Requirement already satisfied: pillow>=8 in /usr/local/lib/python3.11/dist-packages (from matplotlib) (11.1.0)\n",
            "Requirement already satisfied: pyparsing>=2.3.1 in /usr/local/lib/python3.11/dist-packages (from matplotlib) (3.2.1)\n",
            "Requirement already satisfied: python-dateutil>=2.7 in /usr/local/lib/python3.11/dist-packages (from matplotlib) (2.8.2)\n",
            "Requirement already satisfied: pandas>=1.2 in /usr/local/lib/python3.11/dist-packages (from seaborn) (2.2.2)\n",
            "Requirement already satisfied: pytz>=2020.1 in /usr/local/lib/python3.11/dist-packages (from pandas>=1.2->seaborn) (2025.1)\n",
            "Requirement already satisfied: tzdata>=2022.7 in /usr/local/lib/python3.11/dist-packages (from pandas>=1.2->seaborn) (2025.1)\n",
            "Requirement already satisfied: six>=1.5 in /usr/local/lib/python3.11/dist-packages (from python-dateutil>=2.7->matplotlib) (1.17.0)\n"
          ]
        },
        {
          "output_type": "error",
          "ename": "FileNotFoundError",
          "evalue": "[Errno 2] No such file or directory: '/content/UoW Data 2024_25.xlsx'",
          "traceback": [
            "\u001b[0;31m---------------------------------------------------------------------------\u001b[0m",
            "\u001b[0;31mFileNotFoundError\u001b[0m                         Traceback (most recent call last)",
            "\u001b[0;32m<ipython-input-1-04891938deba>\u001b[0m in \u001b[0;36m<cell line: 0>\u001b[0;34m()\u001b[0m\n\u001b[1;32m      5\u001b[0m \u001b[0;32mfrom\u001b[0m \u001b[0msklearn\u001b[0m \u001b[0;32mimport\u001b[0m \u001b[0mpreprocessing\u001b[0m\u001b[0;34m\u001b[0m\u001b[0;34m\u001b[0m\u001b[0m\n\u001b[1;32m      6\u001b[0m \u001b[0;34m\u001b[0m\u001b[0m\n\u001b[0;32m----> 7\u001b[0;31m \u001b[0mdata\u001b[0m \u001b[0;34m=\u001b[0m \u001b[0mpd\u001b[0m\u001b[0;34m.\u001b[0m\u001b[0mread_excel\u001b[0m\u001b[0;34m(\u001b[0m\u001b[0;34m\"/content/UoW Data 2024_25.xlsx\"\u001b[0m\u001b[0;34m,\u001b[0m \u001b[0msheet_name\u001b[0m\u001b[0;34m=\u001b[0m\u001b[0;36m1\u001b[0m\u001b[0;34m)\u001b[0m \u001b[0;31m#this function openes the second sheet within the excel file\u001b[0m\u001b[0;34m\u001b[0m\u001b[0;34m\u001b[0m\u001b[0m\n\u001b[0m",
            "\u001b[0;32m/usr/local/lib/python3.11/dist-packages/pandas/io/excel/_base.py\u001b[0m in \u001b[0;36mread_excel\u001b[0;34m(io, sheet_name, header, names, index_col, usecols, dtype, engine, converters, true_values, false_values, skiprows, nrows, na_values, keep_default_na, na_filter, verbose, parse_dates, date_parser, date_format, thousands, decimal, comment, skipfooter, storage_options, dtype_backend, engine_kwargs)\u001b[0m\n\u001b[1;32m    493\u001b[0m     \u001b[0;32mif\u001b[0m \u001b[0;32mnot\u001b[0m \u001b[0misinstance\u001b[0m\u001b[0;34m(\u001b[0m\u001b[0mio\u001b[0m\u001b[0;34m,\u001b[0m \u001b[0mExcelFile\u001b[0m\u001b[0;34m)\u001b[0m\u001b[0;34m:\u001b[0m\u001b[0;34m\u001b[0m\u001b[0;34m\u001b[0m\u001b[0m\n\u001b[1;32m    494\u001b[0m         \u001b[0mshould_close\u001b[0m \u001b[0;34m=\u001b[0m \u001b[0;32mTrue\u001b[0m\u001b[0;34m\u001b[0m\u001b[0;34m\u001b[0m\u001b[0m\n\u001b[0;32m--> 495\u001b[0;31m         io = ExcelFile(\n\u001b[0m\u001b[1;32m    496\u001b[0m             \u001b[0mio\u001b[0m\u001b[0;34m,\u001b[0m\u001b[0;34m\u001b[0m\u001b[0;34m\u001b[0m\u001b[0m\n\u001b[1;32m    497\u001b[0m             \u001b[0mstorage_options\u001b[0m\u001b[0;34m=\u001b[0m\u001b[0mstorage_options\u001b[0m\u001b[0;34m,\u001b[0m\u001b[0;34m\u001b[0m\u001b[0;34m\u001b[0m\u001b[0m\n",
            "\u001b[0;32m/usr/local/lib/python3.11/dist-packages/pandas/io/excel/_base.py\u001b[0m in \u001b[0;36m__init__\u001b[0;34m(self, path_or_buffer, engine, storage_options, engine_kwargs)\u001b[0m\n\u001b[1;32m   1548\u001b[0m                 \u001b[0mext\u001b[0m \u001b[0;34m=\u001b[0m \u001b[0;34m\"xls\"\u001b[0m\u001b[0;34m\u001b[0m\u001b[0;34m\u001b[0m\u001b[0m\n\u001b[1;32m   1549\u001b[0m             \u001b[0;32melse\u001b[0m\u001b[0;34m:\u001b[0m\u001b[0;34m\u001b[0m\u001b[0;34m\u001b[0m\u001b[0m\n\u001b[0;32m-> 1550\u001b[0;31m                 ext = inspect_excel_format(\n\u001b[0m\u001b[1;32m   1551\u001b[0m                     \u001b[0mcontent_or_path\u001b[0m\u001b[0;34m=\u001b[0m\u001b[0mpath_or_buffer\u001b[0m\u001b[0;34m,\u001b[0m \u001b[0mstorage_options\u001b[0m\u001b[0;34m=\u001b[0m\u001b[0mstorage_options\u001b[0m\u001b[0;34m\u001b[0m\u001b[0;34m\u001b[0m\u001b[0m\n\u001b[1;32m   1552\u001b[0m                 )\n",
            "\u001b[0;32m/usr/local/lib/python3.11/dist-packages/pandas/io/excel/_base.py\u001b[0m in \u001b[0;36minspect_excel_format\u001b[0;34m(content_or_path, storage_options)\u001b[0m\n\u001b[1;32m   1400\u001b[0m         \u001b[0mcontent_or_path\u001b[0m \u001b[0;34m=\u001b[0m \u001b[0mBytesIO\u001b[0m\u001b[0;34m(\u001b[0m\u001b[0mcontent_or_path\u001b[0m\u001b[0;34m)\u001b[0m\u001b[0;34m\u001b[0m\u001b[0;34m\u001b[0m\u001b[0m\n\u001b[1;32m   1401\u001b[0m \u001b[0;34m\u001b[0m\u001b[0m\n\u001b[0;32m-> 1402\u001b[0;31m     with get_handle(\n\u001b[0m\u001b[1;32m   1403\u001b[0m         \u001b[0mcontent_or_path\u001b[0m\u001b[0;34m,\u001b[0m \u001b[0;34m\"rb\"\u001b[0m\u001b[0;34m,\u001b[0m \u001b[0mstorage_options\u001b[0m\u001b[0;34m=\u001b[0m\u001b[0mstorage_options\u001b[0m\u001b[0;34m,\u001b[0m \u001b[0mis_text\u001b[0m\u001b[0;34m=\u001b[0m\u001b[0;32mFalse\u001b[0m\u001b[0;34m\u001b[0m\u001b[0;34m\u001b[0m\u001b[0m\n\u001b[1;32m   1404\u001b[0m     ) as handle:\n",
            "\u001b[0;32m/usr/local/lib/python3.11/dist-packages/pandas/io/common.py\u001b[0m in \u001b[0;36mget_handle\u001b[0;34m(path_or_buf, mode, encoding, compression, memory_map, is_text, errors, storage_options)\u001b[0m\n\u001b[1;32m    880\u001b[0m         \u001b[0;32melse\u001b[0m\u001b[0;34m:\u001b[0m\u001b[0;34m\u001b[0m\u001b[0;34m\u001b[0m\u001b[0m\n\u001b[1;32m    881\u001b[0m             \u001b[0;31m# Binary mode\u001b[0m\u001b[0;34m\u001b[0m\u001b[0;34m\u001b[0m\u001b[0m\n\u001b[0;32m--> 882\u001b[0;31m             \u001b[0mhandle\u001b[0m \u001b[0;34m=\u001b[0m \u001b[0mopen\u001b[0m\u001b[0;34m(\u001b[0m\u001b[0mhandle\u001b[0m\u001b[0;34m,\u001b[0m \u001b[0mioargs\u001b[0m\u001b[0;34m.\u001b[0m\u001b[0mmode\u001b[0m\u001b[0;34m)\u001b[0m\u001b[0;34m\u001b[0m\u001b[0;34m\u001b[0m\u001b[0m\n\u001b[0m\u001b[1;32m    883\u001b[0m         \u001b[0mhandles\u001b[0m\u001b[0;34m.\u001b[0m\u001b[0mappend\u001b[0m\u001b[0;34m(\u001b[0m\u001b[0mhandle\u001b[0m\u001b[0;34m)\u001b[0m\u001b[0;34m\u001b[0m\u001b[0;34m\u001b[0m\u001b[0m\n\u001b[1;32m    884\u001b[0m \u001b[0;34m\u001b[0m\u001b[0m\n",
            "\u001b[0;31mFileNotFoundError\u001b[0m: [Errno 2] No such file or directory: '/content/UoW Data 2024_25.xlsx'"
          ]
        }
      ],
      "source": [
        "!pip install matplotlib seaborn\n",
        "import matplotlib.pyplot as plt\n",
        "import seaborn as sns\n",
        "import pandas as pd\n",
        "from sklearn import preprocessing\n",
        "\n",
        "data = pd.read_excel(\"/content/UoW Data 2024_25.xlsx\", sheet_name=1) #this function openes the second sheet within the excel file"
      ]
    },
    {
      "cell_type": "code",
      "source": [
        "data.info() #i used this function to view if i correctly openend the desired sheet, to view the columns and names, their data types and to view if there are any missing data"
      ],
      "metadata": {
        "id": "6vDPJNzvULn7"
      },
      "execution_count": null,
      "outputs": []
    },
    {
      "cell_type": "code",
      "source": [
        "#with this function i rename the colums by shortening them so it is more readable\n",
        "new_column_names = [\n",
        "    'Timestamp',\n",
        "    \"ethnicity\",\n",
        "    \"nationality\",\n",
        "    \"No_Of_Dependents/Children\",\n",
        "    \"uk_shoe_size\",\n",
        "    \"shoe_purpose\",\n",
        "    \"employment_status\",\n",
        "    \"Do_you_receive_Universal_Credit?\",\n",
        "    \"education/training\",\n",
        "    \"looked_after_or_care_leaver\",\n",
        "    \"recently_released_prison(in the last 6 months)\",\n",
        "    \"seeking_asylum\",\n",
        "    \"youth_support\",\n",
        "    \"resole_source\"\n",
        "]\n",
        "data.columns = new_column_names\n",
        "\n",
        "data.to_csv(\"cleaned_data.csv\", index=False)\n",
        "print(\"Data loaded and columns renamed successfully!\")"
      ],
      "metadata": {
        "id": "9QgagT8TahJ2"
      },
      "execution_count": null,
      "outputs": []
    },
    {
      "cell_type": "code",
      "source": [
        "#I have dropped these columns as they are unessary and serve no purpose for our task in hand\n",
        "data = data.drop(columns=(['Timestamp', \"uk_shoe_size\"]))"
      ],
      "metadata": {
        "id": "p9cNzXXbGBGV"
      },
      "execution_count": null,
      "outputs": []
    },
    {
      "cell_type": "code",
      "source": [
        "#With this code i created a heatmap that identified columns that have mising values\n",
        "missing_values = data.isnull().sum()\n",
        "print(\"Missing values per column:\\n\", missing_values)\n",
        "\n",
        "print(\"Data types:\\n\", data.dtypes)\n",
        "\n",
        "\n",
        "plt.figure(figsize=(12, 6))\n",
        "sns.heatmap(data.isnull(), cbar=False, cmap=\"viridis\", yticklabels=False)\n",
        "plt.title(\"Heatmap of Missing Values\")\n",
        "plt.show()"
      ],
      "metadata": {
        "id": "N5FHMr2sX0-x"
      },
      "execution_count": null,
      "outputs": []
    },
    {
      "cell_type": "code",
      "source": [
        "data = data.dropna(thresh=len(data.columns)-3)  #This drops rows with 3 or more missing values (unsalvageable data)"
      ],
      "metadata": {
        "id": "5ygccVKl9eJ6"
      },
      "execution_count": null,
      "outputs": []
    },
    {
      "cell_type": "code",
      "source": [
        "data.isna().sum()/len(data)*100 #This function informs me of the percentage of missing values per column"
      ],
      "metadata": {
        "id": "HvUCO2ZqYOge"
      },
      "execution_count": null,
      "outputs": []
    },
    {
      "cell_type": "code",
      "source": [
        "#This function shows me all the values within this column so I would be able to standardise the values\n",
        "data[\"No_Of_Dependents/Children\"].unique()"
      ],
      "metadata": {
        "id": "BUdzmtbe_GV0"
      },
      "execution_count": null,
      "outputs": []
    },
    {
      "cell_type": "code",
      "source": [
        "data.info()"
      ],
      "metadata": {
        "id": "dqAfmMqgByKB"
      },
      "execution_count": null,
      "outputs": []
    },
    {
      "cell_type": "code",
      "source": [
        "#MOURAD CODE\n",
        "# #With this block of code i encoded the values\n",
        "# #data['No_Of_Dependents/Children'] = data['No_Of_Dependents/Children'].map({'3 kids': 3, '3 chlid': 3, 'no': 0, 'No': 0, 'No ': 0, 'Children': 1,'3 childrens': 3, 'I am alone': 0, '0': 0, '1': 1, '3': 3, '2': 2, '5': 5, '4': 4,})\n",
        "\n",
        "\n",
        "\n",
        "# data.loc['No_of_Dependents/children'] = data['No_of_Dependents/children'].map({'3 kids': 3, '3 chlid': 3, 'no': 0, 'No': 0, 'No ': 0, 'Children': 1,'3 childrens': 3, 'I am alone': 0, '0': 0, '1': 1, '3': 3, '2': 2, '5': 5, '4': 4,})"
      ],
      "metadata": {
        "id": "vUdQsXmf-5W0"
      },
      "execution_count": null,
      "outputs": []
    },
    {
      "cell_type": "code",
      "source": [
        "#KELVIN CODE TO FIX DEPENDENTS ENCODING/MAPPING\n",
        "\n",
        "# Convert 'No_Of_Dependents/Children' to string type as encoding without this removes all NaN values\n",
        "data['No_Of_Dependents/Children'] = data['No_Of_Dependents/Children'].astype(str)\n",
        "\n",
        "# Apply the mapping\n",
        "data.loc[:, 'No_Of_Dependents/Children'] = data['No_Of_Dependents/Children'].map({'3 kids': '3', '3 chlid': '3', 'no': '0', 'No': '0', 'No ': '0', 'Children': '1','3 childrens': '3', 'I am alone': '0', '0': '0', '1': '1', '3': '3', '2': '2', '5': '5', '4': '4'})\n",
        "\n",
        "# NEED TO SORT NAN VALUES BEFORE CAN CONVERT THIS COLUMN TO AN INT FOR ANALYSIS\n",
        "\n",
        "data['No_Of_Dependents/Children'].unique()\n",
        "\n",
        "data.isna().sum()/len(data)*100 #This function informs me of the percentage of missing values per column\n",
        "data.info()"
      ],
      "metadata": {
        "id": "HJfqkEMBhgC9"
      },
      "execution_count": null,
      "outputs": []
    },
    {
      "cell_type": "code",
      "source": [
        "data.info()"
      ],
      "metadata": {
        "id": "OoITUpBFBxfb"
      },
      "execution_count": null,
      "outputs": []
    },
    {
      "cell_type": "code",
      "source": [
        "# I perfomerd this to check if my code was succesfully executed\n",
        "data[\"No_Of_Dependents/Children\"].unique()"
      ],
      "metadata": {
        "id": "Qt3s2oqKAVGM"
      },
      "execution_count": null,
      "outputs": []
    },
    {
      "cell_type": "code",
      "source": [
        "#This function shows me all the values within this column so I would be able to standardise the values\n",
        "data['ethnicity'].unique()"
      ],
      "metadata": {
        "id": "GKvCwpFBclkf"
      },
      "execution_count": null,
      "outputs": []
    },
    {
      "cell_type": "code",
      "source": [
        "# this code shoes the distribution of values so i am able to compare the before and after to see if the standardising was executed correctly\n",
        "data['ethnicity'].value_counts()"
      ],
      "metadata": {
        "id": "V_NLNhQb-mpq"
      },
      "execution_count": null,
      "outputs": []
    },
    {
      "cell_type": "code",
      "source": [
        "#This function shows me all the values within this column so I would be able to standardise the values\n",
        "data['nationality'].unique()"
      ],
      "metadata": {
        "id": "Y8PahSUCeZja"
      },
      "execution_count": null,
      "outputs": []
    },
    {
      "cell_type": "code",
      "source": [
        "# this code shoes the distribution of values so i am able to compare the before and after to see if the standardising was executed correctly\n",
        "data['nationality'].value_counts()"
      ],
      "metadata": {
        "id": "4CZIBHZ6-s3P"
      },
      "execution_count": null,
      "outputs": []
    },
    {
      "cell_type": "code",
      "source": [
        "#with this code i mapped the ethnicity and nationality columns to standardise them\n",
        "\n",
        "ethnicity_mapping = {\n",
        "    \"Asian or Asian British\": [\"Asian\", \"South Asian\", \"Pakistan\", \"Balochistan (Pakistan)\", \"India\", \"Indian\", \"Bangladeshi\", \"Bangladeshi \", \"Filipino\", \"Srilankan \"],\n",
        "\n",
        "    \"Black, Black British, Caribbean or African\": [\"British African\", \"African caribbean british\", \"African\", \"African caribbean british \", \"Caribbean british \", \"Caribbean\", \"Black \",\n",
        "                                                   \"Black Caribbean \", \"Black African\", \"Black African \", \"Black British \", \"Black british \", \"Black - African\",\n",
        "                                                   \"Africa \", \"Africans \", \"African \", \"Sierra Leonean \", \"Eritrean\", \"Ethiopian\", \"Sudanese\", \"Africans  Black \", \"Black\", \"Black  Caribbean \"],\n",
        "\n",
        "    \"Mixed or Multiple Ethnic Groups\": [\"Mixed\", \"Mixed Race \", \"Mix\", \"Mix black white\", \"Europe mixed raced\"],\n",
        "\n",
        "    \"White\": [\"British\", \"British \", \"White\", \"White \", \"White / English\", \"White British\", \"EUROPIAN\", \"English\", \"Irish\", \"German\", \"Romanian\", \"Polish\", \"Spanish\", \"albanian\", \"Cypriot\"],\n",
        "\n",
        "    \"Other Ethnic Groups\": [\"Kurdish\", \"Kurd\", \"Irani \", \"Iran\", \"Persian\", \"Iranian\", \"Arab\", \"Arab \", \"Arab without kuwait\", \"Arabic\", \"South american\", \"Latino\", \"Latioamericana\", \"Afghani\", \"Afghani \", \"Afghanistan \", \"Afghan\"],\n",
        "\n",
        "    \"Unknown\": [\"Not know\", \"male\", \"london\"]\n",
        "\n",
        "\n",
        "}\n",
        "\n",
        "nationality_mapping = {\n",
        "\n",
        "    \"Asian\": [\"Asian\"],\n",
        "\n",
        "    \"Afghanistan\" : [\"Afghan\", \"Afghani\", \"Afghanistan\", \"Afghanistan \"],\n",
        "\n",
        "    \"Pakistani\" : [\"Pakistani \", \"Balochistani\"],\n",
        "\n",
        "    \"Indian\" : [\"Indian\"],\n",
        "\n",
        "    \"Srilankan\" : [\"Srilankan \"],\n",
        "\n",
        "    \"Carribea\": [\"Carribean \"],\n",
        "\n",
        "    \"Gambian\": [\"Gambian\"],\n",
        "\n",
        "    \"Mauritian\": [\"Mauritian\"],\n",
        "\n",
        "    \"Congolese\": [\"Congolese \", \"Democratic Republic of Congo \"],\n",
        "\n",
        "    \"Chadian\": [\"Chadian \"],\n",
        "\n",
        "    \"Somali\": [\"SOMALI\"],\n",
        "\n",
        "    \"Sierra Leonean\": [\"Sierra leone\"],\n",
        "\n",
        "    \"Eritrean\": [\"Eritrean \", \"Eritrean\"],\n",
        "\n",
        "    \"Ethiopian\": [\"Ethiopian \", \"Ethiopian\"],\n",
        "\n",
        "    \"Sudanese\": [\"Sudanese \"],\n",
        "\n",
        "    \"Botswanaan\": [\"Motswana \", \"Motswana0\", \"Motswana\"],\n",
        "\n",
        "    \"Namibian\": [\"Namibian\"],\n",
        "\n",
        "    \"Egypt\": [\"Egypt\"],\n",
        "\n",
        "    \"Nigera\": [\"Nigerian \", \"Nigeria \"],\n",
        "\n",
        "    \"German\": [\"German \"],\n",
        "\n",
        "    \"Spanish\": [\"Spanish \", \"Spanish\"],\n",
        "\n",
        "    \"Italian\": [\"Italian \"],\n",
        "\n",
        "    \"Albanian\": [\"Albanian\", \"ALBENIAN\", \"albania\"],\n",
        "\n",
        "    \"British\": [\"Kittisian/British\", \"British\", \"British \", \"Brithish\", \"Brit \", \"English\", \"UK national\", \"Uk\"],\n",
        "\n",
        "    \"Irish\": [\"irish\"],\n",
        "\n",
        "    \"Romania\": [\"Romanian\"],\n",
        "\n",
        "    \"Polish\": [\"Polish\"],\n",
        "\n",
        "    \"Iran\": [\"Iranian \", \"Iranian\", \"Iran\", \"Iran \"],\n",
        "\n",
        "    \"Kuwait\": [\"Kuwait\"],\n",
        "\n",
        "    \"Jordanian\": [\"Jordanian\"],\n",
        "\n",
        "    \"Iraqi\": [\"Iraqi\"],\n",
        "\n",
        "    \"Syrian\": [\"Syrian\", \"Syria \"],\n",
        "\n",
        "    \"Yemen\": [\"Yemen\"],\n",
        "\n",
        "    \"Brazil\": [\"Brasileiro \", \"Brazilian\"],\n",
        "\n",
        "    \"Colombian\": [\"Colombia \"],\n",
        "\n",
        "    \"Venezuelan\": [\"Venezuelan\"],\n",
        "\n",
        "    \"Unknown\": [\"Refugee Status granted in 2024\", \"Asylum seeker\", \"Not known\"]\n",
        "\n",
        "}\n",
        "\n",
        "\n",
        "def standardize_column_values(column, mapping):\n",
        "    for standard, variants in mapping.items():\n",
        "        column = column.replace(variants, standard)\n",
        "    return column\n",
        "\n",
        "\n",
        "data[\"ethnicity\"] = standardize_column_values(data[\"ethnicity\"], ethnicity_mapping)\n",
        "data[\"nationality\"] = standardize_column_values(data[\"nationality\"], nationality_mapping)\n",
        "\n",
        "\n",
        "cleaned_file_path = \"/content/cleaned_data.csv\"\n",
        "data.to_csv(cleaned_file_path, index=False)\n",
        "\n",
        "cleaned_file_path"
      ],
      "metadata": {
        "id": "NSr_QrUb7Mh0"
      },
      "execution_count": null,
      "outputs": []
    },
    {
      "cell_type": "code",
      "source": [
        "# I perfomerd this to check if my code was succesfully executed\n",
        "data['ethnicity'].unique()"
      ],
      "metadata": {
        "id": "TQ4hsiyuembf"
      },
      "execution_count": null,
      "outputs": []
    },
    {
      "cell_type": "code",
      "source": [
        "# I perfomerd this to check if my code was succesfully executed\n",
        "data['ethnicity'].value_counts()"
      ],
      "metadata": {
        "id": "BbtZNnwz-u3g"
      },
      "execution_count": null,
      "outputs": []
    },
    {
      "cell_type": "code",
      "source": [
        "# I perfomerd this to check if my code was succesfully executed\n",
        "data['nationality'].unique()"
      ],
      "metadata": {
        "id": "lnFKYFCkeqcR"
      },
      "execution_count": null,
      "outputs": []
    },
    {
      "cell_type": "code",
      "source": [
        "# I perfomerd this to check if my code was succesfully executed\n",
        "data['nationality'].value_counts()"
      ],
      "metadata": {
        "id": "4lYDU0bF-urG"
      },
      "execution_count": null,
      "outputs": []
    },
    {
      "cell_type": "code",
      "source": [
        "#This function shows me all the values within this column so I would be able to standardise the values\n",
        "data['Do_you_receive_Universal_Credit?'].unique()"
      ],
      "metadata": {
        "id": "W5llx9lwzAux"
      },
      "execution_count": null,
      "outputs": []
    },
    {
      "cell_type": "code",
      "source": [
        "# this code shoWs the distribution of values so i am able to compare the before and after to see if the standardising was executed correctly\n",
        "data['Do_you_receive_Universal_Credit?'].value_counts()"
      ],
      "metadata": {
        "id": "O7CICkXE6Q4j"
      },
      "execution_count": null,
      "outputs": []
    },
    {
      "cell_type": "code",
      "source": [
        "#This function shows me all the values within this column so I would be able to standardise the values\n",
        "data['recently_released_prison(in the last 6 months)'].unique()"
      ],
      "metadata": {
        "id": "k2Q8DLnwziAo"
      },
      "execution_count": null,
      "outputs": []
    },
    {
      "cell_type": "code",
      "source": [
        "# this code shoes the distribution of values so i am able to compare the before and after to see if the standardising was executed correctly\n",
        "data['recently_released_prison(in the last 6 months)'].value_counts()"
      ],
      "metadata": {
        "id": "BX2lydwI6QAV"
      },
      "execution_count": null,
      "outputs": []
    },
    {
      "cell_type": "code",
      "source": [
        "#This function shows me all the values within this column so I would be able to standardise the values\n",
        "data['education/training'].unique()"
      ],
      "metadata": {
        "id": "Wrqb6jTMzIQf"
      },
      "execution_count": null,
      "outputs": []
    },
    {
      "cell_type": "code",
      "source": [
        "# this code shoes the distribution of values so i am able to compare the before and after to see if the standardising was executed correctly\n",
        "data['education/training'].value_counts()"
      ],
      "metadata": {
        "id": "-C-P5GaW6Og1"
      },
      "execution_count": null,
      "outputs": []
    },
    {
      "cell_type": "code",
      "source": [
        "#This function shows me all the values within this column so I would be able to standardise the values\n",
        "data['looked_after_or_care_leaver'].unique()"
      ],
      "metadata": {
        "id": "rpio2ceezWNj"
      },
      "execution_count": null,
      "outputs": []
    },
    {
      "cell_type": "code",
      "source": [
        "# this code shoes the distribution of values so i am able to compare the before and after to see if the standardising was executed correctly\n",
        "data['looked_after_or_care_leaver'].value_counts()"
      ],
      "metadata": {
        "id": "rQvVzVfW6MYT"
      },
      "execution_count": null,
      "outputs": []
    },
    {
      "cell_type": "code",
      "source": [
        "#This function shows me all the values within this column so I would be able to standardise the values\n",
        "data['seeking_asylum'].unique()"
      ],
      "metadata": {
        "id": "9kFzC4hWzEnQ"
      },
      "execution_count": null,
      "outputs": []
    },
    {
      "cell_type": "code",
      "source": [
        "# this code shoes the distribution of values so i am able to compare the before and after to see if the standardising was executed correctly\n",
        "data['seeking_asylum'].value_counts()"
      ],
      "metadata": {
        "id": "Iv5mnwen6KEJ"
      },
      "execution_count": null,
      "outputs": []
    },
    {
      "cell_type": "code",
      "source": [
        "#This function shows me all the values within this column so I would be able to standardise the values\n",
        "data['youth_support'].unique()"
      ],
      "metadata": {
        "id": "bE3Qxb7qzrtr"
      },
      "execution_count": null,
      "outputs": []
    },
    {
      "cell_type": "code",
      "source": [
        "# this code shoes the distribution of values so i am able to compare the before and after to see if the standardising was executed correctly\n",
        "data['youth_support'].value_counts()"
      ],
      "metadata": {
        "id": "QfxvTZQv6I4d"
      },
      "execution_count": null,
      "outputs": []
    },
    {
      "cell_type": "code",
      "source": [
        "data.info()"
      ],
      "metadata": {
        "id": "9hIuFKuRBscO"
      },
      "execution_count": null,
      "outputs": []
    },
    {
      "cell_type": "code",
      "source": [
        "#with this code i encoded and mapped the following variables in order to make the dataset more readable\n",
        "label_encoder = preprocessing.LabelEncoder()\n",
        "\n",
        "data[\"Do_you_receive_Universal_Credit?\"]= label_encoder.fit_transform(data[\"Do_you_receive_Universal_Credit?\"]) #1 yes i have, 0 no im havent\n",
        "\n",
        "data[\"recently_released_prison(in the last 6 months)\"]= label_encoder.fit_transform(data[\"recently_released_prison(in the last 6 months)\"]) #1 yes i have, 0 no im havent\n",
        "\n",
        "data[\"education/training\"] = data[\"education/training\"].map({\"No\": 0 , \"Yes\": 1 , \"Asylum seeker\": 0 , \"asylum seeker\": 0 , \"Voluntary work in the charity sector\": 0 , \"Gym\": 0 , \"Just started a CSC 4 week course\": 1 ,\n",
        "                                                             \"starting at West London College Hammersmith next week\": 1 , \"Finalising my foundation in music therapy for people with dementia. I can assist music therapists or do music freelancing work with seniors\": 1 ,\n",
        "                                                             \"Not yet still waiting to do English\": 1 , \"Im on  the waiting list\": 0 , \"Im in the waiting list\": 0 , \"Croydon College\": 0 , \"ESOL\": 1}) #education = 0 #training = 1\n",
        "\n",
        "data[\"looked_after_or_care_leaver\"] = data[\"looked_after_or_care_leaver\"].map({\"No\": 0 , \"Yes\": 1 , \"Father\": 0 , \"Guardian\": 0 , \"young asylum seeker\": 1 , \"Yes by Hotel stuff\":1})  # 1 yes i am, 0 no im not\n",
        "\n",
        "data[\"seeking_asylum\"] = data[\"seeking_asylum\"].map({\"Victim of trafficking/modern slavery (NRM)\": 1 , \"Yes\": 1 , \"No\": 0 , \"Asylum seeker\": 1 , \"Refugee\": 0 , \"I am seeking Assylum in the UK\": 1 , \"Refugee Status (5 years)\": 0}) # 1 yes i am, 0 no im not\n",
        "\n",
        "data[\"youth_support\"] = data[\"youth_support\"].map({\"Advocacy worker\": 0 , \"Advocate\": 0 , \"No\": 0 , \"Yes\": 1 , \"Support worker from Hestia Charity\": 0 , \"Outreach Advocate\": 0 , \"refuge support worker\": 0 , \"Social Prescriber\": 0 ,\n",
        "                                                   \"Outreach Advocate Hestia Modern Slavery Response Team\": 0 , \"Im in the Home Office hotel accommodation\": 0 , \"Yes, No\": 0}) # 1 yes i am 0 no im not\n",
        "\n",
        "output_file = \"cleaned_data.csv\"\n",
        "data.to_csv(output_file, index=False)\n",
        "print(f\"Data saved as {output_file} after modifications.\")"
      ],
      "metadata": {
        "id": "HItn2rdLYOal"
      },
      "execution_count": null,
      "outputs": []
    },
    {
      "cell_type": "code",
      "source": [
        "data.info()"
      ],
      "metadata": {
        "id": "i5f12SXtBqEe"
      },
      "execution_count": null,
      "outputs": []
    },
    {
      "cell_type": "code",
      "source": [
        "# I perfomerd this to check if my code was succesfully executed\n",
        "data['Do_you_receive_Universal_Credit?'].value_counts()"
      ],
      "metadata": {
        "id": "4vMSDHSP53oX"
      },
      "execution_count": null,
      "outputs": []
    },
    {
      "cell_type": "code",
      "source": [
        "# I perfomerd this to check if my code was succesfully executed\n",
        "data['Do_you_receive_Universal_Credit?'].unique()"
      ],
      "metadata": {
        "id": "H2aH5wXXdtto"
      },
      "execution_count": null,
      "outputs": []
    },
    {
      "cell_type": "code",
      "source": [
        "# I perfomerd this to check if my code was succesfully executed\n",
        "data['recently_released_prison(in the last 6 months)'].value_counts()"
      ],
      "metadata": {
        "id": "MsnPYYNh50P1"
      },
      "execution_count": null,
      "outputs": []
    },
    {
      "cell_type": "code",
      "source": [
        "# I perfomerd this to check if my code was succesfully executed\n",
        "data['recently_released_prison(in the last 6 months)'].unique()"
      ],
      "metadata": {
        "id": "ElowG0P-dv20"
      },
      "execution_count": null,
      "outputs": []
    },
    {
      "cell_type": "code",
      "source": [
        "# I perfomerd this to check if my code was succesfully executed\n",
        "data['education/training'].value_counts()"
      ],
      "metadata": {
        "id": "cBiKm_dQ50sq"
      },
      "execution_count": null,
      "outputs": []
    },
    {
      "cell_type": "code",
      "source": [
        "# I perfomerd this to check if my code was succesfully executed\n",
        "data['education/training'].unique()"
      ],
      "metadata": {
        "id": "NHSGDlopdb2c"
      },
      "execution_count": null,
      "outputs": []
    },
    {
      "cell_type": "code",
      "source": [
        "# I perfomerd this to check if my code was succesfully executed\n",
        "data['looked_after_or_care_leaver'].value_counts()"
      ],
      "metadata": {
        "id": "DpKQDzdb51Rl"
      },
      "execution_count": null,
      "outputs": []
    },
    {
      "cell_type": "code",
      "source": [
        "# I perfomerd this to check if my code was succesfully executed\n",
        "data['looked_after_or_care_leaver'].unique()"
      ],
      "metadata": {
        "id": "XLpiKqWKddPu"
      },
      "execution_count": null,
      "outputs": []
    },
    {
      "cell_type": "code",
      "source": [
        "# I perfomerd this to check if my code was succesfully executed\n",
        "data['seeking_asylum'].value_counts()"
      ],
      "metadata": {
        "id": "_LNLrGRm51qp"
      },
      "execution_count": null,
      "outputs": []
    },
    {
      "cell_type": "code",
      "source": [
        "# I perfomerd this to check if my code was succesfully executed\n",
        "data['seeking_asylum'].unique()"
      ],
      "metadata": {
        "id": "fuOEj5-8dhAx"
      },
      "execution_count": null,
      "outputs": []
    },
    {
      "cell_type": "code",
      "source": [
        "# I perfomerd this to check if my code was succesfully executed\n",
        "data['youth_support'].value_counts()"
      ],
      "metadata": {
        "id": "CKfw9Lvr52eh"
      },
      "execution_count": null,
      "outputs": []
    },
    {
      "cell_type": "code",
      "source": [
        "# I perfomerd this to check if my code was succesfully executed\n",
        "data['youth_support'].unique()"
      ],
      "metadata": {
        "id": "78tH4nBedg4O"
      },
      "execution_count": null,
      "outputs": []
    },
    {
      "cell_type": "code",
      "source": [
        "data.info()"
      ],
      "metadata": {
        "id": "tkyKeDNPBgoz"
      },
      "execution_count": null,
      "outputs": []
    },
    {
      "cell_type": "code",
      "source": [
        "data['ethnicity'].fillna(data['ethnicity'].mode()[0], inplace=True)\n",
        "data['nationality'].fillna(data['nationality'].mode()[0], inplace=True)\n",
        "data['No_Of_Dependents/Children'].fillna(data['No_Of_Dependents/Children'].mode()[0], inplace=True)\n",
        "data['education/training'].fillna(data['education/training'].mode()[0], inplace=True)\n",
        "data['looked_after_or_care_leaver'].fillna(data['looked_after_or_care_leaver'].mode()[0], inplace=True)\n",
        "data['recently_released_prison(in the last 6 months)'].fillna(data['recently_released_prison(in the last 6 months)'].mode()[0], inplace=True)\n",
        "data['seeking_asylum'].fillna(data['seeking_asylum'].mode()[0], inplace=True)\n",
        "data['youth_support'].fillna(data['youth_support'].mode()[0], inplace=True)\n",
        "\n",
        "data.to_csv(\"/content/cleaned_data.csv\", index=False)\n",
        "\n",
        "print(\"Filling missing values completed!\")"
      ],
      "metadata": {
        "id": "YeN0HEJrBgEw"
      },
      "execution_count": null,
      "outputs": []
    },
    {
      "cell_type": "code",
      "source": [
        "data.info()"
      ],
      "metadata": {
        "id": "cEQ2_kHzBjCb"
      },
      "execution_count": null,
      "outputs": []
    },
    {
      "cell_type": "markdown",
      "source": [
        "# **Kelvin Code**"
      ],
      "metadata": {
        "id": "49iRD9H_ld3G"
      }
    },
    {
      "cell_type": "code",
      "source": [
        "print(data.describe(include=\"object\"))\n",
        "print(data.describe())"
      ],
      "metadata": {
        "id": "lUOi5cMEkflM"
      },
      "execution_count": null,
      "outputs": []
    },
    {
      "cell_type": "code",
      "source": [
        "import matplotlib.pyplot as plt\n",
        "import seaborn as sns\n",
        "\n",
        "#Define columns for histograms\n",
        "numeric_columns = [\"No_Of_Dependents/Children\", \"Do_you_receive_Universal_Credit?\",\n",
        "                   \"recently_released_prison(in the last 6 months)\", \"education/training\",\n",
        "                   \"looked_after_or_care_leaver\", \"seeking_asylum\", \"youth_support\"]\n",
        "#Iterate through numeric_columns to create histograms\n",
        "for col in numeric_columns:\n",
        "    binsCount = len(data[col].unique()) # do this otherwise the columns with binary values have too many bins\n",
        "    plt.figure(figsize=(8, 5))\n",
        "    sns.histplot(data[col], bins=binsCount,binwidth=2, discrete=True)\n",
        "    plt.xticks(sorted(data[col].dropna().unique())) # using this to make sure only the actual values appear , otherwise binary data columns are a range instead of actual values , e.g 0.1 , 0.2 , 03...1 etc\n",
        "    plt.title(col)\n",
        "    plt.xlabel(col)\n",
        "    plt.ylabel(\"Count\")\n",
        "    plt.show()"
      ],
      "metadata": {
        "id": "txBxzxv4lx81"
      },
      "execution_count": null,
      "outputs": []
    }
  ]
}