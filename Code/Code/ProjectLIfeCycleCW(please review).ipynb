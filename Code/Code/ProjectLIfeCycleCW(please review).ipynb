{
  "nbformat": 4,
  "nbformat_minor": 0,
  "metadata": {
    "colab": {
      "provenance": []
    },
    "kernelspec": {
      "name": "python3",
      "display_name": "Python 3"
    },
    "language_info": {
      "name": "python"
    }
  },
  "cells": [
    {
      "cell_type": "code",
      "execution_count": null,
      "metadata": {
        "id": "MaSJtRu7vmvY",
        "colab": {
          "base_uri": "https://localhost:8080/"
        },
        "outputId": "6850cf4e-d1c6-4f57-b039-3c9a9c47d35b"
      },
      "outputs": [
        {
          "output_type": "stream",
          "name": "stdout",
          "text": [
            "Requirement already satisfied: matplotlib in /usr/local/lib/python3.11/dist-packages (3.10.0)\n",
            "Requirement already satisfied: seaborn in /usr/local/lib/python3.11/dist-packages (0.13.2)\n",
            "Requirement already satisfied: contourpy>=1.0.1 in /usr/local/lib/python3.11/dist-packages (from matplotlib) (1.3.1)\n",
            "Requirement already satisfied: cycler>=0.10 in /usr/local/lib/python3.11/dist-packages (from matplotlib) (0.12.1)\n",
            "Requirement already satisfied: fonttools>=4.22.0 in /usr/local/lib/python3.11/dist-packages (from matplotlib) (4.56.0)\n",
            "Requirement already satisfied: kiwisolver>=1.3.1 in /usr/local/lib/python3.11/dist-packages (from matplotlib) (1.4.8)\n",
            "Requirement already satisfied: numpy>=1.23 in /usr/local/lib/python3.11/dist-packages (from matplotlib) (1.26.4)\n",
            "Requirement already satisfied: packaging>=20.0 in /usr/local/lib/python3.11/dist-packages (from matplotlib) (24.2)\n",
            "Requirement already satisfied: pillow>=8 in /usr/local/lib/python3.11/dist-packages (from matplotlib) (11.1.0)\n",
            "Requirement already satisfied: pyparsing>=2.3.1 in /usr/local/lib/python3.11/dist-packages (from matplotlib) (3.2.1)\n",
            "Requirement already satisfied: python-dateutil>=2.7 in /usr/local/lib/python3.11/dist-packages (from matplotlib) (2.8.2)\n",
            "Requirement already satisfied: pandas>=1.2 in /usr/local/lib/python3.11/dist-packages (from seaborn) (2.2.2)\n",
            "Requirement already satisfied: pytz>=2020.1 in /usr/local/lib/python3.11/dist-packages (from pandas>=1.2->seaborn) (2025.1)\n",
            "Requirement already satisfied: tzdata>=2022.7 in /usr/local/lib/python3.11/dist-packages (from pandas>=1.2->seaborn) (2025.1)\n",
            "Requirement already satisfied: six>=1.5 in /usr/local/lib/python3.11/dist-packages (from python-dateutil>=2.7->matplotlib) (1.17.0)\n"
          ]
        }
      ],
      "source": [
        "!pip install matplotlib seaborn\n",
        "import matplotlib.pyplot as plt\n",
        "import seaborn as sns\n",
        "import pandas as pd\n",
        "from sklearn import preprocessing\n",
        "\n",
        "data = pd.read_excel(\"/content/UoW Data 2024_25.xlsx\", sheet_name=1) #this function openes the second sheet within the excel file"
      ]
    },
    {
      "cell_type": "code",
      "source": [
        "data.info() #i used this function to view if i correctly openend the desired sheet, to view the columns and names, their data types and to view if there are any missing data"
      ],
      "metadata": {
        "colab": {
          "base_uri": "https://localhost:8080/"
        },
        "id": "6vDPJNzvULn7",
        "outputId": "d9582845-6b91-4dd7-d8b0-3c2a3a13fbb4"
      },
      "execution_count": null,
      "outputs": [
        {
          "output_type": "stream",
          "name": "stdout",
          "text": [
            "<class 'pandas.core.frame.DataFrame'>\n",
            "RangeIndex: 204 entries, 0 to 203\n",
            "Data columns (total 14 columns):\n",
            " #   Column                                                                        Non-Null Count  Dtype \n",
            "---  ------                                                                        --------------  ----- \n",
            " 0   Timestamp                                                                     132 non-null    object\n",
            " 1   Ethnicity                                                                     115 non-null    object\n",
            " 2   Nationality                                                                   112 non-null    object\n",
            " 3   No Of Dependents / Children                                                   100 non-null    object\n",
            " 4   Shoe Size (UK) \n",
            "Please enter a UK shoe size.                                  195 non-null    object\n",
            " 5   What are the shoes needed for?                                                114 non-null    object\n",
            " 6   Employment Status                                                             143 non-null    object\n",
            " 7   Do you receive Universal Credit?                                              114 non-null    object\n",
            " 8   Are you in education or training?                                             114 non-null    object\n",
            " 9   Are you a looked after child or care leaver?                                  114 non-null    object\n",
            " 10  Have you recently been released from prison? (in the last 6 months)           114 non-null    object\n",
            " 11  Are you seeking asylum in the UK? (Refugee)                                   114 non-null    object\n",
            " 12  Do you have a youth or social worker, youth offending or probation officer?   113 non-null    object\n",
            " 13  Where did you hear about Resole?                                              104 non-null    object\n",
            "dtypes: object(14)\n",
            "memory usage: 22.4+ KB\n"
          ]
        }
      ]
    },
    {
      "cell_type": "code",
      "source": [
        "#with this function i rename the colums by shortening them so it is more readable\n",
        "new_column_names = [\n",
        "    'Timestamp',\n",
        "    \"ethnicity\",\n",
        "    \"nationality\",\n",
        "    \"No_Of_Dependents/Children\",\n",
        "    \"uk_shoe_size\",\n",
        "    \"shoe_purpose\",\n",
        "    \"employment_status\",\n",
        "    \"Do_you_receive_Universal_Credit?\",\n",
        "    \"education/training\",\n",
        "    \"looked_after_or_care_leaver\",\n",
        "    \"recently_released_prison(in the last 6 months)\",\n",
        "    \"seeking_asylum\",\n",
        "    \"youth_support\",\n",
        "    \"resole_source\"\n",
        "]\n",
        "data.columns = new_column_names\n",
        "\n",
        "data.to_csv(\"cleaned_data.csv\", index=False)\n",
        "print(\"Data loaded and columns renamed successfully!\")"
      ],
      "metadata": {
        "colab": {
          "base_uri": "https://localhost:8080/"
        },
        "id": "9QgagT8TahJ2",
        "outputId": "707214a3-84e6-4ce2-8f85-132a0d5aff44"
      },
      "execution_count": null,
      "outputs": [
        {
          "output_type": "stream",
          "name": "stdout",
          "text": [
            "Data loaded and columns renamed successfully!\n"
          ]
        }
      ]
    },
    {
      "cell_type": "code",
      "source": [
        "#I have dropped these columns as they are unessary and serve no purpose for our task in hand\n",
        "data = data.drop(columns=(['Timestamp', \"uk_shoe_size\"]))"
      ],
      "metadata": {
        "id": "p9cNzXXbGBGV"
      },
      "execution_count": null,
      "outputs": []
    },
    {
      "cell_type": "code",
      "source": [
        "#With this code i created a heatmap that identified columns that have mising values\n",
        "missing_values = data.isnull().sum()\n",
        "print(\"Missing values per column:\\n\", missing_values)\n",
        "\n",
        "print(\"Data types:\\n\", data.dtypes)\n",
        "\n",
        "\n",
        "plt.figure(figsize=(12, 6))\n",
        "sns.heatmap(data.isnull(), cbar=False, cmap=\"viridis\", yticklabels=False)\n",
        "plt.title(\"Heatmap of Missing Values\")\n",
        "plt.show()"
      ],
      "metadata": {
        "colab": {
          "base_uri": "https://localhost:8080/",
          "height": 1000
        },
        "id": "N5FHMr2sX0-x",
        "outputId": "8f6da9d5-fe54-4410-ab4e-368c29021b00"
      },
      "execution_count": null,
      "outputs": [
        {
          "output_type": "stream",
          "name": "stdout",
          "text": [
            "Missing values per column:\n",
            " ethnicity                                          89\n",
            "nationality                                        92\n",
            "No_Of_Dependents/Children                         104\n",
            "shoe_purpose                                       90\n",
            "employment_status                                  61\n",
            "Do_you_receive_Universal_Credit?                   90\n",
            "education/training                                 90\n",
            "looked_after_or_care_leaver                        90\n",
            "recently_released_prison(in the last 6 months)     90\n",
            "seeking_asylum                                     90\n",
            "youth_support                                      91\n",
            "resole_source                                     100\n",
            "dtype: int64\n",
            "Data types:\n",
            " ethnicity                                         object\n",
            "nationality                                       object\n",
            "No_Of_Dependents/Children                         object\n",
            "shoe_purpose                                      object\n",
            "employment_status                                 object\n",
            "Do_you_receive_Universal_Credit?                  object\n",
            "education/training                                object\n",
            "looked_after_or_care_leaver                       object\n",
            "recently_released_prison(in the last 6 months)    object\n",
            "seeking_asylum                                    object\n",
            "youth_support                                     object\n",
            "resole_source                                     object\n",
            "dtype: object\n"
          ]
        },
        {
          "output_type": "display_data",
          "data": {
            "text/plain": [
              "<Figure size 1200x600 with 1 Axes>"
            ],
            "image/png": "[encoded data removed]"
          },
          "metadata": {}
        }
      ]
    },
    {
      "cell_type": "code",
      "source": [
        "data = data.dropna(thresh=len(data.columns)-3)  #This drops rows with 3 or more missing values (unsalvageable data)"
      ],
      "metadata": {
        "id": "5ygccVKl9eJ6"
      },
      "execution_count": null,
      "outputs": []
    },
    {
      "cell_type": "code",
      "source": [
        "data.isna().sum()/len(data)*100 #This function informs me of the percentage of missing values per column"
      ],
      "metadata": {
        "colab": {
          "base_uri": "https://localhost:8080/",
          "height": 461
        },
        "id": "HvUCO2ZqYOge",
        "outputId": "52b659e1-612f-4d96-a042-537336030fb5"
      },
      "execution_count": null,
      "outputs": [
        {
          "output_type": "execute_result",
          "data": {
            "text/plain": [
              "ethnicity                                          7.017544\n",
              "nationality                                        1.754386\n",
              "No_Of_Dependents/Children                         12.280702\n",
              "shoe_purpose                                       0.000000\n",
              "employment_status                                  0.000000\n",
              "Do_you_receive_Universal_Credit?                   0.000000\n",
              "education/training                                 0.000000\n",
              "looked_after_or_care_leaver                        0.000000\n",
              "recently_released_prison(in the last 6 months)     0.000000\n",
              "seeking_asylum                                     0.000000\n",
              "youth_support                                      0.877193\n",
              "resole_source                                      8.771930\n",
              "dtype: float64"
            ],
            "text/html": [
              "<div>\n",
              "<style scoped>\n",
              "    .dataframe tbody tr th:only-of-type {\n",
              "        vertical-align: middle;\n",
              "    }\n",
              "\n",
              "    .dataframe tbody tr th {\n",
              "        vertical-align: top;\n",
              "    }\n",
              "\n",
              "    .dataframe thead th {\n",
              "        text-align: right;\n",
              "    }\n",
              "</style>\n",
              "<table border=\"1\" class=\"dataframe\">\n",
              "  <thead>\n",
              "    <tr style=\"text-align: right;\">\n",
              "      <th></th>\n",
              "      <th>0</th>\n",
              "    </tr>\n",
              "  </thead>\n",
              "  <tbody>\n",
              "    <tr>\n",
              "      <th>ethnicity</th>\n",
              "      <td>7.017544</td>\n",
              "    </tr>\n",
              "    <tr>\n",
              "      <th>nationality</th>\n",
              "      <td>1.754386</td>\n",
              "    </tr>\n",
              "    <tr>\n",
              "      <th>No_Of_Dependents/Children</th>\n",
              "      <td>12.280702</td>\n",
              "    </tr>\n",
              "    <tr>\n",
              "      <th>shoe_purpose</th>\n",
              "      <td>0.000000</td>\n",
              "    </tr>\n",
              "    <tr>\n",
              "      <th>employment_status</th>\n",
              "      <td>0.000000</td>\n",
              "    </tr>\n",
              "    <tr>\n",
              "      <th>Do_you_receive_Universal_Credit?</th>\n",
              "      <td>0.000000</td>\n",
              "    </tr>\n",
              "    <tr>\n",
              "      <th>education/training</th>\n",
              "      <td>0.000000</td>\n",
              "    </tr>\n",
              "    <tr>\n",
              "      <th>looked_after_or_care_leaver</th>\n",
              "      <td>0.000000</td>\n",
              "    </tr>\n",
              "    <tr>\n",
              "      <th>recently_released_prison(in the last 6 months)</th>\n",
              "      <td>0.000000</td>\n",
              "    </tr>\n",
              "    <tr>\n",
              "      <th>seeking_asylum</th>\n",
              "      <td>0.000000</td>\n",
              "    </tr>\n",
              "    <tr>\n",
              "      <th>youth_support</th>\n",
              "      <td>0.877193</td>\n",
              "    </tr>\n",
              "    <tr>\n",
              "      <th>resole_source</th>\n",
              "      <td>8.771930</td>\n",
              "    </tr>\n",
              "  </tbody>\n",
              "</table>\n",
              "</div><br><label><b>dtype:</b> float64</label>"
            ]
          },
          "metadata": {},
          "execution_count": 7
        }
      ]
    },
    {
      "cell_type": "code",
      "source": [
        "#This function shows me all the values within this column so I would be able to standardise the values\n",
        "data[\"No_Of_Dependents/Children\"].unique()"
      ],
      "metadata": {
        "colab": {
          "base_uri": "https://localhost:8080/"
        },
        "id": "BUdzmtbe_GV0",
        "outputId": "6e4e0494-08e1-4634-f7d7-3419526c3a23"
      },
      "execution_count": null,
      "outputs": [
        {
          "output_type": "execute_result",
          "data": {
            "text/plain": [
              "array([0, 1, '3 kids', '3 chlid', 3, 'no', 'No', nan, 2, 5, 4, 'Children',\n",
              "       '3 childrens', 'I am alone', 'No '], dtype=object)"
            ]
          },
          "metadata": {},
          "execution_count": 8
        }
      ]
    },
    {
      "cell_type": "code",
      "source": [
        "data.info()"
      ],
      "metadata": {
        "colab": {
          "base_uri": "https://localhost:8080/"
        },
        "id": "dqAfmMqgByKB",
        "outputId": "3dff3640-513f-4e7c-a975-664090936303"
      },
      "execution_count": null,
      "outputs": [
        {
          "output_type": "stream",
          "name": "stdout",
          "text": [
            "<class 'pandas.core.frame.DataFrame'>\n",
            "Index: 114 entries, 89 to 203\n",
            "Data columns (total 12 columns):\n",
            " #   Column                                          Non-Null Count  Dtype \n",
            "---  ------                                          --------------  ----- \n",
            " 0   ethnicity                                       106 non-null    object\n",
            " 1   nationality                                     112 non-null    object\n",
            " 2   No_Of_Dependents/Children                       100 non-null    object\n",
            " 3   shoe_purpose                                    114 non-null    object\n",
            " 4   employment_status                               114 non-null    object\n",
            " 5   Do_you_receive_Universal_Credit?                114 non-null    object\n",
            " 6   education/training                              114 non-null    object\n",
            " 7   looked_after_or_care_leaver                     114 non-null    object\n",
            " 8   recently_released_prison(in the last 6 months)  114 non-null    object\n",
            " 9   seeking_asylum                                  114 non-null    object\n",
            " 10  youth_support                                   113 non-null    object\n",
            " 11  resole_source                                   104 non-null    object\n",
            "dtypes: object(12)\n",
            "memory usage: 11.6+ KB\n"
          ]
        }
      ]
    },
    {
      "cell_type": "code",
      "source": [
        "#With this block of code i encoded the values\n",
        "#data['No_Of_Dependents/Children'] = data['No_Of_Dependents/Children'].map({'3 kids': 3, '3 chlid': 3, 'no': 0, 'No': 0, 'No ': 0, 'Children': 1,'3 childrens': 3, 'I am alone': 0, '0': 0, '1': 1, '3': 3, '2': 2, '5': 5, '4': 4,})\n",
        "\n",
        "\n",
        "\n",
        "data.loc['No_of_Dependents/children'] = data['No_of_Dependents/children'].map({'3 kids': 3, '3 chlid': 3, 'no': 0, 'No': 0, 'No ': 0, 'Children': 1,'3 childrens': 3, 'I am alone': 0, '0': 0, '1': 1, '3': 3, '2': 2, '5': 5, '4': 4,})"
      ],
      "metadata": {
        "colab": {
          "base_uri": "https://localhost:8080/",
          "height": 547
        },
        "id": "vUdQsXmf-5W0",
        "outputId": "1e134d29-f4b0-40b0-ba8f-0b89d835f09b"
      },
      "execution_count": null,
      "outputs": [
        {
          "output_type": "error",
          "ename": "KeyError",
          "evalue": "'No_of_Dependents/children'",
          "traceback": [
            "\u001b[0;31m---------------------------------------------------------------------------\u001b[0m",
            "\u001b[0;31mKeyError\u001b[0m                                  Traceback (most recent call last)",
            "\u001b[0;32m/usr/local/lib/python3.11/dist-packages/pandas/core/indexes/base.py\u001b[0m in \u001b[0;36mget_loc\u001b[0;34m(self, key)\u001b[0m\n\u001b[1;32m   3804\u001b[0m         \u001b[0;32mtry\u001b[0m\u001b[0;34m:\u001b[0m\u001b[0;34m\u001b[0m\u001b[0;34m\u001b[0m\u001b[0m\n\u001b[0;32m-> 3805\u001b[0;31m             \u001b[0;32mreturn\u001b[0m \u001b[0mself\u001b[0m\u001b[0;34m.\u001b[0m\u001b[0m_engine\u001b[0m\u001b[0;34m.\u001b[0m\u001b[0mget_loc\u001b[0m\u001b[0;34m(\u001b[0m\u001b[0mcasted_key\u001b[0m\u001b[0;34m)\u001b[0m\u001b[0;34m\u001b[0m\u001b[0;34m\u001b[0m\u001b[0m\n\u001b[0m\u001b[1;32m   3806\u001b[0m         \u001b[0;32mexcept\u001b[0m \u001b[0mKeyError\u001b[0m \u001b[0;32mas\u001b[0m \u001b[0merr\u001b[0m\u001b[0;34m:\u001b[0m\u001b[0;34m\u001b[0m\u001b[0;34m\u001b[0m\u001b[0m\n",
            "\u001b[0;32mindex.pyx\u001b[0m in \u001b[0;36mpandas._libs.index.IndexEngine.get_loc\u001b[0;34m()\u001b[0m\n",
            "\u001b[0;32mindex.pyx\u001b[0m in \u001b[0;36mpandas._libs.index.IndexEngine.get_loc\u001b[0;34m()\u001b[0m\n",
            "\u001b[0;32mpandas/_libs/hashtable_class_helper.pxi\u001b[0m in \u001b[0;36mpandas._libs.hashtable.PyObjectHashTable.get_item\u001b[0;34m()\u001b[0m\n",
            "\u001b[0;32mpandas/_libs/hashtable_class_helper.pxi\u001b[0m in \u001b[0;36mpandas._libs.hashtable.PyObjectHashTable.get_item\u001b[0;34m()\u001b[0m\n",
            "\u001b[0;31mKeyError\u001b[0m: 'No_of_Dependents/children'",
            "\nThe above exception was the direct cause of the following exception:\n",
            "\u001b[0;31mKeyError\u001b[0m                                  Traceback (most recent call last)",
            "\u001b[0;32m<ipython-input-13-73f0ad5a30e9>\u001b[0m in \u001b[0;36m<cell line: 0>\u001b[0;34m()\u001b[0m\n\u001b[1;32m      4\u001b[0m \u001b[0;34m\u001b[0m\u001b[0m\n\u001b[1;32m      5\u001b[0m \u001b[0;34m\u001b[0m\u001b[0m\n\u001b[0;32m----> 6\u001b[0;31m \u001b[0mdata\u001b[0m\u001b[0;34m.\u001b[0m\u001b[0mloc\u001b[0m\u001b[0;34m[\u001b[0m\u001b[0;34m'No_of_Dependents/children'\u001b[0m\u001b[0;34m]\u001b[0m \u001b[0;34m=\u001b[0m \u001b[0mdata\u001b[0m\u001b[0;34m[\u001b[0m\u001b[0;34m'No_of_Dependents/children'\u001b[0m\u001b[0;34m]\u001b[0m\u001b[0;34m.\u001b[0m\u001b[0mmap\u001b[0m\u001b[0;34m(\u001b[0m\u001b[0;34m{\u001b[0m\u001b[0;34m'3 kids'\u001b[0m\u001b[0;34m:\u001b[0m \u001b[0;36m3\u001b[0m\u001b[0;34m,\u001b[0m \u001b[0;34m'3 chlid'\u001b[0m\u001b[0;34m:\u001b[0m \u001b[0;36m3\u001b[0m\u001b[0;34m,\u001b[0m \u001b[0;34m'no'\u001b[0m\u001b[0;34m:\u001b[0m \u001b[0;36m0\u001b[0m\u001b[0;34m,\u001b[0m \u001b[0;34m'No'\u001b[0m\u001b[0;34m:\u001b[0m \u001b[0;36m0\u001b[0m\u001b[0;34m,\u001b[0m \u001b[0;34m'No '\u001b[0m\u001b[0;34m:\u001b[0m \u001b[0;36m0\u001b[0m\u001b[0;34m,\u001b[0m \u001b[0;34m'Children'\u001b[0m\u001b[0;34m:\u001b[0m \u001b[0;36m1\u001b[0m\u001b[0;34m,\u001b[0m\u001b[0;34m'3 childrens'\u001b[0m\u001b[0;34m:\u001b[0m \u001b[0;36m3\u001b[0m\u001b[0;34m,\u001b[0m \u001b[0;34m'I am alone'\u001b[0m\u001b[0;34m:\u001b[0m \u001b[0;36m0\u001b[0m\u001b[0;34m,\u001b[0m \u001b[0;34m'0'\u001b[0m\u001b[0;34m:\u001b[0m \u001b[0;36m0\u001b[0m\u001b[0;34m,\u001b[0m \u001b[0;34m'1'\u001b[0m\u001b[0;34m:\u001b[0m \u001b[0;36m1\u001b[0m\u001b[0;34m,\u001b[0m \u001b[0;34m'3'\u001b[0m\u001b[0;34m:\u001b[0m \u001b[0;36m3\u001b[0m\u001b[0;34m,\u001b[0m \u001b[0;34m'2'\u001b[0m\u001b[0;34m:\u001b[0m \u001b[0;36m2\u001b[0m\u001b[0;34m,\u001b[0m \u001b[0;34m'5'\u001b[0m\u001b[0;34m:\u001b[0m \u001b[0;36m5\u001b[0m\u001b[0;34m,\u001b[0m \u001b[0;34m'4'\u001b[0m\u001b[0;34m:\u001b[0m \u001b[0;36m4\u001b[0m\u001b[0;34m,\u001b[0m\u001b[0;34m}\u001b[0m\u001b[0;34m)\u001b[0m\u001b[0;34m\u001b[0m\u001b[0;34m\u001b[0m\u001b[0m\n\u001b[0m",
            "\u001b[0;32m/usr/local/lib/python3.11/dist-packages/pandas/core/frame.py\u001b[0m in \u001b[0;36m__getitem__\u001b[0;34m(self, key)\u001b[0m\n\u001b[1;32m   4100\u001b[0m             \u001b[0;32mif\u001b[0m \u001b[0mself\u001b[0m\u001b[0;34m.\u001b[0m\u001b[0mcolumns\u001b[0m\u001b[0;34m.\u001b[0m\u001b[0mnlevels\u001b[0m \u001b[0;34m>\u001b[0m \u001b[0;36m1\u001b[0m\u001b[0;34m:\u001b[0m\u001b[0;34m\u001b[0m\u001b[0;34m\u001b[0m\u001b[0m\n\u001b[1;32m   4101\u001b[0m                 \u001b[0;32mreturn\u001b[0m \u001b[0mself\u001b[0m\u001b[0;34m.\u001b[0m\u001b[0m_getitem_multilevel\u001b[0m\u001b[0;34m(\u001b[0m\u001b[0mkey\u001b[0m\u001b[0;34m)\u001b[0m\u001b[0;34m\u001b[0m\u001b[0;34m\u001b[0m\u001b[0m\n\u001b[0;32m-> 4102\u001b[0;31m             \u001b[0mindexer\u001b[0m \u001b[0;34m=\u001b[0m \u001b[0mself\u001b[0m\u001b[0;34m.\u001b[0m\u001b[0mcolumns\u001b[0m\u001b[0;34m.\u001b[0m\u001b[0mget_loc\u001b[0m\u001b[0;34m(\u001b[0m\u001b[0mkey\u001b[0m\u001b[0;34m)\u001b[0m\u001b[0;34m\u001b[0m\u001b[0;34m\u001b[0m\u001b[0m\n\u001b[0m\u001b[1;32m   4103\u001b[0m             \u001b[0;32mif\u001b[0m \u001b[0mis_integer\u001b[0m\u001b[0;34m(\u001b[0m\u001b[0mindexer\u001b[0m\u001b[0;34m)\u001b[0m\u001b[0;34m:\u001b[0m\u001b[0;34m\u001b[0m\u001b[0;34m\u001b[0m\u001b[0m\n\u001b[1;32m   4104\u001b[0m                 \u001b[0mindexer\u001b[0m \u001b[0;34m=\u001b[0m \u001b[0;34m[\u001b[0m\u001b[0mindexer\u001b[0m\u001b[0;34m]\u001b[0m\u001b[0;34m\u001b[0m\u001b[0;34m\u001b[0m\u001b[0m\n",
            "\u001b[0;32m/usr/local/lib/python3.11/dist-packages/pandas/core/indexes/base.py\u001b[0m in \u001b[0;36mget_loc\u001b[0;34m(self, key)\u001b[0m\n\u001b[1;32m   3810\u001b[0m             ):\n\u001b[1;32m   3811\u001b[0m                 \u001b[0;32mraise\u001b[0m \u001b[0mInvalidIndexError\u001b[0m\u001b[0;34m(\u001b[0m\u001b[0mkey\u001b[0m\u001b[0;34m)\u001b[0m\u001b[0;34m\u001b[0m\u001b[0;34m\u001b[0m\u001b[0m\n\u001b[0;32m-> 3812\u001b[0;31m             \u001b[0;32mraise\u001b[0m \u001b[0mKeyError\u001b[0m\u001b[0;34m(\u001b[0m\u001b[0mkey\u001b[0m\u001b[0;34m)\u001b[0m \u001b[0;32mfrom\u001b[0m \u001b[0merr\u001b[0m\u001b[0;34m\u001b[0m\u001b[0;34m\u001b[0m\u001b[0m\n\u001b[0m\u001b[1;32m   3813\u001b[0m         \u001b[0;32mexcept\u001b[0m \u001b[0mTypeError\u001b[0m\u001b[0;34m:\u001b[0m\u001b[0;34m\u001b[0m\u001b[0;34m\u001b[0m\u001b[0m\n\u001b[1;32m   3814\u001b[0m             \u001b[0;31m# If we have a listlike key, _check_indexing_error will raise\u001b[0m\u001b[0;34m\u001b[0m\u001b[0;34m\u001b[0m\u001b[0m\n",
            "\u001b[0;31mKeyError\u001b[0m: 'No_of_Dependents/children'"
          ]
        }
      ]
    },
    {
      "cell_type": "code",
      "source": [
        "data.info()"
      ],
      "metadata": {
        "id": "OoITUpBFBxfb"
      },
      "execution_count": null,
      "outputs": []
    },
    {
      "cell_type": "code",
      "source": [
        "# I perfomerd this to check if my code was succesfully executed\n",
        "data[\"No_Of_Dependents/Children\"].unique()"
      ],
      "metadata": {
        "id": "Qt3s2oqKAVGM"
      },
      "execution_count": null,
      "outputs": []
    },
    {
      "cell_type": "code",
      "source": [
        "#This function shows me all the values within this column so I would be able to standardise the values\n",
        "data['ethnicity'].unique()"
      ],
      "metadata": {
        "id": "GKvCwpFBclkf"
      },
      "execution_count": null,
      "outputs": []
    },
    {
      "cell_type": "code",
      "source": [
        "# this code shoes the distribution of values so i am able to compare the before and after to see if the standardising was executed correctly\n",
        "data['ethnicity'].value_counts()"
      ],
      "metadata": {
        "id": "V_NLNhQb-mpq"
      },
      "execution_count": null,
      "outputs": []
    },
    {
      "cell_type": "code",
      "source": [
        "#This function shows me all the values within this column so I would be able to standardise the values\n",
        "data['nationality'].unique()"
      ],
      "metadata": {
        "id": "Y8PahSUCeZja"
      },
      "execution_count": null,
      "outputs": []
    },
    {
      "cell_type": "code",
      "source": [
        "# this code shoes the distribution of values so i am able to compare the before and after to see if the standardising was executed correctly\n",
        "data['nationality'].value_counts()"
      ],
      "metadata": {
        "id": "4CZIBHZ6-s3P"
      },
      "execution_count": null,
      "outputs": []
    },
    {
      "cell_type": "code",
      "source": [
        "#with this code i mapped the ethnicity and nationality columns to standardise them\n",
        "\n",
        "ethnicity_mapping = {\n",
        "    \"Asian or Asian British\": [\"Asian\", \"South Asian\", \"Pakistan\", \"Balochistan (Pakistan)\", \"India\", \"Indian\", \"Bangladeshi\", \"Bangladeshi \", \"Filipino\", \"Srilankan \"],\n",
        "\n",
        "    \"Black, Black British, Caribbean or African\": [\"British African\", \"African caribbean british\", \"African\", \"African caribbean british \", \"Caribbean british \", \"Caribbean\", \"Black \",\n",
        "                                                   \"Black Caribbean \", \"Black African\", \"Black African \", \"Black British \", \"Black british \", \"Black - African\",\n",
        "                                                   \"Africa \", \"Africans \", \"African \", \"Sierra Leonean \", \"Eritrean\", \"Ethiopian\", \"Sudanese\", \"Africans  Black \", \"Black\", \"Black  Caribbean \"],\n",
        "\n",
        "    \"Mixed or Multiple Ethnic Groups\": [\"Mixed\", \"Mixed Race \", \"Mix\", \"Mix black white\", \"Europe mixed raced\"],\n",
        "\n",
        "    \"White\": [\"British\", \"British \", \"White\", \"White \", \"White / English\", \"White British\", \"EUROPIAN\", \"English\", \"Irish\", \"German\", \"Romanian\", \"Polish\", \"Spanish\", \"albanian\", \"Cypriot\"],\n",
        "\n",
        "    \"Other Ethnic Groups\": [\"Kurdish\", \"Kurd\", \"Irani \", \"Iran\", \"Persian\", \"Iranian\", \"Arab\", \"Arab \", \"Arab without kuwait\", \"Arabic\", \"South american\", \"Latino\", \"Latioamericana\", \"Afghani\", \"Afghani \", \"Afghanistan \", \"Afghan\"],\n",
        "\n",
        "    \"Unknown\": [\"Not know\", \"male\", \"london\"]\n",
        "\n",
        "\n",
        "}\n",
        "\n",
        "nationality_mapping = {\n",
        "\n",
        "    \"Asian\": [\"Asian\"],\n",
        "\n",
        "    \"Afghanistan\" : [\"Afghan\", \"Afghani\", \"Afghanistan\", \"Afghanistan \"],\n",
        "\n",
        "    \"Pakistani\" : [\"Pakistani \", \"Balochistani\"],\n",
        "\n",
        "    \"Indian\" : [\"Indian\"],\n",
        "\n",
        "    \"Srilankan\" : [\"Srilankan \"],\n",
        "\n",
        "    \"Carribea\": [\"Carribean \"],\n",
        "\n",
        "    \"Gambian\": [\"Gambian\"],\n",
        "\n",
        "    \"Mauritian\": [\"Mauritian\"],\n",
        "\n",
        "    \"Congolese\": [\"Congolese \", \"Democratic Republic of Congo \"],\n",
        "\n",
        "    \"Chadian\": [\"Chadian \"],\n",
        "\n",
        "    \"Somali\": [\"SOMALI\"],\n",
        "\n",
        "    \"Sierra Leonean\": [\"Sierra leone\"],\n",
        "\n",
        "    \"Eritrean\": [\"Eritrean \", \"Eritrean\"],\n",
        "\n",
        "    \"Ethiopian\": [\"Ethiopian \", \"Ethiopian\"],\n",
        "\n",
        "    \"Sudanese\": [\"Sudanese \"],\n",
        "\n",
        "    \"Botswanaan\": [\"Motswana \", \"Motswana0\", \"Motswana\"],\n",
        "\n",
        "    \"Namibian\": [\"Namibian\"],\n",
        "\n",
        "    \"Egypt\": [\"Egypt\"],\n",
        "\n",
        "    \"Nigera\": [\"Nigerian \", \"Nigeria \"],\n",
        "\n",
        "    \"German\": [\"German \"],\n",
        "\n",
        "    \"Spanish\": [\"Spanish \", \"Spanish\"],\n",
        "\n",
        "    \"Italian\": [\"Italian \"],\n",
        "\n",
        "    \"Albanian\": [\"Albanian\", \"ALBENIAN\", \"albania\"],\n",
        "\n",
        "    \"British\": [\"Kittisian/British\", \"British\", \"British \", \"Brithish\", \"Brit \", \"English\", \"UK national\", \"Uk\"],\n",
        "\n",
        "    \"Irish\": [\"irish\"],\n",
        "\n",
        "    \"Romania\": [\"Romanian\"],\n",
        "\n",
        "    \"Polish\": [\"Polish\"],\n",
        "\n",
        "    \"Iran\": [\"Iranian \", \"Iranian\", \"Iran\", \"Iran \"],\n",
        "\n",
        "    \"Kuwait\": [\"Kuwait\"],\n",
        "\n",
        "    \"Jordanian\": [\"Jordanian\"],\n",
        "\n",
        "    \"Iraqi\": [\"Iraqi\"],\n",
        "\n",
        "    \"Syrian\": [\"Syrian\", \"Syria \"],\n",
        "\n",
        "    \"Yemen\": [\"Yemen\"],\n",
        "\n",
        "    \"Brazil\": [\"Brasileiro \", \"Brazilian\"],\n",
        "\n",
        "    \"Colombian\": [\"Colombia \"],\n",
        "\n",
        "    \"Venezuelan\": [\"Venezuelan\"],\n",
        "\n",
        "    \"Unknown\": [\"Refugee Status granted in 2024\", \"Asylum seeker\", \"Not known\"]\n",
        "\n",
        "}\n",
        "\n",
        "\n",
        "def standardize_column_values(column, mapping):\n",
        "    for standard, variants in mapping.items():\n",
        "        column = column.replace(variants, standard)\n",
        "    return column\n",
        "\n",
        "\n",
        "data[\"ethnicity\"] = standardize_column_values(data[\"ethnicity\"], ethnicity_mapping)\n",
        "data[\"nationality\"] = standardize_column_values(data[\"nationality\"], nationality_mapping)\n",
        "\n",
        "\n",
        "cleaned_file_path = \"/content/cleaned_data.csv\"\n",
        "data.to_csv(cleaned_file_path, index=False)\n",
        "\n",
        "cleaned_file_path"
      ],
      "metadata": {
        "id": "NSr_QrUb7Mh0"
      },
      "execution_count": null,
      "outputs": []
    },
    {
      "cell_type": "code",
      "source": [
        "# I perfomerd this to check if my code was succesfully executed\n",
        "data['ethnicity'].unique()"
      ],
      "metadata": {
        "id": "TQ4hsiyuembf"
      },
      "execution_count": null,
      "outputs": []
    },
    {
      "cell_type": "code",
      "source": [
        "# I perfomerd this to check if my code was succesfully executed\n",
        "data['ethnicity'].value_counts()"
      ],
      "metadata": {
        "id": "BbtZNnwz-u3g"
      },
      "execution_count": null,
      "outputs": []
    },
    {
      "cell_type": "code",
      "source": [
        "# I perfomerd this to check if my code was succesfully executed\n",
        "data['nationality'].unique()"
      ],
      "metadata": {
        "id": "lnFKYFCkeqcR"
      },
      "execution_count": null,
      "outputs": []
    },
    {
      "cell_type": "code",
      "source": [
        "# I perfomerd this to check if my code was succesfully executed\n",
        "data['nationality'].value_counts()"
      ],
      "metadata": {
        "id": "4lYDU0bF-urG"
      },
      "execution_count": null,
      "outputs": []
    },
    {
      "cell_type": "code",
      "source": [
        "#This function shows me all the values within this column so I would be able to standardise the values\n",
        "data['Do_you_receive_Universal_Credit?'].unique()"
      ],
      "metadata": {
        "id": "W5llx9lwzAux"
      },
      "execution_count": null,
      "outputs": []
    },
    {
      "cell_type": "code",
      "source": [
        "# this code shoes the distribution of values so i am able to compare the before and after to see if the standardising was executed correctly\n",
        "data['Do_you_receive_Universal_Credit?'].value_counts()"
      ],
      "metadata": {
        "id": "O7CICkXE6Q4j"
      },
      "execution_count": null,
      "outputs": []
    },
    {
      "cell_type": "code",
      "source": [
        "#This function shows me all the values within this column so I would be able to standardise the values\n",
        "data['recently_released_prison(in the last 6 months)'].unique()"
      ],
      "metadata": {
        "id": "k2Q8DLnwziAo"
      },
      "execution_count": null,
      "outputs": []
    },
    {
      "cell_type": "code",
      "source": [
        "# this code shoes the distribution of values so i am able to compare the before and after to see if the standardising was executed correctly\n",
        "data['recently_released_prison(in the last 6 months)'].value_counts()"
      ],
      "metadata": {
        "id": "BX2lydwI6QAV"
      },
      "execution_count": null,
      "outputs": []
    },
    {
      "cell_type": "code",
      "source": [
        "#This function shows me all the values within this column so I would be able to standardise the values\n",
        "data['education/training'].unique()"
      ],
      "metadata": {
        "id": "Wrqb6jTMzIQf"
      },
      "execution_count": null,
      "outputs": []
    },
    {
      "cell_type": "code",
      "source": [
        "# this code shoes the distribution of values so i am able to compare the before and after to see if the standardising was executed correctly\n",
        "data['education/training'].value_counts()"
      ],
      "metadata": {
        "id": "-C-P5GaW6Og1"
      },
      "execution_count": null,
      "outputs": []
    },
    {
      "cell_type": "code",
      "source": [
        "#This function shows me all the values within this column so I would be able to standardise the values\n",
        "data['looked_after_or_care_leaver'].unique()"
      ],
      "metadata": {
        "id": "rpio2ceezWNj"
      },
      "execution_count": null,
      "outputs": []
    },
    {
      "cell_type": "code",
      "source": [
        "# this code shoes the distribution of values so i am able to compare the before and after to see if the standardising was executed correctly\n",
        "data['looked_after_or_care_leaver'].value_counts()"
      ],
      "metadata": {
        "id": "rQvVzVfW6MYT"
      },
      "execution_count": null,
      "outputs": []
    },
    {
      "cell_type": "code",
      "source": [
        "#This function shows me all the values within this column so I would be able to standardise the values\n",
        "data['seeking_asylum'].unique()"
      ],
      "metadata": {
        "id": "9kFzC4hWzEnQ"
      },
      "execution_count": null,
      "outputs": []
    },
    {
      "cell_type": "code",
      "source": [
        "# this code shoes the distribution of values so i am able to compare the before and after to see if the standardising was executed correctly\n",
        "data['seeking_asylum'].value_counts()"
      ],
      "metadata": {
        "id": "Iv5mnwen6KEJ"
      },
      "execution_count": null,
      "outputs": []
    },
    {
      "cell_type": "code",
      "source": [
        "#This function shows me all the values within this column so I would be able to standardise the values\n",
        "data['youth_support'].unique()"
      ],
      "metadata": {
        "id": "bE3Qxb7qzrtr"
      },
      "execution_count": null,
      "outputs": []
    },
    {
      "cell_type": "code",
      "source": [
        "# this code shoes the distribution of values so i am able to compare the before and after to see if the standardising was executed correctly\n",
        "data['youth_support'].value_counts()"
      ],
      "metadata": {
        "id": "QfxvTZQv6I4d"
      },
      "execution_count": null,
      "outputs": []
    },
    {
      "cell_type": "code",
      "source": [
        "data.info()"
      ],
      "metadata": {
        "id": "9hIuFKuRBscO"
      },
      "execution_count": null,
      "outputs": []
    },
    {
      "cell_type": "code",
      "source": [
        "#with this code i encoded and mapped the following variables in order to make the dataset more readable\n",
        "label_encoder = preprocessing.LabelEncoder()\n",
        "\n",
        "data[\"Do_you_receive_Universal_Credit?\"]= label_encoder.fit_transform(data[\"Do_you_receive_Universal_Credit?\"]) #1 yes i have, 0 no im havent\n",
        "\n",
        "data[\"recently_released_prison(in the last 6 months)\"]= label_encoder.fit_transform(data[\"recently_released_prison(in the last 6 months)\"]) #1 yes i have, 0 no im havent\n",
        "\n",
        "data[\"education/training\"] = data[\"education/training\"].map({\"No\": 0 , \"Yes\": 1 , \"Asylum seeker\": 0 , \"asylum seeker\": 0 , \"Voluntary work in the charity sector\": 0 , \"Gym\": 0 , \"Just started a CSC 4 week course\": 1 ,\n",
        "                                                             \"starting at West London College Hammersmith next week\": 1 , \"Finalising my foundation in music therapy for people with dementia. I can assist music therapists or do music freelancing work with seniors\": 1 ,\n",
        "                                                             \"Not yet still waiting to do English\": 1 , \"Im on  the waiting list\": 0 , \"Im in the waiting list\": 0 , \"Croydon College\": 0 , \"ESOL\": 1}) #education = 0 #training = 1\n",
        "\n",
        "data[\"looked_after_or_care_leaver\"] = data[\"looked_after_or_care_leaver\"].map({\"No\": 0 , \"Yes\": 1 , \"Father\": 0 , \"Guardian\": 0 , \"young asylum seeker\": 1 , \"Yes by Hotel stuff\":1})  # 1 yes i am, 0 no im not\n",
        "\n",
        "data[\"seeking_asylum\"] = data[\"seeking_asylum\"].map({\"Victim of trafficking/modern slavery (NRM)\": 1 , \"Yes\": 1 , \"No\": 0 , \"Asylum seeker\": 1 , \"Refugee\": 0 , \"I am seeking Assylum in the UK\": 1 , \"Refugee Status (5 years)\": 0}) # 1 yes i am, 0 no im not\n",
        "\n",
        "data[\"youth_support\"] = data[\"youth_support\"].map({\"Advocacy worker\": 0 , \"Advocate\": 0 , \"No\": 0 , \"Yes\": 1 , \"Support worker from Hestia Charity\": 0 , \"Outreach Advocate\": 0 , \"refuge support worker\": 0 , \"Social Prescriber\": 0 ,\n",
        "                                                   \"Outreach Advocate Hestia Modern Slavery Response Team\": 0 , \"Im in the Home Office hotel accommodation\": 0 , \"Yes, No\": 0}) # 1 yes i am 0 no im not\n",
        "\n",
        "output_file = \"cleaned_data.csv\"\n",
        "data.to_csv(output_file, index=False)\n",
        "print(f\"Data saved as {output_file} after modifications.\")"
      ],
      "metadata": {
        "id": "HItn2rdLYOal"
      },
      "execution_count": null,
      "outputs": []
    },
    {
      "cell_type": "code",
      "source": [
        "data.info()"
      ],
      "metadata": {
        "id": "i5f12SXtBqEe"
      },
      "execution_count": null,
      "outputs": []
    },
    {
      "cell_type": "code",
      "source": [
        "# I perfomerd this to check if my code was succesfully executed\n",
        "data['Do_you_receive_Universal_Credit?'].value_counts()"
      ],
      "metadata": {
        "id": "4vMSDHSP53oX"
      },
      "execution_count": null,
      "outputs": []
    },
    {
      "cell_type": "code",
      "source": [
        "# I perfomerd this to check if my code was succesfully executed\n",
        "data['Do_you_receive_Universal_Credit?'].unique()"
      ],
      "metadata": {
        "id": "H2aH5wXXdtto"
      },
      "execution_count": null,
      "outputs": []
    },
    {
      "cell_type": "code",
      "source": [
        "# I perfomerd this to check if my code was succesfully executed\n",
        "data['recently_released_prison(in the last 6 months)'].value_counts()"
      ],
      "metadata": {
        "id": "MsnPYYNh50P1"
      },
      "execution_count": null,
      "outputs": []
    },
    {
      "cell_type": "code",
      "source": [
        "# I perfomerd this to check if my code was succesfully executed\n",
        "data['recently_released_prison(in the last 6 months)'].unique()"
      ],
      "metadata": {
        "id": "ElowG0P-dv20"
      },
      "execution_count": null,
      "outputs": []
    },
    {
      "cell_type": "code",
      "source": [
        "# I perfomerd this to check if my code was succesfully executed\n",
        "data['education/training'].value_counts()"
      ],
      "metadata": {
        "id": "cBiKm_dQ50sq"
      },
      "execution_count": null,
      "outputs": []
    },
    {
      "cell_type": "code",
      "source": [
        "# I perfomerd this to check if my code was succesfully executed\n",
        "data['education/training'].unique()"
      ],
      "metadata": {
        "id": "NHSGDlopdb2c"
      },
      "execution_count": null,
      "outputs": []
    },
    {
      "cell_type": "code",
      "source": [
        "# I perfomerd this to check if my code was succesfully executed\n",
        "data['looked_after_or_care_leaver'].value_counts()"
      ],
      "metadata": {
        "id": "DpKQDzdb51Rl"
      },
      "execution_count": null,
      "outputs": []
    },
    {
      "cell_type": "code",
      "source": [
        "# I perfomerd this to check if my code was succesfully executed\n",
        "data['looked_after_or_care_leaver'].unique()"
      ],
      "metadata": {
        "id": "XLpiKqWKddPu"
      },
      "execution_count": null,
      "outputs": []
    },
    {
      "cell_type": "code",
      "source": [
        "# I perfomerd this to check if my code was succesfully executed\n",
        "data['seeking_asylum'].value_counts()"
      ],
      "metadata": {
        "id": "_LNLrGRm51qp"
      },
      "execution_count": null,
      "outputs": []
    },
    {
      "cell_type": "code",
      "source": [
        "# I perfomerd this to check if my code was succesfully executed\n",
        "data['seeking_asylum'].unique()"
      ],
      "metadata": {
        "id": "fuOEj5-8dhAx"
      },
      "execution_count": null,
      "outputs": []
    },
    {
      "cell_type": "code",
      "source": [
        "# I perfomerd this to check if my code was succesfully executed\n",
        "data['youth_support'].value_counts()"
      ],
      "metadata": {
        "id": "CKfw9Lvr52eh"
      },
      "execution_count": null,
      "outputs": []
    },
    {
      "cell_type": "code",
      "source": [
        "# I perfomerd this to check if my code was succesfully executed\n",
        "data['youth_support'].unique()"
      ],
      "metadata": {
        "id": "78tH4nBedg4O"
      },
      "execution_count": null,
      "outputs": []
    },
    {
      "cell_type": "code",
      "source": [
        "data.info()"
      ],
      "metadata": {
        "id": "tkyKeDNPBgoz"
      },
      "execution_count": null,
      "outputs": []
    },
    {
      "cell_type": "code",
      "source": [
        "data['ethnicity'].fillna(data['ethnicity'].mode()[0], inplace=True)\n",
        "data['nationality'].fillna(data['nationality'].mode()[0], inplace=True)\n",
        "data['No_Of_Dependents/Children'].fillna(data['No_Of_Dependents/Children'].mode()[0], inplace=True)\n",
        "data['education/training'].fillna(data['education/training'].mode()[0], inplace=True)\n",
        "data['looked_after_or_care_leaver'].fillna(data['looked_after_or_care_leaver'].mode()[0], inplace=True)\n",
        "data['recently_released_prison(in the last 6 months)'].fillna(data['recently_released_prison(in the last 6 months)'].mode()[0], inplace=True)\n",
        "data['seeking_asylum'].fillna(data['seeking_asylum'].mode()[0], inplace=True)\n",
        "data['youth_support'].fillna(data['youth_support'].mode()[0], inplace=True)\n",
        "\n",
        "data.to_csv(\"/content/cleaned_data.csv\", index=False)\n",
        "\n",
        "print(\"Filling missing values completed!\")"
      ],
      "metadata": {
        "id": "YeN0HEJrBgEw"
      },
      "execution_count": null,
      "outputs": []
    },
    {
      "cell_type": "code",
      "source": [
        "data.info()"
      ],
      "metadata": {
        "id": "cEQ2_kHzBjCb"
      },
      "execution_count": null,
      "outputs": []
    }
  ]
}